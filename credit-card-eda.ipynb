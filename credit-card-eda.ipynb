{
 "cells": [
  {
   "cell_type": "markdown",
   "metadata": {},
   "source": [
    "To the README: [README](./README.md)<br/>\n",
    "\n",
    "--------------------------------------------------------------------------------"
   ]
  },
  {
   "cell_type": "markdown",
   "metadata": {},
   "source": [
    "# Credit Card: EDA\n",
    "\n",
    "## Reading and Understanding"
   ]
  },
  {
   "cell_type": "code",
   "execution_count": 1,
   "metadata": {},
   "outputs": [],
   "source": [
    "# Import base packages\n",
    "import numpy as np\n",
    "import pandas as pd\n",
    "import matplotlib.pyplot as plt\n",
    "import seaborn as sns\n",
    "\n",
    "from utils.style import Colors\n",
    "import utils.credit_card as util\n",
    "from utils.credit_card import Col"
   ]
  },
  {
   "cell_type": "code",
   "execution_count": 2,
   "metadata": {},
   "outputs": [],
   "source": [
    "# Load data\n",
    "data = pd.read_csv(util.File.original)"
   ]
  },
  {
   "cell_type": "code",
   "execution_count": 3,
   "metadata": {},
   "outputs": [
    {
     "data": {
      "text/html": [
       "<div>\n",
       "<style scoped>\n",
       "    .dataframe tbody tr th:only-of-type {\n",
       "        vertical-align: middle;\n",
       "    }\n",
       "\n",
       "    .dataframe tbody tr th {\n",
       "        vertical-align: top;\n",
       "    }\n",
       "\n",
       "    .dataframe thead th {\n",
       "        text-align: right;\n",
       "    }\n",
       "</style>\n",
       "<table border=\"1\" class=\"dataframe\">\n",
       "  <thead>\n",
       "    <tr style=\"text-align: right;\">\n",
       "      <th></th>\n",
       "      <th>Time</th>\n",
       "      <th>V1</th>\n",
       "      <th>V2</th>\n",
       "      <th>V3</th>\n",
       "      <th>V4</th>\n",
       "      <th>V5</th>\n",
       "      <th>V6</th>\n",
       "      <th>V7</th>\n",
       "      <th>V8</th>\n",
       "      <th>V9</th>\n",
       "      <th>...</th>\n",
       "      <th>V21</th>\n",
       "      <th>V22</th>\n",
       "      <th>V23</th>\n",
       "      <th>V24</th>\n",
       "      <th>V25</th>\n",
       "      <th>V26</th>\n",
       "      <th>V27</th>\n",
       "      <th>V28</th>\n",
       "      <th>Amount</th>\n",
       "      <th>Class</th>\n",
       "    </tr>\n",
       "  </thead>\n",
       "  <tbody>\n",
       "    <tr>\n",
       "      <th>0</th>\n",
       "      <td>0.0</td>\n",
       "      <td>-1.359807</td>\n",
       "      <td>-0.072781</td>\n",
       "      <td>2.536347</td>\n",
       "      <td>1.378155</td>\n",
       "      <td>-0.338321</td>\n",
       "      <td>0.462388</td>\n",
       "      <td>0.239599</td>\n",
       "      <td>0.098698</td>\n",
       "      <td>0.363787</td>\n",
       "      <td>...</td>\n",
       "      <td>-0.018307</td>\n",
       "      <td>0.277838</td>\n",
       "      <td>-0.110474</td>\n",
       "      <td>0.066928</td>\n",
       "      <td>0.128539</td>\n",
       "      <td>-0.189115</td>\n",
       "      <td>0.133558</td>\n",
       "      <td>-0.021053</td>\n",
       "      <td>149.62</td>\n",
       "      <td>0</td>\n",
       "    </tr>\n",
       "    <tr>\n",
       "      <th>1</th>\n",
       "      <td>0.0</td>\n",
       "      <td>1.191857</td>\n",
       "      <td>0.266151</td>\n",
       "      <td>0.166480</td>\n",
       "      <td>0.448154</td>\n",
       "      <td>0.060018</td>\n",
       "      <td>-0.082361</td>\n",
       "      <td>-0.078803</td>\n",
       "      <td>0.085102</td>\n",
       "      <td>-0.255425</td>\n",
       "      <td>...</td>\n",
       "      <td>-0.225775</td>\n",
       "      <td>-0.638672</td>\n",
       "      <td>0.101288</td>\n",
       "      <td>-0.339846</td>\n",
       "      <td>0.167170</td>\n",
       "      <td>0.125895</td>\n",
       "      <td>-0.008983</td>\n",
       "      <td>0.014724</td>\n",
       "      <td>2.69</td>\n",
       "      <td>0</td>\n",
       "    </tr>\n",
       "    <tr>\n",
       "      <th>2</th>\n",
       "      <td>1.0</td>\n",
       "      <td>-1.358354</td>\n",
       "      <td>-1.340163</td>\n",
       "      <td>1.773209</td>\n",
       "      <td>0.379780</td>\n",
       "      <td>-0.503198</td>\n",
       "      <td>1.800499</td>\n",
       "      <td>0.791461</td>\n",
       "      <td>0.247676</td>\n",
       "      <td>-1.514654</td>\n",
       "      <td>...</td>\n",
       "      <td>0.247998</td>\n",
       "      <td>0.771679</td>\n",
       "      <td>0.909412</td>\n",
       "      <td>-0.689281</td>\n",
       "      <td>-0.327642</td>\n",
       "      <td>-0.139097</td>\n",
       "      <td>-0.055353</td>\n",
       "      <td>-0.059752</td>\n",
       "      <td>378.66</td>\n",
       "      <td>0</td>\n",
       "    </tr>\n",
       "    <tr>\n",
       "      <th>3</th>\n",
       "      <td>1.0</td>\n",
       "      <td>-0.966272</td>\n",
       "      <td>-0.185226</td>\n",
       "      <td>1.792993</td>\n",
       "      <td>-0.863291</td>\n",
       "      <td>-0.010309</td>\n",
       "      <td>1.247203</td>\n",
       "      <td>0.237609</td>\n",
       "      <td>0.377436</td>\n",
       "      <td>-1.387024</td>\n",
       "      <td>...</td>\n",
       "      <td>-0.108300</td>\n",
       "      <td>0.005274</td>\n",
       "      <td>-0.190321</td>\n",
       "      <td>-1.175575</td>\n",
       "      <td>0.647376</td>\n",
       "      <td>-0.221929</td>\n",
       "      <td>0.062723</td>\n",
       "      <td>0.061458</td>\n",
       "      <td>123.50</td>\n",
       "      <td>0</td>\n",
       "    </tr>\n",
       "    <tr>\n",
       "      <th>4</th>\n",
       "      <td>2.0</td>\n",
       "      <td>-1.158233</td>\n",
       "      <td>0.877737</td>\n",
       "      <td>1.548718</td>\n",
       "      <td>0.403034</td>\n",
       "      <td>-0.407193</td>\n",
       "      <td>0.095921</td>\n",
       "      <td>0.592941</td>\n",
       "      <td>-0.270533</td>\n",
       "      <td>0.817739</td>\n",
       "      <td>...</td>\n",
       "      <td>-0.009431</td>\n",
       "      <td>0.798278</td>\n",
       "      <td>-0.137458</td>\n",
       "      <td>0.141267</td>\n",
       "      <td>-0.206010</td>\n",
       "      <td>0.502292</td>\n",
       "      <td>0.219422</td>\n",
       "      <td>0.215153</td>\n",
       "      <td>69.99</td>\n",
       "      <td>0</td>\n",
       "    </tr>\n",
       "  </tbody>\n",
       "</table>\n",
       "<p>5 rows × 31 columns</p>\n",
       "</div>"
      ],
      "text/plain": [
       "   Time        V1        V2        V3        V4        V5        V6        V7  \\\n",
       "0   0.0 -1.359807 -0.072781  2.536347  1.378155 -0.338321  0.462388  0.239599   \n",
       "1   0.0  1.191857  0.266151  0.166480  0.448154  0.060018 -0.082361 -0.078803   \n",
       "2   1.0 -1.358354 -1.340163  1.773209  0.379780 -0.503198  1.800499  0.791461   \n",
       "3   1.0 -0.966272 -0.185226  1.792993 -0.863291 -0.010309  1.247203  0.237609   \n",
       "4   2.0 -1.158233  0.877737  1.548718  0.403034 -0.407193  0.095921  0.592941   \n",
       "\n",
       "         V8        V9  ...       V21       V22       V23       V24       V25  \\\n",
       "0  0.098698  0.363787  ... -0.018307  0.277838 -0.110474  0.066928  0.128539   \n",
       "1  0.085102 -0.255425  ... -0.225775 -0.638672  0.101288 -0.339846  0.167170   \n",
       "2  0.247676 -1.514654  ...  0.247998  0.771679  0.909412 -0.689281 -0.327642   \n",
       "3  0.377436 -1.387024  ... -0.108300  0.005274 -0.190321 -1.175575  0.647376   \n",
       "4 -0.270533  0.817739  ... -0.009431  0.798278 -0.137458  0.141267 -0.206010   \n",
       "\n",
       "        V26       V27       V28  Amount  Class  \n",
       "0 -0.189115  0.133558 -0.021053  149.62      0  \n",
       "1  0.125895 -0.008983  0.014724    2.69      0  \n",
       "2 -0.139097 -0.055353 -0.059752  378.66      0  \n",
       "3 -0.221929  0.062723  0.061458  123.50      0  \n",
       "4  0.502292  0.219422  0.215153   69.99      0  \n",
       "\n",
       "[5 rows x 31 columns]"
      ]
     },
     "execution_count": 3,
     "metadata": {},
     "output_type": "execute_result"
    }
   ],
   "source": [
    "# First five rows\n",
    "data.head()"
   ]
  },
  {
   "cell_type": "code",
   "execution_count": 4,
   "metadata": {},
   "outputs": [
    {
     "name": "stdout",
     "output_type": "stream",
     "text": [
      "<class 'pandas.core.frame.DataFrame'>\n",
      "RangeIndex: 284807 entries, 0 to 284806\n",
      "Data columns (total 31 columns):\n",
      " #   Column  Non-Null Count   Dtype  \n",
      "---  ------  --------------   -----  \n",
      " 0   Time    284807 non-null  float64\n",
      " 1   V1      284807 non-null  float64\n",
      " 2   V2      284807 non-null  float64\n",
      " 3   V3      284807 non-null  float64\n",
      " 4   V4      284807 non-null  float64\n",
      " 5   V5      284807 non-null  float64\n",
      " 6   V6      284807 non-null  float64\n",
      " 7   V7      284807 non-null  float64\n",
      " 8   V8      284807 non-null  float64\n",
      " 9   V9      284807 non-null  float64\n",
      " 10  V10     284807 non-null  float64\n",
      " 11  V11     284807 non-null  float64\n",
      " 12  V12     284807 non-null  float64\n",
      " 13  V13     284807 non-null  float64\n",
      " 14  V14     284807 non-null  float64\n",
      " 15  V15     284807 non-null  float64\n",
      " 16  V16     284807 non-null  float64\n",
      " 17  V17     284807 non-null  float64\n",
      " 18  V18     284807 non-null  float64\n",
      " 19  V19     284807 non-null  float64\n",
      " 20  V20     284807 non-null  float64\n",
      " 21  V21     284807 non-null  float64\n",
      " 22  V22     284807 non-null  float64\n",
      " 23  V23     284807 non-null  float64\n",
      " 24  V24     284807 non-null  float64\n",
      " 25  V25     284807 non-null  float64\n",
      " 26  V26     284807 non-null  float64\n",
      " 27  V27     284807 non-null  float64\n",
      " 28  V28     284807 non-null  float64\n",
      " 29  Amount  284807 non-null  float64\n",
      " 30  Class   284807 non-null  int64  \n",
      "dtypes: float64(30), int64(1)\n",
      "memory usage: 67.4 MB\n"
     ]
    }
   ],
   "source": [
    "# Info\n",
    "data.info()"
   ]
  },
  {
   "cell_type": "code",
   "execution_count": 5,
   "metadata": {},
   "outputs": [
    {
     "data": {
      "text/html": [
       "<div>\n",
       "<style scoped>\n",
       "    .dataframe tbody tr th:only-of-type {\n",
       "        vertical-align: middle;\n",
       "    }\n",
       "\n",
       "    .dataframe tbody tr th {\n",
       "        vertical-align: top;\n",
       "    }\n",
       "\n",
       "    .dataframe thead th {\n",
       "        text-align: right;\n",
       "    }\n",
       "</style>\n",
       "<table border=\"1\" class=\"dataframe\">\n",
       "  <thead>\n",
       "    <tr style=\"text-align: right;\">\n",
       "      <th></th>\n",
       "      <th>Time</th>\n",
       "      <th>V1</th>\n",
       "      <th>V2</th>\n",
       "      <th>V3</th>\n",
       "      <th>V4</th>\n",
       "      <th>V5</th>\n",
       "      <th>V6</th>\n",
       "      <th>V7</th>\n",
       "      <th>V8</th>\n",
       "      <th>V9</th>\n",
       "      <th>...</th>\n",
       "      <th>V21</th>\n",
       "      <th>V22</th>\n",
       "      <th>V23</th>\n",
       "      <th>V24</th>\n",
       "      <th>V25</th>\n",
       "      <th>V26</th>\n",
       "      <th>V27</th>\n",
       "      <th>V28</th>\n",
       "      <th>Amount</th>\n",
       "      <th>Class</th>\n",
       "    </tr>\n",
       "  </thead>\n",
       "  <tbody>\n",
       "    <tr>\n",
       "      <th>count</th>\n",
       "      <td>284807.000000</td>\n",
       "      <td>2.848070e+05</td>\n",
       "      <td>2.848070e+05</td>\n",
       "      <td>2.848070e+05</td>\n",
       "      <td>2.848070e+05</td>\n",
       "      <td>2.848070e+05</td>\n",
       "      <td>2.848070e+05</td>\n",
       "      <td>2.848070e+05</td>\n",
       "      <td>2.848070e+05</td>\n",
       "      <td>2.848070e+05</td>\n",
       "      <td>...</td>\n",
       "      <td>2.848070e+05</td>\n",
       "      <td>2.848070e+05</td>\n",
       "      <td>2.848070e+05</td>\n",
       "      <td>2.848070e+05</td>\n",
       "      <td>2.848070e+05</td>\n",
       "      <td>2.848070e+05</td>\n",
       "      <td>2.848070e+05</td>\n",
       "      <td>2.848070e+05</td>\n",
       "      <td>284807.000000</td>\n",
       "      <td>284807.000000</td>\n",
       "    </tr>\n",
       "    <tr>\n",
       "      <th>mean</th>\n",
       "      <td>94813.859575</td>\n",
       "      <td>1.168375e-15</td>\n",
       "      <td>3.416908e-16</td>\n",
       "      <td>-1.379537e-15</td>\n",
       "      <td>2.074095e-15</td>\n",
       "      <td>9.604066e-16</td>\n",
       "      <td>1.487313e-15</td>\n",
       "      <td>-5.556467e-16</td>\n",
       "      <td>1.213481e-16</td>\n",
       "      <td>-2.406331e-15</td>\n",
       "      <td>...</td>\n",
       "      <td>1.654067e-16</td>\n",
       "      <td>-3.568593e-16</td>\n",
       "      <td>2.578648e-16</td>\n",
       "      <td>4.473266e-15</td>\n",
       "      <td>5.340915e-16</td>\n",
       "      <td>1.683437e-15</td>\n",
       "      <td>-3.660091e-16</td>\n",
       "      <td>-1.227390e-16</td>\n",
       "      <td>88.349619</td>\n",
       "      <td>0.001727</td>\n",
       "    </tr>\n",
       "    <tr>\n",
       "      <th>std</th>\n",
       "      <td>47488.145955</td>\n",
       "      <td>1.958696e+00</td>\n",
       "      <td>1.651309e+00</td>\n",
       "      <td>1.516255e+00</td>\n",
       "      <td>1.415869e+00</td>\n",
       "      <td>1.380247e+00</td>\n",
       "      <td>1.332271e+00</td>\n",
       "      <td>1.237094e+00</td>\n",
       "      <td>1.194353e+00</td>\n",
       "      <td>1.098632e+00</td>\n",
       "      <td>...</td>\n",
       "      <td>7.345240e-01</td>\n",
       "      <td>7.257016e-01</td>\n",
       "      <td>6.244603e-01</td>\n",
       "      <td>6.056471e-01</td>\n",
       "      <td>5.212781e-01</td>\n",
       "      <td>4.822270e-01</td>\n",
       "      <td>4.036325e-01</td>\n",
       "      <td>3.300833e-01</td>\n",
       "      <td>250.120109</td>\n",
       "      <td>0.041527</td>\n",
       "    </tr>\n",
       "    <tr>\n",
       "      <th>min</th>\n",
       "      <td>0.000000</td>\n",
       "      <td>-5.640751e+01</td>\n",
       "      <td>-7.271573e+01</td>\n",
       "      <td>-4.832559e+01</td>\n",
       "      <td>-5.683171e+00</td>\n",
       "      <td>-1.137433e+02</td>\n",
       "      <td>-2.616051e+01</td>\n",
       "      <td>-4.355724e+01</td>\n",
       "      <td>-7.321672e+01</td>\n",
       "      <td>-1.343407e+01</td>\n",
       "      <td>...</td>\n",
       "      <td>-3.483038e+01</td>\n",
       "      <td>-1.093314e+01</td>\n",
       "      <td>-4.480774e+01</td>\n",
       "      <td>-2.836627e+00</td>\n",
       "      <td>-1.029540e+01</td>\n",
       "      <td>-2.604551e+00</td>\n",
       "      <td>-2.256568e+01</td>\n",
       "      <td>-1.543008e+01</td>\n",
       "      <td>0.000000</td>\n",
       "      <td>0.000000</td>\n",
       "    </tr>\n",
       "    <tr>\n",
       "      <th>25%</th>\n",
       "      <td>54201.500000</td>\n",
       "      <td>-9.203734e-01</td>\n",
       "      <td>-5.985499e-01</td>\n",
       "      <td>-8.903648e-01</td>\n",
       "      <td>-8.486401e-01</td>\n",
       "      <td>-6.915971e-01</td>\n",
       "      <td>-7.682956e-01</td>\n",
       "      <td>-5.540759e-01</td>\n",
       "      <td>-2.086297e-01</td>\n",
       "      <td>-6.430976e-01</td>\n",
       "      <td>...</td>\n",
       "      <td>-2.283949e-01</td>\n",
       "      <td>-5.423504e-01</td>\n",
       "      <td>-1.618463e-01</td>\n",
       "      <td>-3.545861e-01</td>\n",
       "      <td>-3.171451e-01</td>\n",
       "      <td>-3.269839e-01</td>\n",
       "      <td>-7.083953e-02</td>\n",
       "      <td>-5.295979e-02</td>\n",
       "      <td>5.600000</td>\n",
       "      <td>0.000000</td>\n",
       "    </tr>\n",
       "    <tr>\n",
       "      <th>50%</th>\n",
       "      <td>84692.000000</td>\n",
       "      <td>1.810880e-02</td>\n",
       "      <td>6.548556e-02</td>\n",
       "      <td>1.798463e-01</td>\n",
       "      <td>-1.984653e-02</td>\n",
       "      <td>-5.433583e-02</td>\n",
       "      <td>-2.741871e-01</td>\n",
       "      <td>4.010308e-02</td>\n",
       "      <td>2.235804e-02</td>\n",
       "      <td>-5.142873e-02</td>\n",
       "      <td>...</td>\n",
       "      <td>-2.945017e-02</td>\n",
       "      <td>6.781943e-03</td>\n",
       "      <td>-1.119293e-02</td>\n",
       "      <td>4.097606e-02</td>\n",
       "      <td>1.659350e-02</td>\n",
       "      <td>-5.213911e-02</td>\n",
       "      <td>1.342146e-03</td>\n",
       "      <td>1.124383e-02</td>\n",
       "      <td>22.000000</td>\n",
       "      <td>0.000000</td>\n",
       "    </tr>\n",
       "    <tr>\n",
       "      <th>75%</th>\n",
       "      <td>139320.500000</td>\n",
       "      <td>1.315642e+00</td>\n",
       "      <td>8.037239e-01</td>\n",
       "      <td>1.027196e+00</td>\n",
       "      <td>7.433413e-01</td>\n",
       "      <td>6.119264e-01</td>\n",
       "      <td>3.985649e-01</td>\n",
       "      <td>5.704361e-01</td>\n",
       "      <td>3.273459e-01</td>\n",
       "      <td>5.971390e-01</td>\n",
       "      <td>...</td>\n",
       "      <td>1.863772e-01</td>\n",
       "      <td>5.285536e-01</td>\n",
       "      <td>1.476421e-01</td>\n",
       "      <td>4.395266e-01</td>\n",
       "      <td>3.507156e-01</td>\n",
       "      <td>2.409522e-01</td>\n",
       "      <td>9.104512e-02</td>\n",
       "      <td>7.827995e-02</td>\n",
       "      <td>77.165000</td>\n",
       "      <td>0.000000</td>\n",
       "    </tr>\n",
       "    <tr>\n",
       "      <th>max</th>\n",
       "      <td>172792.000000</td>\n",
       "      <td>2.454930e+00</td>\n",
       "      <td>2.205773e+01</td>\n",
       "      <td>9.382558e+00</td>\n",
       "      <td>1.687534e+01</td>\n",
       "      <td>3.480167e+01</td>\n",
       "      <td>7.330163e+01</td>\n",
       "      <td>1.205895e+02</td>\n",
       "      <td>2.000721e+01</td>\n",
       "      <td>1.559499e+01</td>\n",
       "      <td>...</td>\n",
       "      <td>2.720284e+01</td>\n",
       "      <td>1.050309e+01</td>\n",
       "      <td>2.252841e+01</td>\n",
       "      <td>4.584549e+00</td>\n",
       "      <td>7.519589e+00</td>\n",
       "      <td>3.517346e+00</td>\n",
       "      <td>3.161220e+01</td>\n",
       "      <td>3.384781e+01</td>\n",
       "      <td>25691.160000</td>\n",
       "      <td>1.000000</td>\n",
       "    </tr>\n",
       "  </tbody>\n",
       "</table>\n",
       "<p>8 rows × 31 columns</p>\n",
       "</div>"
      ],
      "text/plain": [
       "                Time            V1            V2            V3            V4  \\\n",
       "count  284807.000000  2.848070e+05  2.848070e+05  2.848070e+05  2.848070e+05   \n",
       "mean    94813.859575  1.168375e-15  3.416908e-16 -1.379537e-15  2.074095e-15   \n",
       "std     47488.145955  1.958696e+00  1.651309e+00  1.516255e+00  1.415869e+00   \n",
       "min         0.000000 -5.640751e+01 -7.271573e+01 -4.832559e+01 -5.683171e+00   \n",
       "25%     54201.500000 -9.203734e-01 -5.985499e-01 -8.903648e-01 -8.486401e-01   \n",
       "50%     84692.000000  1.810880e-02  6.548556e-02  1.798463e-01 -1.984653e-02   \n",
       "75%    139320.500000  1.315642e+00  8.037239e-01  1.027196e+00  7.433413e-01   \n",
       "max    172792.000000  2.454930e+00  2.205773e+01  9.382558e+00  1.687534e+01   \n",
       "\n",
       "                 V5            V6            V7            V8            V9  \\\n",
       "count  2.848070e+05  2.848070e+05  2.848070e+05  2.848070e+05  2.848070e+05   \n",
       "mean   9.604066e-16  1.487313e-15 -5.556467e-16  1.213481e-16 -2.406331e-15   \n",
       "std    1.380247e+00  1.332271e+00  1.237094e+00  1.194353e+00  1.098632e+00   \n",
       "min   -1.137433e+02 -2.616051e+01 -4.355724e+01 -7.321672e+01 -1.343407e+01   \n",
       "25%   -6.915971e-01 -7.682956e-01 -5.540759e-01 -2.086297e-01 -6.430976e-01   \n",
       "50%   -5.433583e-02 -2.741871e-01  4.010308e-02  2.235804e-02 -5.142873e-02   \n",
       "75%    6.119264e-01  3.985649e-01  5.704361e-01  3.273459e-01  5.971390e-01   \n",
       "max    3.480167e+01  7.330163e+01  1.205895e+02  2.000721e+01  1.559499e+01   \n",
       "\n",
       "       ...           V21           V22           V23           V24  \\\n",
       "count  ...  2.848070e+05  2.848070e+05  2.848070e+05  2.848070e+05   \n",
       "mean   ...  1.654067e-16 -3.568593e-16  2.578648e-16  4.473266e-15   \n",
       "std    ...  7.345240e-01  7.257016e-01  6.244603e-01  6.056471e-01   \n",
       "min    ... -3.483038e+01 -1.093314e+01 -4.480774e+01 -2.836627e+00   \n",
       "25%    ... -2.283949e-01 -5.423504e-01 -1.618463e-01 -3.545861e-01   \n",
       "50%    ... -2.945017e-02  6.781943e-03 -1.119293e-02  4.097606e-02   \n",
       "75%    ...  1.863772e-01  5.285536e-01  1.476421e-01  4.395266e-01   \n",
       "max    ...  2.720284e+01  1.050309e+01  2.252841e+01  4.584549e+00   \n",
       "\n",
       "                V25           V26           V27           V28         Amount  \\\n",
       "count  2.848070e+05  2.848070e+05  2.848070e+05  2.848070e+05  284807.000000   \n",
       "mean   5.340915e-16  1.683437e-15 -3.660091e-16 -1.227390e-16      88.349619   \n",
       "std    5.212781e-01  4.822270e-01  4.036325e-01  3.300833e-01     250.120109   \n",
       "min   -1.029540e+01 -2.604551e+00 -2.256568e+01 -1.543008e+01       0.000000   \n",
       "25%   -3.171451e-01 -3.269839e-01 -7.083953e-02 -5.295979e-02       5.600000   \n",
       "50%    1.659350e-02 -5.213911e-02  1.342146e-03  1.124383e-02      22.000000   \n",
       "75%    3.507156e-01  2.409522e-01  9.104512e-02  7.827995e-02      77.165000   \n",
       "max    7.519589e+00  3.517346e+00  3.161220e+01  3.384781e+01   25691.160000   \n",
       "\n",
       "               Class  \n",
       "count  284807.000000  \n",
       "mean        0.001727  \n",
       "std         0.041527  \n",
       "min         0.000000  \n",
       "25%         0.000000  \n",
       "50%         0.000000  \n",
       "75%         0.000000  \n",
       "max         1.000000  \n",
       "\n",
       "[8 rows x 31 columns]"
      ]
     },
     "execution_count": 5,
     "metadata": {},
     "output_type": "execute_result"
    }
   ],
   "source": [
    "# Descriptive statistics\n",
    "data.describe()"
   ]
  },
  {
   "cell_type": "markdown",
   "metadata": {},
   "source": [
    "### Findings\n",
    "\n",
    "The (original) data frame consists of $284,807$ records and $31$ features.\n",
    "\n",
    "28 of those features appear to be an encoded/ encrypted representation of information related to the credit card or the transaction.\n",
    "Those features with column names `V1` to `V28` appear to be centred around $0$, but with individual standard deviations as well as individual limits.\n",
    "\n",
    "There is a `Time` column in the dataset with `float` values, ranging from $0.0$ to $172,792.0$.\n",
    "Those numbers suggest that we are actually looking at a time distance with respect to an arbitrary reference point in time.\n",
    "The maximum, $172,792.0 \\approx 47.998 \\cdot 60^2$, suggests that we are looking at a range of $48\\ h$.\n",
    "\n",
    "The `Amount` column, consisting of `float`ing point numbers again, represents the transaction amount.\n",
    "Having no further information on that, we may assume it's the amount in USD.\n",
    "The fact that the minimum amount present is $0.0$ could be either an error or it could represent a test transaction to see if an account exists.\n",
    "\n",
    "Finally, the `Class` column consists of `int`egers exclusively.\n",
    "We may assume that, upon closer inspection, we will find only two distinct values - $0$ and $1$ - indicating whether or not the record belongs to a regular or a fradulent transaction.  This will be our prediction target for the later machine learning part.\n",
    "\n",
    "Before we jump to conclusions, however, let us check our assumption:"
   ]
  },
  {
   "cell_type": "code",
   "execution_count": 6,
   "metadata": {},
   "outputs": [
    {
     "name": "stdout",
     "output_type": "stream",
     "text": [
      "The column \"Class\" contains 2 unique values:\n",
      "[0 1]\n"
     ]
    }
   ],
   "source": [
    "print(f'The column \"Class\" contains {data.Class.nunique()} unique values:\\n{data.Class.unique()}')"
   ]
  },
  {
   "cell_type": "markdown",
   "metadata": {},
   "source": [
    "Which one is the fraud, which one represents the genuine transactions?"
   ]
  },
  {
   "cell_type": "code",
   "execution_count": 7,
   "metadata": {},
   "outputs": [
    {
     "data": {
      "text/plain": [
       "Class\n",
       "0    284315\n",
       "1       492\n",
       "Name: count, dtype: int64"
      ]
     },
     "execution_count": 7,
     "metadata": {},
     "output_type": "execute_result"
    }
   ],
   "source": [
    "data.Class.value_counts()"
   ]
  },
  {
   "cell_type": "markdown",
   "metadata": {},
   "source": [
    "It is likely that the $284,315$ records with class $0$ are to be considered the genuine transactions, and the remaining $492$ records with class $1$ are the frauds."
   ]
  },
  {
   "cell_type": "markdown",
   "metadata": {},
   "source": [
    "## Missing Values\n",
    "\n",
    "Although it is clear from carefully looking at the output from cell 4 (`data.info()`) that there are no missing values, let's be sure:"
   ]
  },
  {
   "cell_type": "code",
   "execution_count": 10,
   "metadata": {},
   "outputs": [
    {
     "data": {
      "text/plain": [
       "Series([], dtype: int64)"
      ]
     },
     "execution_count": 10,
     "metadata": {},
     "output_type": "execute_result"
    }
   ],
   "source": [
    "null_counts = data.isnull().sum()\n",
    "null_counts[null_counts>0]"
   ]
  },
  {
   "cell_type": "markdown",
   "metadata": {},
   "source": [
    "Getting an empty series means that there are no missing entries in the data frame.\n",
    "\n",
    "## Duplicates"
   ]
  },
  {
   "cell_type": "code",
   "execution_count": 9,
   "metadata": {},
   "outputs": [
    {
     "data": {
      "text/plain": [
       "1081"
      ]
     },
     "execution_count": 9,
     "metadata": {},
     "output_type": "execute_result"
    }
   ],
   "source": [
    "data.duplicated().sum()"
   ]
  },
  {
   "cell_type": "markdown",
   "metadata": {},
   "source": [
    "The dataset consists of $1081$ duplicate records."
   ]
  },
  {
   "cell_type": "code",
   "execution_count": 10,
   "metadata": {},
   "outputs": [
    {
     "data": {
      "text/html": [
       "<div>\n",
       "<style scoped>\n",
       "    .dataframe tbody tr th:only-of-type {\n",
       "        vertical-align: middle;\n",
       "    }\n",
       "\n",
       "    .dataframe tbody tr th {\n",
       "        vertical-align: top;\n",
       "    }\n",
       "\n",
       "    .dataframe thead th {\n",
       "        text-align: right;\n",
       "    }\n",
       "</style>\n",
       "<table border=\"1\" class=\"dataframe\">\n",
       "  <thead>\n",
       "    <tr style=\"text-align: right;\">\n",
       "      <th></th>\n",
       "      <th>Time</th>\n",
       "      <th>Amount</th>\n",
       "      <th>Class</th>\n",
       "    </tr>\n",
       "  </thead>\n",
       "  <tbody>\n",
       "    <tr>\n",
       "      <th>33</th>\n",
       "      <td>26.0</td>\n",
       "      <td>6.14</td>\n",
       "      <td>0</td>\n",
       "    </tr>\n",
       "    <tr>\n",
       "      <th>35</th>\n",
       "      <td>26.0</td>\n",
       "      <td>1.77</td>\n",
       "      <td>0</td>\n",
       "    </tr>\n",
       "    <tr>\n",
       "      <th>113</th>\n",
       "      <td>74.0</td>\n",
       "      <td>1.18</td>\n",
       "      <td>0</td>\n",
       "    </tr>\n",
       "    <tr>\n",
       "      <th>114</th>\n",
       "      <td>74.0</td>\n",
       "      <td>1.18</td>\n",
       "      <td>0</td>\n",
       "    </tr>\n",
       "    <tr>\n",
       "      <th>115</th>\n",
       "      <td>74.0</td>\n",
       "      <td>1.18</td>\n",
       "      <td>0</td>\n",
       "    </tr>\n",
       "    <tr>\n",
       "      <th>221</th>\n",
       "      <td>145.0</td>\n",
       "      <td>6.00</td>\n",
       "      <td>0</td>\n",
       "    </tr>\n",
       "    <tr>\n",
       "      <th>223</th>\n",
       "      <td>145.0</td>\n",
       "      <td>6.74</td>\n",
       "      <td>0</td>\n",
       "    </tr>\n",
       "    <tr>\n",
       "      <th>1178</th>\n",
       "      <td>919.0</td>\n",
       "      <td>158.00</td>\n",
       "      <td>0</td>\n",
       "    </tr>\n",
       "    <tr>\n",
       "      <th>1180</th>\n",
       "      <td>919.0</td>\n",
       "      <td>1.00</td>\n",
       "      <td>0</td>\n",
       "    </tr>\n",
       "    <tr>\n",
       "      <th>1382</th>\n",
       "      <td>1074.0</td>\n",
       "      <td>158.00</td>\n",
       "      <td>0</td>\n",
       "    </tr>\n",
       "  </tbody>\n",
       "</table>\n",
       "</div>"
      ],
      "text/plain": [
       "        Time  Amount  Class\n",
       "33      26.0    6.14      0\n",
       "35      26.0    1.77      0\n",
       "113     74.0    1.18      0\n",
       "114     74.0    1.18      0\n",
       "115     74.0    1.18      0\n",
       "221    145.0    6.00      0\n",
       "223    145.0    6.74      0\n",
       "1178   919.0  158.00      0\n",
       "1180   919.0    1.00      0\n",
       "1382  1074.0  158.00      0"
      ]
     },
     "execution_count": 10,
     "metadata": {},
     "output_type": "execute_result"
    }
   ],
   "source": [
    "# Check some of the duplicates\n",
    "data[data.duplicated()][['Time', 'Amount', 'Class']].head(10)"
   ]
  },
  {
   "cell_type": "code",
   "execution_count": 11,
   "metadata": {},
   "outputs": [
    {
     "data": {
      "text/plain": [
       "Class\n",
       "0    1062\n",
       "1      19\n",
       "Name: count, dtype: int64"
      ]
     },
     "execution_count": 11,
     "metadata": {},
     "output_type": "execute_result"
    }
   ],
   "source": [
    "# Are they all genuine?\n",
    "data[data.duplicated()].Class.value_counts()"
   ]
  },
  {
   "cell_type": "markdown",
   "metadata": {},
   "source": [
    "It appears that both genuine transactions as well as frauds have been recorded more than once in this dataset across various points in time and over a range of transaction amounts.  We are going to remove them moving forward with our inspection.\n",
    "\n",
    "## Preparing the Data Frame for Further Inspection and Visualization\n",
    "\n",
    "Renaming the columns has no effect other than making them appear differently in the plots.\n",
    "We will use the `Col._all_pretty` field from the `utils` module for that.\n",
    "On top of that, we will add a converted version of the `Time` column to express the distance from the datasets's reference point in time in hours, not in seconds.\n",
    "Other than that, we will only remove the duplicated records and store the preprocessed data frame in its own `.csv` file for importing it later into the ML notebooks."
   ]
  },
  {
   "cell_type": "code",
   "execution_count": 12,
   "metadata": {},
   "outputs": [],
   "source": [
    "# Make a copy of the original dataframe and remove the duplicates\n",
    "data_ = data.drop_duplicates().copy()\n",
    "\n",
    "# Convert the time column\n",
    "data_.Time = data_.Time / 3600.\n",
    "\n",
    "# Rename the columns\n",
    "data_.columns = Col._all_pretty\n",
    "\n",
    "# Save the new data frame in a `.csv` file\n",
    "import os\n",
    "if not os.path.exists(util.File.preprocessed):\n",
    "    data_.to_csv(util.File.preprocessed, index=False)"
   ]
  },
  {
   "cell_type": "markdown",
   "metadata": {},
   "source": [
    "--------------------------------------------------------------------------------\n",
    "\n",
    "## Distribution of the Target Column\n",
    "\n",
    "A graphical representation of the distribution between fradulent and records in the dataset itself yields no deeper insight.\n",
    "Thus, we will just compute the percentage of genuine and fradulent transactions:"
   ]
  },
  {
   "cell_type": "code",
   "execution_count": 13,
   "metadata": {},
   "outputs": [
    {
     "data": {
      "text/html": [
       "<div>\n",
       "<style scoped>\n",
       "    .dataframe tbody tr th:only-of-type {\n",
       "        vertical-align: middle;\n",
       "    }\n",
       "\n",
       "    .dataframe tbody tr th {\n",
       "        vertical-align: top;\n",
       "    }\n",
       "\n",
       "    .dataframe thead th {\n",
       "        text-align: right;\n",
       "    }\n",
       "</style>\n",
       "<table border=\"1\" class=\"dataframe\">\n",
       "  <thead>\n",
       "    <tr style=\"text-align: right;\">\n",
       "      <th></th>\n",
       "      <th>Activity</th>\n",
       "      <th>Percent</th>\n",
       "    </tr>\n",
       "  </thead>\n",
       "  <tbody>\n",
       "    <tr>\n",
       "      <th>0</th>\n",
       "      <td>Genuine</td>\n",
       "      <td>99.83329</td>\n",
       "    </tr>\n",
       "    <tr>\n",
       "      <th>1</th>\n",
       "      <td>Fraud</td>\n",
       "      <td>0.16671</td>\n",
       "    </tr>\n",
       "  </tbody>\n",
       "</table>\n",
       "</div>"
      ],
      "text/plain": [
       "  Activity   Percent\n",
       "0  Genuine  99.83329\n",
       "1    Fraud   0.16671"
      ]
     },
     "execution_count": 13,
     "metadata": {},
     "output_type": "execute_result"
    }
   ],
   "source": [
    "pd.DataFrame({\n",
    "    'Activity': ['Genuine', 'Fraud'],\n",
    "    'Percent': (data_[Col.target].value_counts() / len(data_) * 100.).tolist()\n",
    "})"
   ]
  },
  {
   "cell_type": "markdown",
   "metadata": {},
   "source": [
    "However, for further comparison, it is going to be useful to have separate data frames to compare the distributions of other features with respect to the target column."
   ]
  },
  {
   "cell_type": "code",
   "execution_count": 14,
   "metadata": {},
   "outputs": [],
   "source": [
    "data_genuine = data_[data_[Col.target]==0].copy()\n",
    "data_fraud   = data_[data_[Col.target]==1].copy()"
   ]
  },
  {
   "cell_type": "markdown",
   "metadata": {},
   "source": [
    "## Distribution of Amount\n",
    "\n",
    "First, let's look at the distribution of the `Amount` column over the entire dataset."
   ]
  },
  {
   "cell_type": "code",
   "execution_count": 15,
   "metadata": {},
   "outputs": [
    {
     "data": {
      "image/png": "[encoded data removed]",
      "text/plain": [
       "<Figure size 970.8x600 with 1 Axes>"
      ]
     },
     "metadata": {},
     "output_type": "display_data"
    }
   ],
   "source": [
    "sns.histplot(data=data_, x=Col.amount, bins=100, stat='percent')\n",
    "plt.yscale('log')\n",
    "plt.title('Distribution of Amount')\n",
    "plt.show()"
   ]
  },
  {
   "cell_type": "markdown",
   "metadata": {},
   "source": [
    "Note that the `Percent` axis is scaled logarithmically.\n",
    "Otherwise, one might accidentally assume the `Amount` to follow an exponential distribution, which is not the case.\n",
    "Now, let's take a deeper look into the fradulent records to see if they behave similarly."
   ]
  },
  {
   "cell_type": "code",
   "execution_count": 16,
   "metadata": {},
   "outputs": [
    {
     "data": {
      "image/png": "[encoded data removed]",
      "text/plain": [
       "<Figure size 970.8x600 with 1 Axes>"
      ]
     },
     "metadata": {},
     "output_type": "display_data"
    }
   ],
   "source": [
    "sns.histplot(data=data_fraud, x=Col.amount, bins=100, stat='percent')\n",
    "plt.yscale('log')\n",
    "plt.title('Distribution of Amount')\n",
    "plt.show()"
   ]
  },
  {
   "cell_type": "markdown",
   "metadata": {},
   "source": [
    "While spread over a narrower range of amounts and also sparse, this subset shows similar behaviour.\n",
    "It is not possible to definitively associate frauds with particularly high or low transaction amounts, nor do they show particularly telling discrepancies compared to the overall dataset.\n",
    "\n",
    "The difference in their amount range becomes more obvious when comparing the datasets using a box plot:"
   ]
  },
  {
   "cell_type": "code",
   "execution_count": 17,
   "metadata": {},
   "outputs": [
    {
     "data": {
      "image/png": "[encoded data removed]",
      "text/plain": [
       "<Figure size 970.8x600 with 1 Axes>"
      ]
     },
     "metadata": {},
     "output_type": "display_data"
    }
   ],
   "source": [
    "sns.boxplot(data=data_, x=Col.target, hue=Col.target, y=Col.amount, palette=Colors.blues2, notch=True, legend=False)\n",
    "plt.yscale('log')\n",
    "plt.title('Comparison of Amount Distributions for Genuine and Fradulent Transactions')\n",
    "plt.show()"
   ]
  },
  {
   "cell_type": "markdown",
   "metadata": {},
   "source": [
    "Now it becomes obvious that it's more likely for transactions with higher amounts to be more likely to be genuine.\n",
    "An explanation could be that those transactions are more likely to be closely observed or rather easier to notice should something be amiss.\n",
    "That is to say that it might be easier to hide or disguise frauds behind smaller transaction amounts.\n",
    "\n",
    "Next, let's have a look at the distribution of the amount over the time."
   ]
  },
  {
   "cell_type": "code",
   "execution_count": 18,
   "metadata": {},
   "outputs": [
    {
     "data": {
      "image/png": "[encoded data removed]",
      "text/plain": [
       "<Figure size 970.8x600 with 1 Axes>"
      ]
     },
     "metadata": {},
     "output_type": "display_data"
    }
   ],
   "source": [
    "time_data_genuine = data_genuine.copy()\n",
    "time_data_fraud = data_fraud.copy()\n",
    "time_data_genuine[Col.time] = time_data_genuine[Col.time].map(int)\n",
    "time_data_fraud[Col.time] = time_data_fraud[Col.time].map(int)\n",
    "total_genuine = time_data_genuine[Col.amount].sum() / 100.\n",
    "total_fraud = time_data_fraud[Col.amount].sum() / 100.\n",
    "sns.barplot(data=time_data_genuine[[Col.time, Col.amount]].groupby(Col.time).sum()/total_genuine, x=Col.time, y=Col.amount, color=Colors.blue, alpha=.9, width=1., label='Genuine')\n",
    "sns.barplot(data=time_data_fraud[[Col.time, Col.amount]].groupby(Col.time).sum()/total_fraud, x=Col.time, y=Col.amount, color=Colors.blues[3], alpha=.6, width=1., label='Fraud')\n",
    "plt.title('Amount over Time')\n",
    "plt.xlabel(Col.time)\n",
    "plt.xticks([10*n for n in range(5)])\n",
    "plt.ylabel('Amount (%)')\n",
    "plt.legend()\n",
    "plt.show()"
   ]
  },
  {
   "cell_type": "markdown",
   "metadata": {},
   "source": [
    "There, a discrepance is visible.\n",
    "However, lacking a notable pattern overall, the fradulent image doesn't show any indicator for a preferred time of day or a uniquely distinguishable frequency if one considers the transaction amount.\n",
    "\n",
    "Now if the amount itself doesn't give any deeper insight, then let's have a look at the number of transactions instead.\n",
    "\n",
    "## Distribution of Transactions"
   ]
  },
  {
   "cell_type": "code",
   "execution_count": 19,
   "metadata": {},
   "outputs": [
    {
     "data": {
      "image/png": "[encoded data removed]",
      "text/plain": [
       "<Figure size 970.8x600 with 1 Axes>"
      ]
     },
     "metadata": {},
     "output_type": "display_data"
    }
   ],
   "source": [
    "sns.histplot(data=time_data_genuine, x=Col.time, color=Colors.blue, alpha=.8, label='Genuine', stat='percent', bins=48)\n",
    "sns.histplot(data=time_data_fraud, x=Col.time, color=Colors.blues[3], alpha=.6, label='Fraud', stat='percent', bins=48)\n",
    "plt.xlim(0, 48)\n",
    "plt.title('Number of Transactions over Time')\n",
    "plt.legend()\n",
    "plt.show()"
   ]
  },
  {
   "cell_type": "markdown",
   "metadata": {},
   "source": [
    "Again, it is difficult to spot a particular pattern for the fradulent data, whereas the genuine transactions seem to follow an activity or day-and-night cycle.\n",
    "However, it appears that the highes percentages of frauds tend to appear during the usually calm periods for genuine transactions.\n",
    "Although one should keep in mind that those two datasets consist of vastly different amounts of supporting records, so this could also be just an artifact of lacking more data.\n",
    "\n",
    "Next, slowly focusing our eye on the upcoming machine learning part, let's look at the kind of distributions for the remaining columns as well as their correlation with the target column.\n",
    "\n",
    "## Distributions of the Encoded Columns\n",
    "\n",
    "There are several tests available for testing a population for a specific kind of distribution.\n",
    "[Q-Q plots](https://en.wikipedia.org/wiki/Q–Q_plot) and the [Shapiro-Wilk Test](https://en.wikipedia.org/wiki/Shapiro–Wilk_test) are a few examples.\n",
    "[Lilliefor's Test](https://en.wikipedia.org/wiki/Lilliefors_test) is a variant that can test both normal and exponential distributions.\n",
    "Thus, considering we might find either in our dataset, we will use this one in this part of our exploration.\n",
    "\n",
    "As a remark, however, let it be noted that Lilliefor's is considered less reliable/ robust than Shapiro-Wilk.  The only reaso why we apply it here is for testing two cases with one tool, and it's perfectly sufficient for our purposes.\n",
    "\n",
    "The `statsmodels` package contains the functions `lilliefor`, `kstest_normal` and `kstest_exponential`, that will help us here.\n",
    "However, they are functionally the same, so we will use the basic version:"
   ]
  },
  {
   "cell_type": "code",
   "execution_count": 20,
   "metadata": {},
   "outputs": [],
   "source": [
    "from statsmodels.stats.api import lilliefors"
   ]
  },
  {
   "cell_type": "markdown",
   "metadata": {},
   "source": [
    "First, let's convince ourselves that the `Amount` is neither normally nor exponentially distributed."
   ]
  },
  {
   "cell_type": "code",
   "execution_count": 21,
   "metadata": {},
   "outputs": [
    {
     "name": "stdout",
     "output_type": "stream",
     "text": [
      "p_normal = 0.001000, thus the amount is not normally distributed.\n",
      "p_exponential = 0.001000, thus the amount is not exponentially distributed.\n"
     ]
    }
   ],
   "source": [
    "threshold = 0.05\n",
    "\n",
    "# Test for normal distribution\n",
    "_, p_normal = lilliefors(data_[Col.amount], dist='norm')\n",
    "print(f'{p_normal = :.6f}, thus the amount {\"is\" if p_normal > threshold else \"is not\"} normally distributed.')\n",
    "\n",
    "# Test for exponential distribution\n",
    "_, p_exponential = lilliefors(data_[Col.amount], dist='exp')\n",
    "print(f'{p_exponential = :.6f}, thus the amount {\"is\" if p_exponential > threshold else \"is not\"} exponentially distributed.')"
   ]
  },
  {
   "cell_type": "markdown",
   "metadata": {},
   "source": [
    "Now, with that being confirmed, let's check all the encrypted/ encoded columns:"
   ]
  },
  {
   "cell_type": "code",
   "execution_count": 22,
   "metadata": {},
   "outputs": [
    {
     "name": "stdout",
     "output_type": "stream",
     "text": [
      "Column\t\tNormal\t\t\tExponential\n",
      "V $1$\t-\t0.001000\tNo\t0.001000\tNo\n",
      "V $2$\t-\t0.001000\tNo\t0.001000\tNo\n",
      "V $3$\t-\t0.001000\tNo\t0.001000\tNo\n",
      "V $4$\t-\t0.001000\tNo\t0.001000\tNo\n",
      "V $5$\t-\t0.001000\tNo\t0.001000\tNo\n",
      "V $6$\t-\t0.001000\tNo\t0.001000\tNo\n",
      "V $7$\t-\t0.001000\tNo\t0.001000\tNo\n",
      "V $8$\t-\t0.001000\tNo\t0.001000\tNo\n",
      "V $9$\t-\t0.001000\tNo\t0.001000\tNo\n",
      "V $10$\t-\t0.001000\tNo\t0.001000\tNo\n",
      "V $11$\t-\t0.001000\tNo\t0.001000\tNo\n",
      "V $12$\t-\t0.001000\tNo\t0.001000\tNo\n",
      "V $13$\t-\t0.001000\tNo\t0.001000\tNo\n",
      "V $14$\t-\t0.001000\tNo\t0.001000\tNo\n",
      "V $15$\t-\t0.001000\tNo\t0.001000\tNo\n",
      "V $16$\t-\t0.001000\tNo\t0.001000\tNo\n",
      "V $17$\t-\t0.001000\tNo\t0.001000\tNo\n",
      "V $18$\t-\t0.001000\tNo\t0.001000\tNo\n",
      "V $19$\t-\t0.001000\tNo\t0.001000\tNo\n",
      "V $20$\t-\t0.001000\tNo\t0.001000\tNo\n",
      "V $21$\t-\t0.001000\tNo\t0.001000\tNo\n",
      "V $22$\t-\t0.001000\tNo\t0.001000\tNo\n",
      "V $23$\t-\t0.001000\tNo\t0.001000\tNo\n",
      "V $24$\t-\t0.001000\tNo\t0.001000\tNo\n",
      "V $25$\t-\t0.001000\tNo\t0.001000\tNo\n",
      "V $26$\t-\t0.001000\tNo\t0.001000\tNo\n",
      "V $27$\t-\t0.001000\tNo\t0.001000\tNo\n",
      "V $28$\t-\t0.001000\tNo\t0.001000\tNo\n"
     ]
    }
   ],
   "source": [
    "from functools import partial\n",
    "\n",
    "def test_column(column, data, test): return lilliefors(data[column], dist=test)[1]\n",
    "test_column_normal = partial(test_column, test='norm')\n",
    "test_column_exponential = partial(test_column, test='exp')\n",
    "def interpret(p): return 'Yes' if p > threshold else 'No'\n",
    "\n",
    "columns = data_.columns[1:-2]\n",
    "\n",
    "print('Column\\t\\tNormal\\t\\t\\tExponential')\n",
    "for column in columns:\n",
    "    print(f'{column}\\t-\\t{(p := test_column_normal(column, data_)):.6f}\\t{interpret(p)}\\t{(p := test_column_exponential(column, data_)):.6f}\\t{interpret(p)}')"
   ]
  },
  {
   "cell_type": "markdown",
   "metadata": {},
   "source": [
    "Insights like this need to be considered when considering machine learning models and scaling using, say, `sklearn.preprocessing.StandardScaler`.\n",
    "\n",
    "## Preparing the Training and Testing Datasets\n",
    "\n",
    "Considering that we want to train a selection of different models in a reasonable amount of time we want to reduce the amount of data our prototypes are to be trained on.\n",
    "\n",
    "For this purpose, we will hand-pick the columns with the highest correlation factors with the target column for these before giving the best ones the full featureset to train on."
   ]
  },
  {
   "cell_type": "code",
   "execution_count": 23,
   "metadata": {},
   "outputs": [
    {
     "data": {
      "image/png": "[encoded data removed]",
      "text/plain": [
       "<Figure size 970.8x600 with 1 Axes>"
      ]
     },
     "metadata": {},
     "output_type": "display_data"
    }
   ],
   "source": [
    "correlations = np.abs(data_.corrwith(data_[Col.target])).sort_values(ascending=False)[1:]\n",
    "\n",
    "# Save values for later\n",
    "if not os.path.exists(util.File.correlations):\n",
    "    _correlations = correlations.reset_index()\n",
    "    _correlations.columns = ['Feature', 'Coefficient']\n",
    "    _correlations.to_csv(util.File.correlations, index=False)\n",
    "\n",
    "# Visualize\n",
    "sns.barplot(data=correlations, orient='h')\n",
    "plt.xlabel('Correlation Coefficient (Absolute Value)')\n",
    "plt.ylabel('Feature')\n",
    "plt.title(f'Correlation Coefficients for Target Column \"{Col.target}\"')\n",
    "plt.show()"
   ]
  },
  {
   "cell_type": "markdown",
   "metadata": {},
   "source": [
    "And just out of curiosity we will generate a heatmap of all features and their correlation coefficients, although we won't get any deeper insight from that.\n",
    "In other instances, such a graphich could hint towards columns that are so strongly correlated that learning machines would only need one of them to produce reliable results, thus potentially helping reducing the amount of data to be processed."
   ]
  },
  {
   "cell_type": "code",
   "execution_count": 24,
   "metadata": {},
   "outputs": [
    {
     "data": {
      "image/png": "[encoded data removed]",
      "text/plain": [
       "<Figure size 970.8x600 with 2 Axes>"
      ]
     },
     "metadata": {},
     "output_type": "display_data"
    }
   ],
   "source": [
    "full_correlations = np.abs(data_.corr())\n",
    "mask = np.zeros_like(full_correlations)\n",
    "mask[np.triu_indices_from(mask)] = True\n",
    "\n",
    "sns.heatmap(data=full_correlations, mask=mask, cmap=Colors.blues_c)\n",
    "plt.xlabel('Feature')\n",
    "plt.ylabel('Feature')\n",
    "plt.title('Correlation Heatmap')\n",
    "plt.show()"
   ]
  },
  {
   "cell_type": "markdown",
   "metadata": {},
   "source": [
    "Next, we need to separate our training and verification data.\n",
    "We do that at this stage to have a fix, unique verification dataset for all of our models, no matter what we are going to do further down the road with the training data.\n",
    "This will allow us to compare all models objectively.\n",
    "\n",
    "We choose to split our data into training and verification subsets with a 4:1 ratio."
   ]
  },
  {
   "cell_type": "code",
   "execution_count": 25,
   "metadata": {},
   "outputs": [],
   "source": [
    "from sklearn.model_selection import train_test_split\n",
    "\n",
    "training_df, verification_df = train_test_split(data_, test_size=.2, stratify=data_[Col.target], random_state=404)\n",
    "\n",
    "# Store both subsets into .csv files for later\n",
    "if not os.path.exists(util.File.training):\n",
    "    training_df.to_csv(util.File.training, index=False)\n",
    "\n",
    "if not os.path.exists(util.File.verification):\n",
    "    verification_df.to_csv(util.File.verification, index=False)"
   ]
  },
  {
   "cell_type": "markdown",
   "metadata": {},
   "source": [
    "Furthermore, we need to take the dataset's imbalance into account.\n",
    "\n",
    "If we let our models train on full dataset they would barely learn from the actual frauds.\n",
    "Thus, we need to create a balance between the two target values.\n",
    "Basically we could either use an oversampling approach to inflate the minority class or we could resample the majority class.\n",
    "Both approaches have their advantages and disadvantages.\n",
    "However, considering that oversampling algorithms (such as [SMOTE](https://imbalanced-learn.org/dev/references/generated/imblearn.over_sampling.SMOTE.html)) may create noise and patterns that don't represent the real behaviour of the cases we want to classify, we use a simple undersampling algorithm instead.\n",
    "Note that more sophisticated algorithms exist as well."
   ]
  },
  {
   "cell_type": "code",
   "execution_count": 26,
   "metadata": {},
   "outputs": [],
   "source": [
    "from sklearn.utils import resample\n",
    "\n",
    "training_frauds = training_df[training_df[Col.target]==1]\n",
    "training_genuine = training_df[training_df[Col.target]==0]\n",
    "n = 4 * len(training_frauds)\n",
    "undersampled = resample(training_genuine, n_samples=n, random_state=404)\n",
    "training_undersampled = pd.concat([training_frauds, undersampled], axis=0)\n",
    "\n",
    "# Store dataframe for later\n",
    "if not os.path.exists(util.File.training_undersampled):\n",
    "    training_undersampled.to_csv(util.File.training_undersampled, index=False)"
   ]
  },
  {
   "cell_type": "code",
   "execution_count": 27,
   "metadata": {},
   "outputs": [
    {
     "name": "stdout",
     "output_type": "stream",
     "text": [
      "Shape of the original training dataset: (226980, 31)\n",
      "Shape of the new training dataset:      (1890, 31)\n",
      "Shape of the verification dataset:      (56746, 31)\n"
     ]
    }
   ],
   "source": [
    "print(f'Shape of the original training dataset: {training_df.shape}')\n",
    "print(f'Shape of the new training dataset:      {training_undersampled.shape}')\n",
    "print(f'Shape of the verification dataset:      {verification_df.shape}')"
   ]
  },
  {
   "cell_type": "markdown",
   "metadata": {},
   "source": [
    "One final step; this is more an experiment rather than a promised success.\n",
    "Earlier, we discussed that neither of the features is normally distributed.\n",
    "However, many machine learning models perform better on normally distributed or rather scaled data.\n",
    "\n",
    "So we will prepare a scaled version of the previous subsets and see if the models acutally benefit from this step despite applying it to a dataset which we don't know the actual distribution of."
   ]
  },
  {
   "cell_type": "code",
   "execution_count": 28,
   "metadata": {},
   "outputs": [],
   "source": [
    "from sklearn.preprocessing import StandardScaler\n",
    "\n",
    "scaler = StandardScaler()\n",
    "training_scaled = pd.concat([\n",
    "    pd.DataFrame(scaler.fit_transform(training_df.drop(Col.target, axis=1)), columns=training_df.columns[:-1]),\n",
    "    training_df[Col.target].reset_index().drop('index', axis=1)\n",
    "], axis=1)\n",
    "training_undersampled_scaled = pd.concat([\n",
    "    pd.DataFrame(scaler.transform(training_undersampled.drop(Col.target, axis=1)), columns=training_undersampled.columns[:-1]),\n",
    "    training_undersampled[Col.target].reset_index().drop('index', axis=1)\n",
    "], axis=1)\n",
    "verification_scaled = pd.concat([\n",
    "    pd.DataFrame(scaler.transform(verification_df.drop(Col.target, axis=1)), columns=verification_df.columns[:-1]),\n",
    "    verification_df[Col.target].reset_index().drop('index', axis=1)\n",
    "], axis=1)\n",
    "\n",
    "# Store the scaled sets for later\n",
    "if not os.path.exists(util.File.training_scaled):\n",
    "    training_scaled.to_csv(util.File.training_scaled, index=False)\n",
    "if not os.path.exists(util.File.training_undersampled_scaled):\n",
    "    training_undersampled_scaled.to_csv(util.File.training_undersampled_scaled, index=False)\n",
    "if not os.path.exists(util.File.verification_scaled):\n",
    "    verification_scaled.to_csv(util.File.verification_scaled, index=False)"
   ]
  },
  {
   "cell_type": "code",
   "execution_count": 29,
   "metadata": {},
   "outputs": [
    {
     "name": "stdout",
     "output_type": "stream",
     "text": [
      "Shape of the (scaled) original training dataset: (226980, 31)\n",
      "Shape of the (scaled) new training dataset:      (1890, 31)\n",
      "Shape of the (scaled) verification dataset:      (56746, 31)\n"
     ]
    }
   ],
   "source": [
    "# Check the shapes again to see that nothing is broken:\n",
    "print(f'Shape of the (scaled) original training dataset: {training_scaled.shape}')\n",
    "print(f'Shape of the (scaled) new training dataset:      {training_undersampled_scaled.shape}')\n",
    "print(f'Shape of the (scaled) verification dataset:      {verification_scaled.shape}')"
   ]
  },
  {
   "cell_type": "markdown",
   "metadata": {},
   "source": [
    "This is all that we need from the EDA to get started with the machine learning part."
   ]
  },
  {
   "cell_type": "markdown",
   "metadata": {},
   "source": [
    "--------------------------------------------------------------------------------\n",
    "\n",
    "To next notebook: [Credit Card ML](./credit-card-ml.ipynb)"
   ]
  }
 ],
 "metadata": {
  "kernelspec": {
   "display_name": ".tensor-venv",
   "language": "python",
   "name": "python3"
  },
  "language_info": {
   "codemirror_mode": {
    "name": "ipython",
    "version": 3
   },
   "file_extension": ".py",
   "mimetype": "text/x-python",
   "name": "python",
   "nbconvert_exporter": "python",
   "pygments_lexer": "ipython3",
   "version": "3.11.3"
  }
 },
 "nbformat": 4,
 "nbformat_minor": 2
}
