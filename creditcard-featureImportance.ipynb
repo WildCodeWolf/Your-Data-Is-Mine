{
 "cells": [
  {
   "cell_type": "code",
   "execution_count": 1,
   "metadata": {},
   "outputs": [],
   "source": [
    "import pandas as pd\n",
    "import matplotlib.pyplot as plt\n",
    "import seaborn as sns\n",
    "import numpy as np\n",
    "from sklearn.model_selection import train_test_split\n",
    "from sklearn.ensemble import RandomForestClassifier\n",
    "from sklearn.metrics import accuracy_score, f1_score\n",
    "\n",
    "df = pd.read_csv(\"data/creditcard.csv\")"
   ]
  },
  {
   "cell_type": "code",
   "execution_count": 2,
   "metadata": {},
   "outputs": [
    {
     "data": {
      "text/plain": [
       "Index(['Time', 'V1', 'V2', 'V3', 'V4', 'V5', 'V6', 'V7', 'V8', 'V9', 'V10',\n",
       "       'V11', 'V12', 'V13', 'V14', 'V15', 'V16', 'V17', 'V18', 'V19', 'V20',\n",
       "       'V21', 'V22', 'V23', 'V24', 'V25', 'V26', 'V27', 'V28', 'Amount',\n",
       "       'Class'],\n",
       "      dtype='object')"
      ]
     },
     "execution_count": 2,
     "metadata": {},
     "output_type": "execute_result"
    }
   ],
   "source": [
    "df.columns"
   ]
  },
  {
   "cell_type": "code",
   "execution_count": 3,
   "metadata": {},
   "outputs": [],
   "source": [
    "X = df.drop('Class', axis=1)\n",
    "y = df['Class']\n",
    "\n",
    "X_train, X_test, y_train, y_test = train_test_split(X, y, test_size=0.3, random_state=42, stratify=y)"
   ]
  },
  {
   "cell_type": "markdown",
   "metadata": {},
   "source": [
    "# Feature Importance Random Forest Classifier"
   ]
  },
  {
   "cell_type": "code",
   "execution_count": 4,
   "metadata": {},
   "outputs": [
    {
     "name": "stdout",
     "output_type": "stream",
     "text": [
      "model score on training data: 1.0\n",
      "model score on testing data: 0.9995201479348805\n"
     ]
    }
   ],
   "source": [
    "# Train a RandomForestClassifier\n",
    "rf = RandomForestClassifier(n_estimators=100, random_state=42)\n",
    "rf.fit(X_train, y_train)\n",
    "\n",
    "# Extract feature importances\n",
    "importances = rf.feature_importances_\n",
    "indices = np.argsort(importances)[::-1]\n",
    "\n",
    "print(f\"model score on training data: {rf.score(X_train, y_train)}\")\n",
    "print(f\"model score on testing data: {rf.score(X_test, y_test)}\")"
   ]
  },
  {
   "cell_type": "code",
   "execution_count": 7,
   "metadata": {},
   "outputs": [
    {
     "data": {
      "image/png": "[encoded data removed]",
      "text/plain": [
       "<Figure size 800x600 with 1 Axes>"
      ]
     },
     "metadata": {},
     "output_type": "display_data"
    }
   ],
   "source": [
    "plt.figure(figsize=(8, 6))\n",
    "plt.title(\"Feature Importances\")\n",
    "plt.bar(range(X_train.shape[1]), importances[indices], align=\"center\")\n",
    "plt.xticks(range(X_train.shape[1]), [X_train.columns[i] for i in indices], rotation=90)\n",
    "plt.xlim([-1, X_train.shape[1]])\n",
    "plt.tight_layout()\n",
    "plt.show()"
   ]
  },
  {
   "cell_type": "code",
   "execution_count": 6,
   "metadata": {},
   "outputs": [
    {
     "name": "stdout",
     "output_type": "stream",
     "text": [
      "All features - Accuracy: 0.9995201479348805, F1 Score: 0.8452830188679246\n",
      "Without 'Time' and 'Amount' - Accuracy: 0.9994967405170698, F1 Score: 0.8352490421455939\n",
      "Least important features: ['V23', 'V24', 'V25', 'V27', 'V28']\n",
      "Without least important features - Accuracy: 0.9995201479348805, F1 Score: 0.8452830188679246\n"
     ]
    }
   ],
   "source": [
    "# Evaluate model performance with and without specific features\n",
    "def evaluate_model(features):\n",
    "    X_train_subset = X_train[features]\n",
    "    X_test_subset = X_test[features]\n",
    "    rf.fit(X_train_subset, y_train)\n",
    "    y_pred = rf.predict(X_test_subset)\n",
    "    acc = accuracy_score(y_test, y_pred)\n",
    "    f1 = f1_score(y_test, y_pred)\n",
    "    return acc, f1\n",
    "\n",
    "# All features\n",
    "all_features = X.columns.tolist()\n",
    "all_acc, all_f1 = evaluate_model(all_features)\n",
    "print(f\"All features - Accuracy: {all_acc}, F1 Score: {all_f1}\")\n",
    "\n",
    "# Without 'Time' and 'Amount'\n",
    "reduced_features = X.drop(['Time', 'Amount'], axis=1).columns.tolist()\n",
    "reduced_acc, reduced_f1 = evaluate_model(reduced_features)\n",
    "print(f\"Without 'Time' and 'Amount' - Accuracy: {reduced_acc}, F1 Score: {reduced_f1}\")\n",
    "\n",
    "# Identify least important V<N> features\n",
    "least_important_features = [X_train.columns[indices[-i-1]] for i in range(5)]  # Adjust the number as needed\n",
    "print(\"Least important features:\", least_important_features)\n",
    "\n",
    "# Without least important V<N> features\n",
    "important_features = [f for f in X.columns if f not in least_important_features]\n",
    "important_acc, important_f1 = evaluate_model(important_features)\n",
    "print(f\"Without least important features - Accuracy: {important_acc}, F1 Score: {important_f1}\")\n"
   ]
  }
 ],
 "metadata": {
  "kernelspec": {
   "display_name": ".venv",
   "language": "python",
   "name": "python3"
  },
  "language_info": {
   "codemirror_mode": {
    "name": "ipython",
    "version": 3
   },
   "file_extension": ".py",
   "mimetype": "text/x-python",
   "name": "python",
   "nbconvert_exporter": "python",
   "pygments_lexer": "ipython3",
   "version": "3.11.3"
  }
 },
 "nbformat": 4,
 "nbformat_minor": 2
}
