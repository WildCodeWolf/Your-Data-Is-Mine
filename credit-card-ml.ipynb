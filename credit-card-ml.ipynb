{
 "cells": [
  {
   "cell_type": "markdown",
   "metadata": {},
   "source": [
    "To previous notebook: [Credit Card EDA](./credit-card-eda.ipynb)<br/>\n",
    "To the README: [README](./README.md)<br/>\n",
    "\n",
    "--------------------------------------------------------------------------------"
   ]
  },
  {
   "cell_type": "code",
   "execution_count": 1,
   "metadata": {},
   "outputs": [],
   "source": [
    "# Import base packages\n",
    "from sklearn.model_selection import GridSearchCV\n",
    "from pipe import select, where, sort\n",
    "\n",
    "import utils.style as style\n",
    "from utils.confusion import confusion_matrix\n",
    "from utils.credit_card import File, Col\n",
    "from utils.evaluation import evaluate_model, evaluate_hpt, compare_models"
   ]
  },
  {
   "cell_type": "markdown",
   "metadata": {},
   "source": [
    "# Credit Card Fraud: Machine Learning\n",
    "\n",
    "In this notebook we will take the results and preparations from the EDA part and train and compare a selection of different models to build one compound that hopefully is going to be able to detect frauds reliably.\n",
    "\n",
    "For comparing the models, we will use the $F_\\beta$ score.\n",
    "It's similar to the $F_1$ score in terms of evaluating false predictions, but the $\\beta$ parameter allows us to put higher weight on either the false positives or false negatives.\n",
    "This is due to the fact that a false negative prediction, that is, a fraud that falsely gets classified as genuine, has much more dire consequences than a genuine transaction that gets classified as fraud, which will usually only cause some inconveniences for one customer.\n",
    "Nevertheless, for the final model, we *are* interested in also keeping the false positives as low as possible.\n",
    "\n",
    "## Setup: Score and Best Model Tracking\n",
    "\n",
    "As previously mentioned, our score will be the $F_beta$ score. We are free to choose our $\\beta$ as we like, with $\\beta > 1$ resulting in lower scores for more false negatives and $\\beta < 1$ resulting in the opposite.\n",
    "We pick $\\beta = 10$.\n",
    "A different choice might result in different best parameters during the hyperparameter tuning process and *could* lead to a different best model over the course of testing different models, but in a test run we found essentially the same outcome for other values for $\\beta$."
   ]
  },
  {
   "cell_type": "code",
   "execution_count": 2,
   "metadata": {},
   "outputs": [],
   "source": [
    "# Fix beta and scorer\n",
    "from sklearn.metrics import fbeta_score, make_scorer\n",
    "\n",
    "BETA = 10.0\n",
    "AVERAGE = 'binary'\n",
    "scorer = make_scorer(fbeta_score, beta=BETA, average=AVERAGE)"
   ]
  },
  {
   "cell_type": "markdown",
   "metadata": {},
   "source": [
    "During our tests, we will keep track of the best model and its best score with a simple list and functions to add and extract information in a convenient way:"
   ]
  },
  {
   "cell_type": "code",
   "execution_count": 201,
   "metadata": {},
   "outputs": [],
   "source": [
    "MODELS = []\n",
    "\n",
    "def add_model(name, results, on_scaled):\n",
    "    global MODELS\n",
    "    MODELS.append((results.fbeta, name, results, on_scaled))\n",
    "\n",
    "def add_unscaled_model(name, results): add_model(name, results, False)\n",
    "def add_scaled_model(name, results): add_model(name, results, True)\n",
    "\n",
    "def score(record): return record[0]\n",
    "def name(record): return record[1]\n",
    "def results(record): return record[2]\n",
    "def is_trained_on_scaled(record): return record[3]\n",
    "def top(n, on_scaled):\n",
    "    global MODELS\n",
    "    return list(\n",
    "        MODELS | where(lambda model: is_trained_on_scaled(model)==on_scaled)\n",
    "               | sort(key=score, reverse=True)\n",
    "    )[:n]\n",
    "    return sorted(MODELS, reverse=True)[:n]\n",
    "def top_unscaled(n): return top(n, False)\n",
    "def top_scaled(n): return top(n, True)\n",
    "def top_overall(n):\n",
    "    global MODELS\n",
    "    return list(sorted(MODELS, key=score, reverse=True))[:n]\n",
    "\n",
    "# To see improvements across the models:\n",
    "BEST_MODEL, BEST_SCORE = None, None\n",
    "# To compare different candidates through their tuning stage:\n",
    "BEST_HPT_RESULT, BEST_SCALED_HPT_RESULT, BEST_HPT_15_RESULT, BEST_SCALED_HPT_15_RESULT = None, None, None, None"
   ]
  },
  {
   "cell_type": "markdown",
   "metadata": {},
   "source": [
    "## Setup: Loading the Training and Testing Data\n",
    "\n",
    "We set up our data in the previous notebook and just need to read in the files.\n",
    "However, we were discussing whether or not scaling the data was a good idea.\n",
    "And we decided to keep separate versions of the data frames in order to compare the results from both."
   ]
  },
  {
   "cell_type": "code",
   "execution_count": 4,
   "metadata": {},
   "outputs": [],
   "source": [
    "# Regular Training Data\n",
    "data_train = File.load(File.training_undersampled)\n",
    "X_train = data_train.drop(Col.target, axis=1)\n",
    "y_train = data_train[Col.target]\n",
    "\n",
    "# Regular Verification Data\n",
    "data_verification = File.load(File.verification)\n",
    "X_test = data_verification.drop(Col.target, axis=1)\n",
    "y_true = data_verification[Col.target]"
   ]
  },
  {
   "cell_type": "code",
   "execution_count": 5,
   "metadata": {},
   "outputs": [],
   "source": [
    "# Scaled Training Data\n",
    "data_train_scaled = File.load(File.training_undersampled_scaled)\n",
    "X_train_scaled = data_train_scaled.drop(Col.target, axis=1)\n",
    "\n",
    "# Scaled Verification Data\n",
    "data_verification_scaled = File.load(File.verification_scaled)\n",
    "X_test_scaled = data_verification_scaled.drop(Col.target, axis=1)"
   ]
  },
  {
   "cell_type": "markdown",
   "metadata": {},
   "source": [
    "But we also wanted to train our prototypes on just a subset of the features to improve their computational performance.\n",
    "So, out of the 30 available features, let's focus on the top 15 for that:"
   ]
  },
  {
   "cell_type": "code",
   "execution_count": 6,
   "metadata": {},
   "outputs": [
    {
     "data": {
      "text/plain": [
       "0     V $17$\n",
       "1     V $14$\n",
       "2     V $12$\n",
       "3     V $10$\n",
       "4     V $16$\n",
       "5      V $3$\n",
       "6      V $7$\n",
       "7     V $11$\n",
       "8      V $4$\n",
       "9     V $18$\n",
       "10     V $1$\n",
       "11     V $9$\n",
       "12     V $5$\n",
       "13     V $2$\n",
       "14     V $6$\n",
       "Name: Feature, dtype: object"
      ]
     },
     "execution_count": 6,
     "metadata": {},
     "output_type": "execute_result"
    }
   ],
   "source": [
    "features = Col.top(15)['Feature']\n",
    "features"
   ]
  },
  {
   "cell_type": "code",
   "execution_count": 7,
   "metadata": {},
   "outputs": [],
   "source": [
    "# Create training and verification subsets with those selected features:\n",
    "X_train_15 = X_train[features].copy()\n",
    "X_test_15 = X_test[features].copy()\n",
    "X_train_scaled_15 = X_train_scaled[features].copy()\n",
    "X_test_scaled_15 = X_test_scaled[features].copy()"
   ]
  },
  {
   "cell_type": "markdown",
   "metadata": {},
   "source": [
    "--------------------------------------------------------------------------------\n",
    "\n",
    "## Random Forest\n",
    "\n",
    "Our first candidate is the random forest classification model."
   ]
  },
  {
   "cell_type": "code",
   "execution_count": 8,
   "metadata": {},
   "outputs": [],
   "source": [
    "from sklearn.ensemble import RandomForestClassifier"
   ]
  },
  {
   "cell_type": "code",
   "execution_count": 9,
   "metadata": {},
   "outputs": [],
   "source": [
    "random_forest = RandomForestClassifier(n_jobs=-1, random_state=404)     # base estimator\n",
    "rf_param_grid = {                                                       # parameter grid for hyperparameter tuning\n",
    "    'n_estimators': [5, 10, 20, 100, 150],\n",
    "    'max_depth':    [5, 10, 20, 40, 60, None],\n",
    "    'criterion':    ['gini', 'entropy', 'log_loss'],\n",
    "}"
   ]
  },
  {
   "cell_type": "code",
   "execution_count": 10,
   "metadata": {},
   "outputs": [
    {
     "name": "stdout",
     "output_type": "stream",
     "text": [
      "CPU times: user 1min 11s, sys: 12.3 s, total: 1min 23s\n",
      "Wall time: 36 s\n"
     ]
    }
   ],
   "source": [
    "rf_model = GridSearchCV(\n",
    "    estimator=random_forest,\n",
    "    param_grid=rf_param_grid,\n",
    "    refit=True,\n",
    "    verbose=0,\n",
    "    scoring=scorer\n",
    ")\n",
    "%time _ = rf_model.fit(X_train_15, y_train)"
   ]
  },
  {
   "cell_type": "code",
   "execution_count": 11,
   "metadata": {},
   "outputs": [
    {
     "name": "stdout",
     "output_type": "stream",
     "text": [
      "-- Training Results --\n",
      "Best Parameters:\n",
      "\tcriterion:\tgini\n",
      "\tmax_depth:\t20\n",
      "\tn_estimators:\t5\n",
      "Best Score:\n",
      "\t0.866031\n",
      "\n",
      "-- Testing Results --\n",
      "Accuracy    on Verification Data:\t0.986325\n",
      "Fbeta scroe on Verification Data:\t0.829388\n",
      "\n",
      "              precision    recall  f1-score   support\n",
      "\n",
      "           0       1.00      0.99      0.99     56651\n",
      "           1       0.10      0.89      0.18        95\n",
      "\n",
      "    accuracy                           0.99     56746\n",
      "   macro avg       0.55      0.94      0.59     56746\n",
      "weighted avg       1.00      0.99      0.99     56746\n",
      "\n",
      "False negatives: 10 (10.526% out of 95 true positives, 0.018% overall)\n",
      "\n"
     ]
    }
   ],
   "source": [
    "# Evaluate the process\n",
    "rf_hpt_result = evaluate_hpt(\n",
    "    model=rf_model,\n",
    "    X_test=X_test_15,\n",
    "    y_true=y_true,\n",
    "    beta=BETA,\n",
    "    average=AVERAGE\n",
    ")\n",
    "BEST_HPT_15_RESULT = rf_hpt_result"
   ]
  },
  {
   "cell_type": "code",
   "execution_count": 12,
   "metadata": {},
   "outputs": [
    {
     "data": {
      "image/png": "[encoded data removed]",
      "text/plain": [
       "<Figure size 550x400 with 2 Axes>"
      ]
     },
     "metadata": {},
     "output_type": "display_data"
    }
   ],
   "source": [
    "# Display the confusion matrix\n",
    "confusion_matrix(y_true, rf_hpt_result.predictions, 'Random Forest (Reduced Feature Set)')"
   ]
  },
  {
   "cell_type": "markdown",
   "metadata": {},
   "source": [
    "Next, let's let the best candidate of this process train on the full featureset."
   ]
  },
  {
   "cell_type": "code",
   "execution_count": 13,
   "metadata": {},
   "outputs": [
    {
     "name": "stdout",
     "output_type": "stream",
     "text": [
      "CPU times: user 217 ms, sys: 102 ms, total: 320 ms\n",
      "Wall time: 42.9 ms\n"
     ]
    }
   ],
   "source": [
    "best_random_forest = rf_model.best_estimator_\n",
    "%time _ = best_random_forest.fit(X_train, y_train)"
   ]
  },
  {
   "cell_type": "code",
   "execution_count": 14,
   "metadata": {},
   "outputs": [
    {
     "name": "stdout",
     "output_type": "stream",
     "text": [
      "\n",
      "-- Testing Results --\n",
      "Accuracy    on Verification Data:\t0.984774\n",
      "Fbeta scroe on Verification Data:\t0.822397\n",
      "\n",
      "              precision    recall  f1-score   support\n",
      "\n",
      "           0       1.00      0.98      0.99     56651\n",
      "           1       0.09      0.89      0.16        95\n",
      "\n",
      "    accuracy                           0.98     56746\n",
      "   macro avg       0.55      0.94      0.58     56746\n",
      "weighted avg       1.00      0.98      0.99     56746\n",
      "\n",
      "False negatives: 10 (10.526% out of 95 true positives, 0.018% overall)\n",
      "\n"
     ]
    }
   ],
   "source": [
    "# Evaluate this model\n",
    "rf_model_result = evaluate_model(\n",
    "    model=best_random_forest,\n",
    "    X_test=X_test,\n",
    "    y_true=y_true,\n",
    "    beta=BETA,\n",
    "    average=AVERAGE\n",
    ")\n",
    "BEST_HPT_RESULT = rf_model_result"
   ]
  },
  {
   "cell_type": "code",
   "execution_count": 15,
   "metadata": {},
   "outputs": [
    {
     "data": {
      "image/png": "[encoded data removed]",
      "text/plain": [
       "<Figure size 550x400 with 2 Axes>"
      ]
     },
     "metadata": {},
     "output_type": "display_data"
    }
   ],
   "source": [
    "# Display the confusion matrix\n",
    "confusion_matrix(y_true, rf_model_result.predictions, \"Random Forest (Full Feature Set)\")"
   ]
  },
  {
   "cell_type": "code",
   "execution_count": 16,
   "metadata": {},
   "outputs": [
    {
     "name": "stdout",
     "output_type": "stream",
     "text": [
      "-- Model Comparison --\n",
      "new_results.fbeta - old_results.fbeta = -0.006992 --> Worsened!\n",
      "new_results.accuracy - old_results.accuracy = -0.001551 --> Worsened!\n",
      "\n",
      "Best model so far:\n",
      "RandomForestClassifier(max_depth=20, n_estimators=5, n_jobs=-1,\n",
      "                       random_state=404)\n",
      "Its score: 0.829388\n"
     ]
    }
   ],
   "source": [
    "# Check on learning progress when seeing the full feature set\n",
    "_ = compare_models(rf_model_result, rf_hpt_result)"
   ]
  },
  {
   "cell_type": "markdown",
   "metadata": {},
   "source": [
    "The model was able to improve its overall scores a little bit; this is a good start.\n",
    "\n",
    "We add this model to our list of best results before repeating the process with the scaled featues."
   ]
  },
  {
   "cell_type": "code",
   "execution_count": 202,
   "metadata": {},
   "outputs": [
    {
     "name": "stdout",
     "output_type": "stream",
     "text": [
      "-- Model Comparison --\n",
      "new_results.fbeta - old_results.fbeta = 0.000000 --> Worsened!\n",
      "new_results.accuracy - old_results.accuracy = 0.000000 --> Worsened!\n",
      "\n",
      "Best model so far:\n",
      "RandomForestClassifier(max_depth=20, n_estimators=5, n_jobs=-1,\n",
      "                       random_state=404)\n",
      "Its score: 0.822397\n"
     ]
    }
   ],
   "source": [
    "# Store the model results\n",
    "add_unscaled_model(\"Random Forest\", rf_model_result)\n",
    "\n",
    "# Keep track of the best model so far\n",
    "BEST_MODEL, BEST_SCORE = compare_models(rf_model_result, results(top_overall(1)[0]))"
   ]
  },
  {
   "cell_type": "code",
   "execution_count": 19,
   "metadata": {},
   "outputs": [
    {
     "name": "stdout",
     "output_type": "stream",
     "text": [
      "CPU times: user 1min 10s, sys: 11.9 s, total: 1min 22s\n",
      "Wall time: 35.6 s\n"
     ]
    }
   ],
   "source": [
    "# Repeat the process with the scaled dataset;\n",
    "# Create a new grid search in order to avoid overwriting the original.\n",
    "rf_scaled_model = GridSearchCV(\n",
    "    estimator=random_forest,\n",
    "    param_grid=rf_param_grid,\n",
    "    refit=True,\n",
    "    verbose=0,\n",
    "    scoring=scorer\n",
    ")\n",
    "%time _ = rf_scaled_model.fit(X_train_scaled_15, y_train)"
   ]
  },
  {
   "cell_type": "code",
   "execution_count": 20,
   "metadata": {},
   "outputs": [
    {
     "name": "stdout",
     "output_type": "stream",
     "text": [
      "-- Training Results --\n",
      "Best Parameters:\n",
      "\tcriterion:\tgini\n",
      "\tmax_depth:\t20\n",
      "\tn_estimators:\t5\n",
      "Best Score:\n",
      "\t0.866031\n",
      "\n",
      "-- Testing Results --\n",
      "Accuracy    on Verification Data:\t0.986325\n",
      "Fbeta scroe on Verification Data:\t0.829388\n",
      "\n",
      "              precision    recall  f1-score   support\n",
      "\n",
      "           0       1.00      0.99      0.99     56651\n",
      "           1       0.10      0.89      0.18        95\n",
      "\n",
      "    accuracy                           0.99     56746\n",
      "   macro avg       0.55      0.94      0.59     56746\n",
      "weighted avg       1.00      0.99      0.99     56746\n",
      "\n",
      "False negatives: 10 (10.526% out of 95 true positives, 0.018% overall)\n",
      "\n"
     ]
    }
   ],
   "source": [
    "# Evaluate the process\n",
    "rf_scaled_hpt_result = evaluate_hpt(\n",
    "    model=rf_scaled_model,\n",
    "    X_test=X_test_scaled_15,\n",
    "    y_true=y_true,\n",
    "    beta=BETA,\n",
    "    average=AVERAGE\n",
    ")"
   ]
  },
  {
   "cell_type": "code",
   "execution_count": 21,
   "metadata": {},
   "outputs": [
    {
     "data": {
      "image/png": "[encoded data removed]",
      "text/plain": [
       "<Figure size 550x400 with 2 Axes>"
      ]
     },
     "metadata": {},
     "output_type": "display_data"
    }
   ],
   "source": [
    "# Display the confusion matrix\n",
    "confusion_matrix(y_true, rf_scaled_hpt_result.predictions, \"Random Forest (Scaled; Reduced Feature Set)\")"
   ]
  },
  {
   "cell_type": "markdown",
   "metadata": {},
   "source": [
    "Again, let's let the best one learn from the full featureset."
   ]
  },
  {
   "cell_type": "code",
   "execution_count": 22,
   "metadata": {},
   "outputs": [
    {
     "name": "stdout",
     "output_type": "stream",
     "text": [
      "CPU times: user 67.6 ms, sys: 5.02 ms, total: 72.7 ms\n",
      "Wall time: 17.1 ms\n"
     ]
    }
   ],
   "source": [
    "best_random_forest_scaled = rf_scaled_model.best_estimator_\n",
    "%time _ = best_random_forest_scaled.fit(X_train_scaled, y_train)"
   ]
  },
  {
   "cell_type": "code",
   "execution_count": 23,
   "metadata": {},
   "outputs": [
    {
     "name": "stdout",
     "output_type": "stream",
     "text": [
      "\n",
      "-- Testing Results --\n",
      "Accuracy    on Verification Data:\t0.984774\n",
      "Fbeta scroe on Verification Data:\t0.822397\n",
      "\n",
      "              precision    recall  f1-score   support\n",
      "\n",
      "           0       1.00      0.98      0.99     56651\n",
      "           1       0.09      0.89      0.16        95\n",
      "\n",
      "    accuracy                           0.98     56746\n",
      "   macro avg       0.55      0.94      0.58     56746\n",
      "weighted avg       1.00      0.98      0.99     56746\n",
      "\n",
      "False negatives: 10 (10.526% out of 95 true positives, 0.018% overall)\n",
      "\n"
     ]
    }
   ],
   "source": [
    "# Evaluate this model\n",
    "rf_scaled_model_result = evaluate_model(\n",
    "    model=best_random_forest_scaled,\n",
    "    X_test=X_test_scaled,\n",
    "    y_true=y_true,\n",
    "    beta=BETA,\n",
    "    average=AVERAGE\n",
    ")"
   ]
  },
  {
   "cell_type": "code",
   "execution_count": 24,
   "metadata": {},
   "outputs": [
    {
     "data": {
      "image/png": "[encoded data removed]",
      "text/plain": [
       "<Figure size 550x400 with 2 Axes>"
      ]
     },
     "metadata": {},
     "output_type": "display_data"
    }
   ],
   "source": [
    "# Display the confusion matrix\n",
    "confusion_matrix(y_true, rf_scaled_model_result.predictions, \"Random Forest (Scaled Full Feature Set)\")"
   ]
  },
  {
   "cell_type": "code",
   "execution_count": 203,
   "metadata": {},
   "outputs": [],
   "source": [
    "add_scaled_model(\"Random Forest\", rf_scaled_model_result)\n",
    "BEST_SCALED_HPT_15_RESULT = BEST_HPT_15_RESULT\n",
    "BEST_SCALED_HPT_RESULT = BEST_HPT_RESULT"
   ]
  },
  {
   "cell_type": "markdown",
   "metadata": {},
   "source": [
    "It turns out that the results are practically the same.\n",
    "However, the random forest model itself isn't one of those that benefit from scaling in the first place.\n",
    "\n",
    "--------------------------------------------------------------------------------\n",
    "\n",
    "## K Nearest Neighbors\n",
    "\n",
    "Our next candidate is KNN.\n",
    "This model significantly benefits from our undersampling approach, as its computation time drastically increases with the data complexity.\n",
    "The process we follow is the exact same as for the random forest approach:"
   ]
  },
  {
   "cell_type": "code",
   "execution_count": 26,
   "metadata": {},
   "outputs": [],
   "source": [
    "from sklearn.neighbors import KNeighborsClassifier"
   ]
  },
  {
   "cell_type": "code",
   "execution_count": 27,
   "metadata": {},
   "outputs": [],
   "source": [
    "knn = KNeighborsClassifier(n_jobs=-1)                                   # base estimator\n",
    "knn_param_grid = {                                                      # parameter grid for hyperparameter tuning\n",
    "    'n_neighbors':  [5, 10, 20, 100, 150],\n",
    "    'weights':      ['uniform', 'distance'],\n",
    "}"
   ]
  },
  {
   "cell_type": "code",
   "execution_count": 28,
   "metadata": {},
   "outputs": [
    {
     "name": "stdout",
     "output_type": "stream",
     "text": [
      "CPU times: user 1.4 s, sys: 99.8 ms, total: 1.5 s\n",
      "Wall time: 992 ms\n"
     ]
    }
   ],
   "source": [
    "knn_model = GridSearchCV(\n",
    "    estimator=knn,\n",
    "    param_grid=knn_param_grid,\n",
    "    refit=True,\n",
    "    verbose=0,\n",
    "    scoring=scorer\n",
    ")\n",
    "%time _ = knn_model.fit(X_train_15, y_train)"
   ]
  },
  {
   "cell_type": "code",
   "execution_count": 29,
   "metadata": {},
   "outputs": [
    {
     "name": "stdout",
     "output_type": "stream",
     "text": [
      "-- Training Results --\n",
      "Best Parameters:\n",
      "\tn_neighbors:\t5\n",
      "\tweights:\tuniform\n",
      "Best Score:\n",
      "\t0.866154\n",
      "\n",
      "-- Testing Results --\n",
      "Accuracy    on Verification Data:\t0.995207\n",
      "Fbeta scroe on Verification Data:\t0.871839\n",
      "\n",
      "              precision    recall  f1-score   support\n",
      "\n",
      "           0       1.00      1.00      1.00     56651\n",
      "           1       0.24      0.89      0.38        95\n",
      "\n",
      "    accuracy                           1.00     56746\n",
      "   macro avg       0.62      0.95      0.69     56746\n",
      "weighted avg       1.00      1.00      1.00     56746\n",
      "\n",
      "False negatives: 10 (10.526% out of 95 true positives, 0.018% overall)\n",
      "\n"
     ]
    }
   ],
   "source": [
    "# Evaluate the process\n",
    "knn_hpt_result = evaluate_hpt(\n",
    "    model=knn_model,\n",
    "    X_test=X_test_15,\n",
    "    y_true=y_true,\n",
    "    beta=BETA,\n",
    "    average=AVERAGE\n",
    ")"
   ]
  },
  {
   "cell_type": "code",
   "execution_count": 30,
   "metadata": {},
   "outputs": [
    {
     "data": {
      "image/png": "[encoded data removed]",
      "text/plain": [
       "<Figure size 550x400 with 2 Axes>"
      ]
     },
     "metadata": {},
     "output_type": "display_data"
    }
   ],
   "source": [
    "# Display the confusion matrix\n",
    "confusion_matrix(y_true, knn_hpt_result.predictions, \"KNN (Reduced Feature Set)\")"
   ]
  },
  {
   "cell_type": "code",
   "execution_count": 31,
   "metadata": {},
   "outputs": [
    {
     "name": "stdout",
     "output_type": "stream",
     "text": [
      "-- HPT Evaluation --\n",
      "new_results.fbeta - old_results.fbeta = 0.042451 --> Improvement!\n",
      "new_results.accuracy - old_results.accuracy = 0.008882 --> Improvement!\n",
      "\n",
      "Best model so far:\n",
      "KNeighborsClassifier(n_jobs=-1) with Parameters\n",
      "{'n_neighbors': 5, 'weights': 'uniform'}\n",
      "Its score: 0.871839\n"
     ]
    }
   ],
   "source": [
    "# Compare HPT processes\n",
    "_ = compare_models(knn_hpt_result, BEST_HPT_15_RESULT)"
   ]
  },
  {
   "cell_type": "code",
   "execution_count": 32,
   "metadata": {},
   "outputs": [],
   "source": [
    "BEST_HPT_15_RESULT = knn_hpt_result"
   ]
  },
  {
   "cell_type": "markdown",
   "metadata": {},
   "source": [
    "So KNN's hyperparameter tuning results score higher than random forest's on the training data subset with the selected features.\n",
    "Note that the score here refers to the training score, not the verification one.\n",
    "\n",
    "In the end, however, we are interested in the best model's capabilities on the full feature set.\n",
    "So first, let's see whether KNN was improved by introducing it to the same:"
   ]
  },
  {
   "cell_type": "code",
   "execution_count": 33,
   "metadata": {},
   "outputs": [
    {
     "name": "stdout",
     "output_type": "stream",
     "text": [
      "CPU times: user 4.53 ms, sys: 701 μs, total: 5.23 ms\n",
      "Wall time: 1.45 ms\n"
     ]
    }
   ],
   "source": [
    "best_knn = knn_model.best_estimator_\n",
    "%time _ = best_knn.fit(X_train, y_train)"
   ]
  },
  {
   "cell_type": "code",
   "execution_count": 34,
   "metadata": {},
   "outputs": [
    {
     "name": "stdout",
     "output_type": "stream",
     "text": [
      "\n",
      "-- Testing Results --\n",
      "Accuracy    on Verification Data:\t0.988968\n",
      "Fbeta scroe on Verification Data:\t0.655909\n",
      "\n",
      "              precision    recall  f1-score   support\n",
      "\n",
      "           0       1.00      0.99      0.99     56651\n",
      "           1       0.10      0.69      0.17        95\n",
      "\n",
      "    accuracy                           0.99     56746\n",
      "   macro avg       0.55      0.84      0.58     56746\n",
      "weighted avg       1.00      0.99      0.99     56746\n",
      "\n",
      "False negatives: 29 (30.526% out of 95 true positives, 0.051% overall)\n",
      "\n"
     ]
    }
   ],
   "source": [
    "# Evaluate this model\n",
    "knn_model_result = evaluate_model(\n",
    "    model=best_knn,\n",
    "    X_test=X_test,\n",
    "    y_true=y_true,\n",
    "    beta=BETA,\n",
    "    average=AVERAGE\n",
    ")"
   ]
  },
  {
   "cell_type": "code",
   "execution_count": 35,
   "metadata": {},
   "outputs": [
    {
     "data": {
      "image/png": "[encoded data removed]",
      "text/plain": [
       "<Figure size 550x400 with 2 Axes>"
      ]
     },
     "metadata": {},
     "output_type": "display_data"
    }
   ],
   "source": [
    "# Display the confusion matrix\n",
    "confusion_matrix(y_true, knn_model_result.predictions, \"KNN (Full Feature Set)\")"
   ]
  },
  {
   "cell_type": "code",
   "execution_count": 36,
   "metadata": {},
   "outputs": [
    {
     "name": "stdout",
     "output_type": "stream",
     "text": [
      "-- Model Comparison --\n",
      "new_results.fbeta - old_results.fbeta = -0.166488 --> Worsened!\n",
      "new_results.accuracy - old_results.accuracy = 0.004194 --> Improvement!\n",
      "\n",
      "Best model so far:\n",
      "RandomForestClassifier(max_depth=20, n_estimators=5, n_jobs=-1,\n",
      "                       random_state=404)\n",
      "Its score: 0.822397\n"
     ]
    }
   ],
   "source": [
    "_ = compare_models(knn_model_result, BEST_HPT_RESULT)"
   ]
  },
  {
   "cell_type": "code",
   "execution_count": 37,
   "metadata": {},
   "outputs": [
    {
     "name": "stdout",
     "output_type": "stream",
     "text": [
      "-- Model Comparison --\n",
      "new_results.fbeta - old_results.fbeta = -0.215930 --> Worsened!\n",
      "new_results.accuracy - old_results.accuracy = -0.006238 --> Worsened!\n",
      "\n",
      "Best model so far:\n",
      "KNeighborsClassifier(n_jobs=-1)\n",
      "Its score: 0.871839\n"
     ]
    }
   ],
   "source": [
    "# Check on learning progress when seeing the full feature set\n",
    "_ = compare_models(knn_model_result, knn_hpt_result)"
   ]
  },
  {
   "cell_type": "markdown",
   "metadata": {},
   "source": [
    "It turns out that giving KNN more features to learn from does not help increasing its score!\n",
    "Or at least for the given best parameters.\n",
    "This is due to the reason that KNN is extremely sensitive to the data it sees.\n",
    "The introduction of new features fundamentally changes the weights and distances it would see, and thus might change the parameters for which it would perform best.\n",
    "\n",
    "Consequently, its performance on the full feature set pales in comparison to random forest, even though it did a better job on the reduced one.\n",
    "\n",
    "However, KNN is known to perform better on scaled data; let's store our results just as we did before and check its abilities on the other dataset."
   ]
  },
  {
   "cell_type": "code",
   "execution_count": 204,
   "metadata": {},
   "outputs": [
    {
     "name": "stdout",
     "output_type": "stream",
     "text": [
      "-- Model Comparison --\n",
      "new_results.fbeta - old_results.fbeta = -0.166488 --> Worsened!\n",
      "new_results.accuracy - old_results.accuracy = 0.004194 --> Improvement!\n",
      "\n",
      "Best model so far:\n",
      "RandomForestClassifier(max_depth=20, n_estimators=5, n_jobs=-1,\n",
      "                       random_state=404)\n",
      "Its score: 0.822397\n"
     ]
    }
   ],
   "source": [
    "# Store the model results\n",
    "add_unscaled_model(\"K Nearest Neighbours\", knn_model_result)\n",
    "\n",
    "BEST_MODEL, BEST_SCORE = compare_models(knn_model_result, results(top_overall(1)[0]))"
   ]
  },
  {
   "cell_type": "code",
   "execution_count": 39,
   "metadata": {},
   "outputs": [
    {
     "name": "stdout",
     "output_type": "stream",
     "text": [
      "CPU times: user 1.44 s, sys: 98 ms, total: 1.54 s\n",
      "Wall time: 987 ms\n"
     ]
    }
   ],
   "source": [
    "# Repeat the process with the scaled dataset;\n",
    "# Create a new grid search in order to avoid overwriting the original.\n",
    "knn_scaled_model = GridSearchCV(\n",
    "    estimator=knn,\n",
    "    param_grid=knn_param_grid,\n",
    "    refit=True,\n",
    "    verbose=0,\n",
    "    scoring=scorer\n",
    ")\n",
    "%time _ = knn_scaled_model.fit(X_train_scaled_15, y_train)"
   ]
  },
  {
   "cell_type": "code",
   "execution_count": 40,
   "metadata": {},
   "outputs": [
    {
     "name": "stdout",
     "output_type": "stream",
     "text": [
      "-- Training Results --\n",
      "Best Parameters:\n",
      "\tn_neighbors:\t5\n",
      "\tweights:\tdistance\n",
      "Best Score:\n",
      "\t0.863548\n",
      "\n",
      "-- Testing Results --\n",
      "Accuracy    on Verification Data:\t0.994484\n",
      "Fbeta scroe on Verification Data:\t0.868224\n",
      "\n",
      "              precision    recall  f1-score   support\n",
      "\n",
      "           0       1.00      0.99      1.00     56651\n",
      "           1       0.22      0.89      0.35        95\n",
      "\n",
      "    accuracy                           0.99     56746\n",
      "   macro avg       0.61      0.94      0.67     56746\n",
      "weighted avg       1.00      0.99      1.00     56746\n",
      "\n",
      "False negatives: 10 (10.526% out of 95 true positives, 0.018% overall)\n",
      "\n"
     ]
    }
   ],
   "source": [
    "# Evaluate the process\n",
    "knn_scaled_hpt_result = evaluate_hpt(\n",
    "    model=knn_scaled_model,\n",
    "    X_test=X_test_scaled_15,\n",
    "    y_true=y_true,\n",
    "    beta=BETA,\n",
    "    average=AVERAGE\n",
    ")"
   ]
  },
  {
   "cell_type": "code",
   "execution_count": 41,
   "metadata": {},
   "outputs": [
    {
     "name": "stdout",
     "output_type": "stream",
     "text": [
      "-- HPT Evaluation --\n",
      "new_results.fbeta - old_results.fbeta = 0.038836 --> Improvement!\n",
      "new_results.accuracy - old_results.accuracy = 0.008159 --> Improvement!\n",
      "\n",
      "Best model so far:\n",
      "KNeighborsClassifier(n_jobs=-1, weights='distance') with Parameters\n",
      "{'n_neighbors': 5, 'weights': 'distance'}\n",
      "Its score: 0.868224\n"
     ]
    }
   ],
   "source": [
    "_ = compare_models(knn_scaled_hpt_result, BEST_SCALED_HPT_15_RESULT)"
   ]
  },
  {
   "cell_type": "code",
   "execution_count": 42,
   "metadata": {},
   "outputs": [],
   "source": [
    "BEST_SCALED_HPT_15_RESULT = knn_scaled_hpt_result"
   ]
  },
  {
   "cell_type": "code",
   "execution_count": 43,
   "metadata": {},
   "outputs": [
    {
     "data": {
      "image/png": "[encoded data removed]",
      "text/plain": [
       "<Figure size 550x400 with 2 Axes>"
      ]
     },
     "metadata": {},
     "output_type": "display_data"
    }
   ],
   "source": [
    "# Display the confusion matrix\n",
    "confusion_matrix(y_true, knn_scaled_hpt_result.predictions, \"KNN (Scaled; Reduced Feature Set)\")"
   ]
  },
  {
   "cell_type": "markdown",
   "metadata": {},
   "source": [
    "Again, let's let the best one learn from the full featureset."
   ]
  },
  {
   "cell_type": "code",
   "execution_count": 44,
   "metadata": {},
   "outputs": [
    {
     "name": "stdout",
     "output_type": "stream",
     "text": [
      "CPU times: user 4.02 ms, sys: 753 μs, total: 4.77 ms\n",
      "Wall time: 1.3 ms\n"
     ]
    }
   ],
   "source": [
    "best_knn_scaled = knn_scaled_model.best_estimator_\n",
    "%time _ = best_knn_scaled.fit(X_train_scaled, y_train)"
   ]
  },
  {
   "cell_type": "code",
   "execution_count": 45,
   "metadata": {},
   "outputs": [
    {
     "name": "stdout",
     "output_type": "stream",
     "text": [
      "\n",
      "-- Testing Results --\n",
      "Accuracy    on Verification Data:\t0.993867\n",
      "Fbeta scroe on Verification Data:\t0.865162\n",
      "\n",
      "              precision    recall  f1-score   support\n",
      "\n",
      "           0       1.00      0.99      1.00     56651\n",
      "           1       0.20      0.89      0.33        95\n",
      "\n",
      "    accuracy                           0.99     56746\n",
      "   macro avg       0.60      0.94      0.66     56746\n",
      "weighted avg       1.00      0.99      1.00     56746\n",
      "\n",
      "False negatives: 10 (10.526% out of 95 true positives, 0.018% overall)\n",
      "\n"
     ]
    }
   ],
   "source": [
    "# Evaluate this model\n",
    "knn_scaled_model_result = evaluate_model(\n",
    "    model=best_knn_scaled,\n",
    "    X_test=X_test_scaled,\n",
    "    y_true=y_true,\n",
    "    beta=BETA,\n",
    "    average=AVERAGE\n",
    ")"
   ]
  },
  {
   "cell_type": "code",
   "execution_count": 46,
   "metadata": {},
   "outputs": [
    {
     "data": {
      "image/png": "[encoded data removed]",
      "text/plain": [
       "<Figure size 550x400 with 2 Axes>"
      ]
     },
     "metadata": {},
     "output_type": "display_data"
    }
   ],
   "source": [
    "# Display the confusion matrix\n",
    "confusion_matrix(y_true, knn_scaled_model_result.predictions, \"KNN (Scaled, Full Feature Set)\")"
   ]
  },
  {
   "cell_type": "code",
   "execution_count": 47,
   "metadata": {},
   "outputs": [
    {
     "name": "stdout",
     "output_type": "stream",
     "text": [
      "-- Model Comparison --\n",
      "new_results.fbeta - old_results.fbeta = 0.042765 --> Improvement!\n",
      "new_results.accuracy - old_results.accuracy = 0.009093 --> Improvement!\n",
      "\n",
      "Best model so far:\n",
      "KNeighborsClassifier(n_jobs=-1, weights='distance')\n",
      "Its score: 0.865162\n"
     ]
    }
   ],
   "source": [
    "_ = compare_models(knn_scaled_model_result, BEST_SCALED_HPT_RESULT)"
   ]
  },
  {
   "cell_type": "code",
   "execution_count": 48,
   "metadata": {},
   "outputs": [],
   "source": [
    "BEST_SCALED_HPT_RESULT = knn_scaled_model_result"
   ]
  },
  {
   "cell_type": "code",
   "execution_count": 49,
   "metadata": {},
   "outputs": [
    {
     "name": "stdout",
     "output_type": "stream",
     "text": [
      "-- Model Comparison --\n",
      "new_results.fbeta - old_results.fbeta = -0.003062 --> Worsened!\n",
      "new_results.accuracy - old_results.accuracy = -0.000617 --> Worsened!\n",
      "\n",
      "Best model so far:\n",
      "KNeighborsClassifier(n_jobs=-1, weights='distance')\n",
      "Its score: 0.868224\n"
     ]
    }
   ],
   "source": [
    "# Check on learning progress when seeing the full feature set\n",
    "_ = compare_models(knn_scaled_model_result, knn_scaled_hpt_result)"
   ]
  },
  {
   "cell_type": "markdown",
   "metadata": {},
   "source": [
    "Again, KNN doesn't perform as good on the full feature set as it did on the reduced one, but the difference in the score is way lower now!\n",
    "\n",
    "Now, looking at the best models on the full and scaled feature set, we see a difference to the unscaled version:"
   ]
  },
  {
   "cell_type": "code",
   "execution_count": 205,
   "metadata": {},
   "outputs": [
    {
     "name": "stdout",
     "output_type": "stream",
     "text": [
      "-- Model Comparison --\n",
      "new_results.fbeta - old_results.fbeta = 0.042765 --> Improvement!\n",
      "new_results.accuracy - old_results.accuracy = 0.009093 --> Improvement!\n",
      "\n",
      "Best model so far:\n",
      "KNeighborsClassifier(n_jobs=-1, weights='distance')\n",
      "Its score: 0.865162\n"
     ]
    }
   ],
   "source": [
    "BEST_MODEL, BEST_SCORE = compare_models(knn_scaled_model_result, results(top_overall(1)[0]))"
   ]
  },
  {
   "cell_type": "markdown",
   "metadata": {},
   "source": [
    "This time KNN *does* beat random forest!\n",
    "In fact, looking at the confusion matrices, while KNN has the same amount of false negatives to show, its false positive predictions look way better than random forest's!\n",
    "(Which is why the $F_{10}$ score is better here.)\n",
    "\n",
    "We will add this candidate to our best models as well, with a reminder that it needs the scaled dataset to perform optimally."
   ]
  },
  {
   "cell_type": "code",
   "execution_count": 206,
   "metadata": {},
   "outputs": [],
   "source": [
    "add_scaled_model(\"K Nearest Neighbours\", knn_scaled_model_result)"
   ]
  },
  {
   "cell_type": "markdown",
   "metadata": {},
   "source": [
    "--------------------------------------------------------------------------------\n",
    "\n",
    "## Naive Bayes\n",
    "\n",
    "Our next candidate is Naive Bayes.\n",
    "Now this model doesn't offer much in terms of hyperparameter tuning, but we want to include it anyways.\n",
    "\n",
    "Again, the same procedure as before..."
   ]
  },
  {
   "cell_type": "code",
   "execution_count": 52,
   "metadata": {},
   "outputs": [],
   "source": [
    "from sklearn.naive_bayes import GaussianNB"
   ]
  },
  {
   "cell_type": "code",
   "execution_count": 53,
   "metadata": {},
   "outputs": [],
   "source": [
    "naive_bayes = GaussianNB()                                             # base estimator\n",
    "rel_positive = y_true.value_counts(True)[1]\n",
    "nb_param_grid = {                                                      # parameter grid for hyperparameter tuning\n",
    "    'priors': [None, [1 - rel_positive, rel_positive]],\n",
    "}"
   ]
  },
  {
   "cell_type": "code",
   "execution_count": 54,
   "metadata": {},
   "outputs": [
    {
     "name": "stdout",
     "output_type": "stream",
     "text": [
      "CPU times: user 40.7 ms, sys: 4.06 ms, total: 44.8 ms\n",
      "Wall time: 45.2 ms\n"
     ]
    }
   ],
   "source": [
    "nb_model = GridSearchCV(\n",
    "    estimator=naive_bayes,\n",
    "    param_grid=nb_param_grid,\n",
    "    refit=True,\n",
    "    verbose=0,\n",
    "    scoring=scorer\n",
    ")\n",
    "%time _ = nb_model.fit(X_train_15, y_train)"
   ]
  },
  {
   "cell_type": "code",
   "execution_count": 55,
   "metadata": {},
   "outputs": [
    {
     "name": "stdout",
     "output_type": "stream",
     "text": [
      "-- Training Results --\n",
      "Best Parameters:\n",
      "\tpriors:\tNone\n",
      "Best Score:\n",
      "\t0.847240\n",
      "\n",
      "-- Testing Results --\n",
      "Accuracy    on Verification Data:\t0.982078\n",
      "Fbeta scroe on Verification Data:\t0.791745\n",
      "\n",
      "              precision    recall  f1-score   support\n",
      "\n",
      "           0       1.00      0.98      0.99     56651\n",
      "           1       0.08      0.87      0.14        95\n",
      "\n",
      "    accuracy                           0.98     56746\n",
      "   macro avg       0.54      0.93      0.57     56746\n",
      "weighted avg       1.00      0.98      0.99     56746\n",
      "\n",
      "False negatives: 12 (12.632% out of 95 true positives, 0.021% overall)\n",
      "\n"
     ]
    }
   ],
   "source": [
    "# Evaluate the process\n",
    "nb_hpt_result = evaluate_hpt(\n",
    "    model=nb_model,\n",
    "    X_test=X_test_15,\n",
    "    y_true=y_true,\n",
    "    beta=BETA,\n",
    "    average=AVERAGE\n",
    ")"
   ]
  },
  {
   "cell_type": "code",
   "execution_count": 56,
   "metadata": {},
   "outputs": [
    {
     "data": {
      "image/png": "[encoded data removed]",
      "text/plain": [
       "<Figure size 550x400 with 2 Axes>"
      ]
     },
     "metadata": {},
     "output_type": "display_data"
    }
   ],
   "source": [
    "# Display the confusion matrix\n",
    "confusion_matrix(y_true, nb_hpt_result.predictions, \"Naive Bayes (Reduced Feature Set)\")"
   ]
  },
  {
   "cell_type": "code",
   "execution_count": 57,
   "metadata": {},
   "outputs": [
    {
     "name": "stdout",
     "output_type": "stream",
     "text": [
      "-- HPT Evaluation --\n",
      "new_results.fbeta - old_results.fbeta = -0.080094 --> Worsened!\n",
      "new_results.accuracy - old_results.accuracy = -0.013129 --> Worsened!\n",
      "\n",
      "Best model so far:\n",
      "KNeighborsClassifier(n_jobs=-1) with Parameters\n",
      "{'n_neighbors': 5, 'weights': 'uniform'}\n",
      "Its score: 0.871839\n"
     ]
    }
   ],
   "source": [
    "# Compare HPT processes\n",
    "_ = compare_models(nb_hpt_result, BEST_HPT_15_RESULT)"
   ]
  },
  {
   "cell_type": "code",
   "execution_count": 58,
   "metadata": {},
   "outputs": [],
   "source": [
    "BEST_HPT_15_RESULT = nb_hpt_result"
   ]
  },
  {
   "cell_type": "markdown",
   "metadata": {},
   "source": [
    "Naive Bayes now scores a little bit higher in the hyperparameter tuning process than random forest (on the unscaled dataset).\n",
    "It shows a few more false negatives here, but significantly less false positives.\n",
    "\n",
    "The picture changes, however, if we compare them on the full feature set.\n",
    "First, let's evaluate its learning progress when seeing the full data:"
   ]
  },
  {
   "cell_type": "code",
   "execution_count": 59,
   "metadata": {},
   "outputs": [
    {
     "name": "stdout",
     "output_type": "stream",
     "text": [
      "CPU times: user 3.82 ms, sys: 2.29 ms, total: 6.12 ms\n",
      "Wall time: 4.72 ms\n"
     ]
    }
   ],
   "source": [
    "best_nb = nb_model.best_estimator_\n",
    "%time _ = best_nb.fit(X_train, y_train)"
   ]
  },
  {
   "cell_type": "code",
   "execution_count": 60,
   "metadata": {},
   "outputs": [
    {
     "name": "stdout",
     "output_type": "stream",
     "text": [
      "\n",
      "-- Testing Results --\n",
      "Accuracy    on Verification Data:\t0.969936\n",
      "Fbeta scroe on Verification Data:\t0.743371\n",
      "\n",
      "              precision    recall  f1-score   support\n",
      "\n",
      "           0       1.00      0.97      0.98     56651\n",
      "           1       0.05      0.87      0.09        95\n",
      "\n",
      "    accuracy                           0.97     56746\n",
      "   macro avg       0.52      0.92      0.54     56746\n",
      "weighted avg       1.00      0.97      0.98     56746\n",
      "\n",
      "False negatives: 12 (12.632% out of 95 true positives, 0.021% overall)\n",
      "\n"
     ]
    }
   ],
   "source": [
    "# Evaluate this model\n",
    "nb_model_result = evaluate_model(\n",
    "    model=best_nb,\n",
    "    X_test=X_test,\n",
    "    y_true=y_true,\n",
    "    beta=BETA,\n",
    "    average=AVERAGE\n",
    ")"
   ]
  },
  {
   "cell_type": "code",
   "execution_count": 61,
   "metadata": {},
   "outputs": [
    {
     "data": {
      "image/png": "[encoded data removed]",
      "text/plain": [
       "<Figure size 550x400 with 2 Axes>"
      ]
     },
     "metadata": {},
     "output_type": "display_data"
    }
   ],
   "source": [
    "# Display the confusion matrix\n",
    "confusion_matrix(y_true, nb_model_result.predictions, \"Naive Bayes (Full Feature Set)\")"
   ]
  },
  {
   "cell_type": "code",
   "execution_count": 62,
   "metadata": {},
   "outputs": [
    {
     "name": "stdout",
     "output_type": "stream",
     "text": [
      "-- Model Comparison --\n",
      "new_results.fbeta - old_results.fbeta = -0.048374 --> Worsened!\n",
      "new_results.accuracy - old_results.accuracy = -0.012142 --> Worsened!\n",
      "\n",
      "Best model so far:\n",
      "GaussianNB()\n",
      "Its score: 0.791745\n"
     ]
    }
   ],
   "source": [
    "# Check on learning progress when seeing the full feature set\n",
    "_ = compare_models(nb_model_result, nb_hpt_result)"
   ]
  },
  {
   "cell_type": "markdown",
   "metadata": {},
   "source": [
    "Again, we see a case where giving the model the full feature set acutally gets it more confused.\n",
    "\n",
    "Thus you can see a clear difference between those results and the ones from random forest:"
   ]
  },
  {
   "cell_type": "code",
   "execution_count": 63,
   "metadata": {},
   "outputs": [
    {
     "name": "stdout",
     "output_type": "stream",
     "text": [
      "-- Model Comparison --\n",
      "new_results.fbeta - old_results.fbeta = -0.079025 --> Worsened!\n",
      "new_results.accuracy - old_results.accuracy = -0.014838 --> Worsened!\n",
      "\n",
      "Best model so far:\n",
      "RandomForestClassifier(max_depth=20, n_estimators=5, n_jobs=-1,\n",
      "                       random_state=404)\n",
      "Its score: 0.822397\n"
     ]
    }
   ],
   "source": [
    "# Compare NB and best model on full feature set:\n",
    "_ = compare_models(nb_model_result, BEST_HPT_RESULT)"
   ]
  },
  {
   "cell_type": "markdown",
   "metadata": {},
   "source": [
    "Here, random forest keeps the upper ground.\n",
    "\n",
    "Anyways, let's store this model for later and move on with the scaled dataset."
   ]
  },
  {
   "cell_type": "code",
   "execution_count": 207,
   "metadata": {},
   "outputs": [
    {
     "name": "stdout",
     "output_type": "stream",
     "text": [
      "-- Model Comparison --\n",
      "new_results.fbeta - old_results.fbeta = -0.121790 --> Worsened!\n",
      "new_results.accuracy - old_results.accuracy = -0.023931 --> Worsened!\n",
      "\n",
      "Best model so far:\n",
      "KNeighborsClassifier(n_jobs=-1, weights='distance')\n",
      "Its score: 0.865162\n"
     ]
    }
   ],
   "source": [
    "# Store the model results\n",
    "add_unscaled_model(\"Naive Bayes\", nb_model_result)\n",
    "\n",
    "BEST_MODEL, BEST_SCORE = compare_models(nb_model_result, results(top_overall(1)[0]))"
   ]
  },
  {
   "cell_type": "code",
   "execution_count": 65,
   "metadata": {},
   "outputs": [
    {
     "name": "stdout",
     "output_type": "stream",
     "text": [
      "CPU times: user 39.5 ms, sys: 3.43 ms, total: 43 ms\n",
      "Wall time: 42.9 ms\n"
     ]
    }
   ],
   "source": [
    "# Repeat the process with the scaled dataset;\n",
    "# Create a new grid search in order to avoid overwriting the original.\n",
    "nb_scaled_model = GridSearchCV(\n",
    "    estimator=naive_bayes,\n",
    "    param_grid=nb_param_grid,\n",
    "    refit=True,\n",
    "    verbose=0,\n",
    "    scoring=scorer\n",
    ")\n",
    "%time _ = nb_scaled_model.fit(X_train_scaled_15, y_train)"
   ]
  },
  {
   "cell_type": "code",
   "execution_count": 66,
   "metadata": {},
   "outputs": [
    {
     "name": "stdout",
     "output_type": "stream",
     "text": [
      "-- Training Results --\n",
      "Best Parameters:\n",
      "\tpriors:\tNone\n",
      "Best Score:\n",
      "\t0.847240\n",
      "\n",
      "-- Testing Results --\n",
      "Accuracy    on Verification Data:\t0.982078\n",
      "Fbeta scroe on Verification Data:\t0.791745\n",
      "\n",
      "              precision    recall  f1-score   support\n",
      "\n",
      "           0       1.00      0.98      0.99     56651\n",
      "           1       0.08      0.87      0.14        95\n",
      "\n",
      "    accuracy                           0.98     56746\n",
      "   macro avg       0.54      0.93      0.57     56746\n",
      "weighted avg       1.00      0.98      0.99     56746\n",
      "\n",
      "False negatives: 12 (12.632% out of 95 true positives, 0.021% overall)\n",
      "\n"
     ]
    }
   ],
   "source": [
    "# Evaluate the process\n",
    "nb_scaled_hpt_result = evaluate_hpt(\n",
    "    model=nb_scaled_model,\n",
    "    X_test=X_test_scaled_15,\n",
    "    y_true=y_true,\n",
    "    beta=BETA,\n",
    "    average=AVERAGE\n",
    ")"
   ]
  },
  {
   "cell_type": "code",
   "execution_count": 67,
   "metadata": {},
   "outputs": [
    {
     "data": {
      "image/png": "[encoded data removed]",
      "text/plain": [
       "<Figure size 550x400 with 2 Axes>"
      ]
     },
     "metadata": {},
     "output_type": "display_data"
    }
   ],
   "source": [
    "# Display the confusion matrix\n",
    "confusion_matrix(y_true, nb_scaled_hpt_result.predictions, \"Naive Bayes (Scaled; Reduced Feature Set)\")"
   ]
  },
  {
   "cell_type": "code",
   "execution_count": 68,
   "metadata": {},
   "outputs": [
    {
     "name": "stdout",
     "output_type": "stream",
     "text": [
      "-- HPT Evaluation --\n",
      "new_results.fbeta - old_results.fbeta = -0.076479 --> Worsened!\n",
      "new_results.accuracy - old_results.accuracy = -0.012406 --> Worsened!\n",
      "\n",
      "Best model so far:\n",
      "KNeighborsClassifier(n_jobs=-1, weights='distance') with Parameters\n",
      "{'n_neighbors': 5, 'weights': 'distance'}\n",
      "Its score: 0.868224\n"
     ]
    }
   ],
   "source": [
    "_ = compare_models(nb_scaled_hpt_result, BEST_SCALED_HPT_15_RESULT)"
   ]
  },
  {
   "cell_type": "markdown",
   "metadata": {},
   "source": [
    "Again, let's let the best one learn from the full featureset."
   ]
  },
  {
   "cell_type": "code",
   "execution_count": 69,
   "metadata": {},
   "outputs": [
    {
     "name": "stdout",
     "output_type": "stream",
     "text": [
      "CPU times: user 3.37 ms, sys: 1.79 ms, total: 5.16 ms\n",
      "Wall time: 3.63 ms\n"
     ]
    }
   ],
   "source": [
    "best_nb_scaled = nb_scaled_model.best_estimator_\n",
    "%time _ = best_nb_scaled.fit(X_train_scaled, y_train)"
   ]
  },
  {
   "cell_type": "code",
   "execution_count": 70,
   "metadata": {},
   "outputs": [
    {
     "name": "stdout",
     "output_type": "stream",
     "text": [
      "\n",
      "-- Testing Results --\n",
      "Accuracy    on Verification Data:\t0.969936\n",
      "Fbeta scroe on Verification Data:\t0.743371\n",
      "\n",
      "              precision    recall  f1-score   support\n",
      "\n",
      "           0       1.00      0.97      0.98     56651\n",
      "           1       0.05      0.87      0.09        95\n",
      "\n",
      "    accuracy                           0.97     56746\n",
      "   macro avg       0.52      0.92      0.54     56746\n",
      "weighted avg       1.00      0.97      0.98     56746\n",
      "\n",
      "False negatives: 12 (12.632% out of 95 true positives, 0.021% overall)\n",
      "\n"
     ]
    }
   ],
   "source": [
    "# Evaluate this model\n",
    "nb_scaled_model_result = evaluate_model(\n",
    "    model=best_nb_scaled,\n",
    "    X_test=X_test_scaled,\n",
    "    y_true=y_true,\n",
    "    beta=BETA,\n",
    "    average=AVERAGE\n",
    ")"
   ]
  },
  {
   "cell_type": "code",
   "execution_count": 71,
   "metadata": {},
   "outputs": [
    {
     "data": {
      "image/png": "[encoded data removed]",
      "text/plain": [
       "<Figure size 550x400 with 2 Axes>"
      ]
     },
     "metadata": {},
     "output_type": "display_data"
    }
   ],
   "source": [
    "# Display the confusion matrix\n",
    "confusion_matrix(y_true, nb_scaled_model_result.predictions, \"Naive Bayes (Scaled, Full Feature Set)\")"
   ]
  },
  {
   "cell_type": "code",
   "execution_count": 72,
   "metadata": {},
   "outputs": [
    {
     "name": "stdout",
     "output_type": "stream",
     "text": [
      "-- Model Comparison --\n",
      "new_results.fbeta - old_results.fbeta = -0.121790 --> Worsened!\n",
      "new_results.accuracy - old_results.accuracy = -0.023931 --> Worsened!\n",
      "\n",
      "Best model so far:\n",
      "KNeighborsClassifier(n_jobs=-1, weights='distance')\n",
      "Its score: 0.865162\n"
     ]
    }
   ],
   "source": [
    "_ = compare_models(nb_scaled_model_result, BEST_SCALED_HPT_RESULT)"
   ]
  },
  {
   "cell_type": "code",
   "execution_count": 73,
   "metadata": {},
   "outputs": [
    {
     "name": "stdout",
     "output_type": "stream",
     "text": [
      "-- Model Comparison --\n",
      "new_results.fbeta - old_results.fbeta = -0.048374 --> Worsened!\n",
      "new_results.accuracy - old_results.accuracy = -0.012142 --> Worsened!\n",
      "\n",
      "Best model so far:\n",
      "GaussianNB()\n",
      "Its score: 0.791745\n"
     ]
    }
   ],
   "source": [
    "# Check on learning progress when seeing the full feature set\n",
    "_ = compare_models(nb_scaled_model_result, nb_scaled_hpt_result)"
   ]
  },
  {
   "cell_type": "markdown",
   "metadata": {},
   "source": [
    "Scaled or not, naive Bayes shows the same behaviour here.\n",
    "\n",
    "Its advantage is that it's simple, but it cannot compete with either of the other models tested so far."
   ]
  },
  {
   "cell_type": "code",
   "execution_count": 208,
   "metadata": {},
   "outputs": [
    {
     "name": "stdout",
     "output_type": "stream",
     "text": [
      "-- Model Comparison --\n",
      "new_results.fbeta - old_results.fbeta = -0.121790 --> Worsened!\n",
      "new_results.accuracy - old_results.accuracy = -0.023931 --> Worsened!\n",
      "\n",
      "Best model so far:\n",
      "KNeighborsClassifier(n_jobs=-1, weights='distance')\n",
      "Its score: 0.865162\n"
     ]
    }
   ],
   "source": [
    "BEST_MODEL, BEST_SCORE = compare_models(nb_scaled_model_result, results(top_overall(1)[0]))"
   ]
  },
  {
   "cell_type": "markdown",
   "metadata": {},
   "source": [
    "We will keep track of it anyways. It might still become relevant for our combined model approach..."
   ]
  },
  {
   "cell_type": "code",
   "execution_count": 209,
   "metadata": {},
   "outputs": [],
   "source": [
    "add_scaled_model(\"Naive Bayes\", nb_scaled_model_result)"
   ]
  },
  {
   "cell_type": "markdown",
   "metadata": {},
   "source": [
    "--------------------------------------------------------------------------------\n",
    "\n",
    "## Logistic Regression"
   ]
  },
  {
   "cell_type": "code",
   "execution_count": 77,
   "metadata": {},
   "outputs": [],
   "source": [
    "from sklearn.linear_model import LogisticRegression"
   ]
  },
  {
   "cell_type": "code",
   "execution_count": 78,
   "metadata": {},
   "outputs": [],
   "source": [
    "logistic_regression = LogisticRegression(max_iter=15000, n_jobs=-1, random_state=404)   # base estimator\n",
    "lr_param_grid = {                                                                       # parameter grid for hyperparameter tuning\n",
    "    'penalty': ['l2', None],\n",
    "    'tol': [1.e-4, 1.e-5, 1.e-6],\n",
    "    'C': [.4+.2*n for n in range(6)],\n",
    "    'fit_intercept': [True, False],\n",
    "}"
   ]
  },
  {
   "cell_type": "code",
   "execution_count": 79,
   "metadata": {},
   "outputs": [
    {
     "name": "stdout",
     "output_type": "stream",
     "text": [
      "CPU times: user 1.13 s, sys: 176 ms, total: 1.3 s\n",
      "Wall time: 9.74 s\n"
     ]
    }
   ],
   "source": [
    "lr_model = GridSearchCV(\n",
    "    estimator=logistic_regression,\n",
    "    param_grid=lr_param_grid,\n",
    "    refit=True,\n",
    "    verbose=0,\n",
    "    scoring=scorer\n",
    ")\n",
    "\n",
    "# Suppress warnings regarding 'penalty=None' in combination with C\n",
    "import warnings\n",
    "warnings.filterwarnings('ignore')\n",
    "\n",
    "%time _ = lr_model.fit(X_train_15, y_train)"
   ]
  },
  {
   "cell_type": "code",
   "execution_count": 80,
   "metadata": {},
   "outputs": [
    {
     "name": "stdout",
     "output_type": "stream",
     "text": [
      "-- Training Results --\n",
      "Best Parameters:\n",
      "\tC:\t0.4\n",
      "\tfit_intercept:\tFalse\n",
      "\tpenalty:\tl2\n",
      "\ttol:\t0.0001\n",
      "Best Score:\n",
      "\t0.958132\n",
      "\n",
      "-- Testing Results --\n",
      "Accuracy    on Verification Data:\t0.684947\n",
      "Fbeta scroe on Verification Data:\t0.349252\n",
      "\n",
      "              precision    recall  f1-score   support\n",
      "\n",
      "           0       1.00      0.68      0.81     56651\n",
      "           1       0.01      1.00      0.01        95\n",
      "\n",
      "    accuracy                           0.68     56746\n",
      "   macro avg       0.50      0.84      0.41     56746\n",
      "weighted avg       1.00      0.68      0.81     56746\n",
      "\n",
      "False negatives: 0 (0.000% out of 95 true positives, 0.000% overall)\n",
      "\n"
     ]
    }
   ],
   "source": [
    "# Evaluate the process\n",
    "lr_hpt_result = evaluate_hpt(\n",
    "    model=lr_model,\n",
    "    X_test=X_test_15,\n",
    "    y_true=y_true,\n",
    "    beta=BETA,\n",
    "    average=AVERAGE\n",
    ")"
   ]
  },
  {
   "cell_type": "code",
   "execution_count": 81,
   "metadata": {},
   "outputs": [
    {
     "data": {
      "image/png": "[encoded data removed]",
      "text/plain": [
       "<Figure size 550x400 with 2 Axes>"
      ]
     },
     "metadata": {},
     "output_type": "display_data"
    }
   ],
   "source": [
    "# Display the confusion matrix\n",
    "confusion_matrix(y_true, lr_hpt_result.predictions, \"Logistic Regression (Reduced Feature Set)\")"
   ]
  },
  {
   "cell_type": "code",
   "execution_count": 82,
   "metadata": {},
   "outputs": [
    {
     "name": "stdout",
     "output_type": "stream",
     "text": [
      "-- HPT Evaluation --\n",
      "new_results.fbeta - old_results.fbeta = -0.442493 --> Worsened!\n",
      "new_results.accuracy - old_results.accuracy = -0.297131 --> Worsened!\n",
      "\n",
      "Best model so far:\n",
      "GaussianNB() with Parameters\n",
      "{'priors': None}\n",
      "Its score: 0.791745\n"
     ]
    }
   ],
   "source": [
    "# Compare HPT processes\n",
    "_ = compare_models(lr_hpt_result, BEST_HPT_15_RESULT)"
   ]
  },
  {
   "cell_type": "code",
   "execution_count": 83,
   "metadata": {},
   "outputs": [
    {
     "name": "stdout",
     "output_type": "stream",
     "text": [
      "CPU times: user 136 ms, sys: 2.91 ms, total: 139 ms\n",
      "Wall time: 72.6 ms\n"
     ]
    }
   ],
   "source": [
    "best_lr = lr_model.best_estimator_\n",
    "%time _ = best_lr.fit(X_train, y_train)"
   ]
  },
  {
   "cell_type": "code",
   "execution_count": 84,
   "metadata": {},
   "outputs": [
    {
     "name": "stdout",
     "output_type": "stream",
     "text": [
      "\n",
      "-- Testing Results --\n",
      "Accuracy    on Verification Data:\t0.984069\n",
      "Fbeta scroe on Verification Data:\t0.828738\n",
      "\n",
      "              precision    recall  f1-score   support\n",
      "\n",
      "           0       1.00      0.98      0.99     56651\n",
      "           1       0.09      0.91      0.16        95\n",
      "\n",
      "    accuracy                           0.98     56746\n",
      "   macro avg       0.54      0.94      0.58     56746\n",
      "weighted avg       1.00      0.98      0.99     56746\n",
      "\n",
      "False negatives: 9 (9.474% out of 95 true positives, 0.016% overall)\n",
      "\n"
     ]
    }
   ],
   "source": [
    "# Evaluate this model\n",
    "lr_model_result = evaluate_model(\n",
    "    model=best_lr,\n",
    "    X_test=X_test,\n",
    "    y_true=y_true,\n",
    "    beta=BETA,\n",
    "    average=AVERAGE\n",
    ")"
   ]
  },
  {
   "cell_type": "code",
   "execution_count": 85,
   "metadata": {},
   "outputs": [
    {
     "data": {
      "image/png": "[encoded data removed]",
      "text/plain": [
       "<Figure size 550x400 with 2 Axes>"
      ]
     },
     "metadata": {},
     "output_type": "display_data"
    }
   ],
   "source": [
    "# Display the confusion matrix\n",
    "confusion_matrix(y_true, lr_model_result.predictions, \"Logistic Regression (Full Feature Set)\")"
   ]
  },
  {
   "cell_type": "code",
   "execution_count": 86,
   "metadata": {},
   "outputs": [
    {
     "name": "stdout",
     "output_type": "stream",
     "text": [
      "-- Model Comparison --\n",
      "new_results.fbeta - old_results.fbeta = 0.479486 --> Improvement!\n",
      "new_results.accuracy - old_results.accuracy = 0.299122 --> Improvement!\n",
      "\n",
      "Best model so far:\n",
      "LogisticRegression(C=0.4, fit_intercept=False, max_iter=15000, n_jobs=-1,\n",
      "                   random_state=404)\n",
      "Its score: 0.828738\n"
     ]
    }
   ],
   "source": [
    "# Check on learning progress when seeing the full feature set\n",
    "_ = compare_models(lr_model_result, lr_hpt_result)"
   ]
  },
  {
   "cell_type": "code",
   "execution_count": 87,
   "metadata": {},
   "outputs": [
    {
     "name": "stdout",
     "output_type": "stream",
     "text": [
      "-- Model Comparison --\n",
      "new_results.fbeta - old_results.fbeta = 0.006341 --> Improvement!\n",
      "new_results.accuracy - old_results.accuracy = -0.000705 --> Worsened!\n",
      "\n",
      "Best model so far:\n",
      "LogisticRegression(C=0.4, fit_intercept=False, max_iter=15000, n_jobs=-1,\n",
      "                   random_state=404)\n",
      "Its score: 0.828738\n"
     ]
    }
   ],
   "source": [
    "# Compare RF and NB on full feature set:\n",
    "_ = compare_models(lr_model_result, BEST_HPT_RESULT)"
   ]
  },
  {
   "cell_type": "code",
   "execution_count": 210,
   "metadata": {},
   "outputs": [
    {
     "name": "stdout",
     "output_type": "stream",
     "text": [
      "-- Model Comparison --\n",
      "new_results.fbeta - old_results.fbeta = -0.036424 --> Worsened!\n",
      "new_results.accuracy - old_results.accuracy = -0.009798 --> Worsened!\n",
      "\n",
      "Best model so far:\n",
      "KNeighborsClassifier(n_jobs=-1, weights='distance')\n",
      "Its score: 0.865162\n"
     ]
    }
   ],
   "source": [
    "# Store the model results\n",
    "add_unscaled_model(\"Logistic Regression\", lr_model_result)\n",
    "\n",
    "BEST_MODEL, BEST_SCORE = compare_models(lr_model_result, results(top_overall(1)[0]))"
   ]
  },
  {
   "cell_type": "code",
   "execution_count": 89,
   "metadata": {},
   "outputs": [
    {
     "name": "stdout",
     "output_type": "stream",
     "text": [
      "CPU times: user 1.12 s, sys: 95.8 ms, total: 1.22 s\n",
      "Wall time: 5.48 s\n"
     ]
    }
   ],
   "source": [
    "# Repeat the process with the scaled dataset;\n",
    "# Create a new grid search in order to avoid overwriting the original.\n",
    "lr_scaled_model = GridSearchCV(\n",
    "    estimator=logistic_regression,\n",
    "    param_grid=lr_param_grid,\n",
    "    refit=True,\n",
    "    verbose=0,\n",
    "    scoring=scorer\n",
    ")\n",
    "%time _ = lr_scaled_model.fit(X_train_scaled_15, y_train)"
   ]
  },
  {
   "cell_type": "code",
   "execution_count": 90,
   "metadata": {},
   "outputs": [
    {
     "name": "stdout",
     "output_type": "stream",
     "text": [
      "-- Training Results --\n",
      "Best Parameters:\n",
      "\tC:\t0.4\n",
      "\tfit_intercept:\tFalse\n",
      "\tpenalty:\tl2\n",
      "\ttol:\t0.0001\n",
      "Best Score:\n",
      "\t0.960035\n",
      "\n",
      "-- Testing Results --\n",
      "Accuracy    on Verification Data:\t0.668364\n",
      "Fbeta scroe on Verification Data:\t0.337686\n",
      "\n",
      "              precision    recall  f1-score   support\n",
      "\n",
      "           0       1.00      0.67      0.80     56651\n",
      "           1       0.01      1.00      0.01        95\n",
      "\n",
      "    accuracy                           0.67     56746\n",
      "   macro avg       0.50      0.83      0.41     56746\n",
      "weighted avg       1.00      0.67      0.80     56746\n",
      "\n",
      "False negatives: 0 (0.000% out of 95 true positives, 0.000% overall)\n",
      "\n"
     ]
    }
   ],
   "source": [
    "# Evaluate the process\n",
    "lr_scaled_hpt_result = evaluate_hpt(\n",
    "    model=lr_scaled_model,\n",
    "    X_test=X_test_scaled_15,\n",
    "    y_true=y_true,\n",
    "    beta=BETA,\n",
    "    average=AVERAGE\n",
    ")"
   ]
  },
  {
   "cell_type": "code",
   "execution_count": 91,
   "metadata": {},
   "outputs": [
    {
     "data": {
      "image/png": "[encoded data removed]",
      "text/plain": [
       "<Figure size 550x400 with 2 Axes>"
      ]
     },
     "metadata": {},
     "output_type": "display_data"
    }
   ],
   "source": [
    "# Display the confusion matrix\n",
    "confusion_matrix(y_true, lr_scaled_hpt_result.predictions, \"Logistic Regression (Scaled; Reduced Feature Set)\")"
   ]
  },
  {
   "cell_type": "code",
   "execution_count": 92,
   "metadata": {},
   "outputs": [
    {
     "name": "stdout",
     "output_type": "stream",
     "text": [
      "-- HPT Evaluation --\n",
      "new_results.fbeta - old_results.fbeta = -0.530538 --> Worsened!\n",
      "new_results.accuracy - old_results.accuracy = -0.326120 --> Worsened!\n",
      "\n",
      "Best model so far:\n",
      "KNeighborsClassifier(n_jobs=-1, weights='distance') with Parameters\n",
      "{'n_neighbors': 5, 'weights': 'distance'}\n",
      "Its score: 0.868224\n"
     ]
    }
   ],
   "source": [
    "_ = compare_models(lr_scaled_hpt_result, BEST_SCALED_HPT_15_RESULT)"
   ]
  },
  {
   "cell_type": "code",
   "execution_count": 93,
   "metadata": {},
   "outputs": [
    {
     "name": "stdout",
     "output_type": "stream",
     "text": [
      "CPU times: user 204 ms, sys: 22.2 ms, total: 226 ms\n",
      "Wall time: 48.2 ms\n"
     ]
    }
   ],
   "source": [
    "best_lr_scaled = lr_scaled_model.best_estimator_\n",
    "%time _ = best_lr_scaled.fit(X_train_scaled, y_train)"
   ]
  },
  {
   "cell_type": "code",
   "execution_count": 94,
   "metadata": {},
   "outputs": [
    {
     "name": "stdout",
     "output_type": "stream",
     "text": [
      "\n",
      "-- Testing Results --\n",
      "Accuracy    on Verification Data:\t0.827283\n",
      "Fbeta scroe on Verification Data:\t0.474056\n",
      "\n",
      "              precision    recall  f1-score   support\n",
      "\n",
      "           0       1.00      0.83      0.91     56651\n",
      "           1       0.01      0.96      0.02        95\n",
      "\n",
      "    accuracy                           0.83     56746\n",
      "   macro avg       0.50      0.89      0.46     56746\n",
      "weighted avg       1.00      0.83      0.90     56746\n",
      "\n",
      "False negatives: 4 (4.211% out of 95 true positives, 0.007% overall)\n",
      "\n"
     ]
    }
   ],
   "source": [
    "# Evaluate this model\n",
    "lr_scaled_model_result = evaluate_model(\n",
    "    model=best_lr_scaled,\n",
    "    X_test=X_test_scaled,\n",
    "    y_true=y_true,\n",
    "    beta=BETA,\n",
    "    average=AVERAGE\n",
    ")"
   ]
  },
  {
   "cell_type": "code",
   "execution_count": 95,
   "metadata": {},
   "outputs": [
    {
     "data": {
      "image/png": "[encoded data removed]",
      "text/plain": [
       "<Figure size 550x400 with 2 Axes>"
      ]
     },
     "metadata": {},
     "output_type": "display_data"
    }
   ],
   "source": [
    "# Display the confusion matrix\n",
    "confusion_matrix(y_true, lr_scaled_model_result.predictions, \"Logistic Regression (Scaled, Full Feature Set)\")"
   ]
  },
  {
   "cell_type": "code",
   "execution_count": 96,
   "metadata": {},
   "outputs": [
    {
     "name": "stdout",
     "output_type": "stream",
     "text": [
      "-- Model Comparison --\n",
      "new_results.fbeta - old_results.fbeta = -0.391106 --> Worsened!\n",
      "new_results.accuracy - old_results.accuracy = -0.166584 --> Worsened!\n",
      "\n",
      "Best model so far:\n",
      "KNeighborsClassifier(n_jobs=-1, weights='distance')\n",
      "Its score: 0.865162\n"
     ]
    }
   ],
   "source": [
    "_ = compare_models(lr_scaled_model_result, BEST_SCALED_HPT_RESULT)"
   ]
  },
  {
   "cell_type": "code",
   "execution_count": 97,
   "metadata": {},
   "outputs": [
    {
     "name": "stdout",
     "output_type": "stream",
     "text": [
      "-- Model Comparison --\n",
      "new_results.fbeta - old_results.fbeta = 0.136370 --> Improvement!\n",
      "new_results.accuracy - old_results.accuracy = 0.158919 --> Improvement!\n",
      "\n",
      "Best model so far:\n",
      "LogisticRegression(C=0.4, fit_intercept=False, max_iter=15000, n_jobs=-1,\n",
      "                   random_state=404)\n",
      "Its score: 0.474056\n"
     ]
    }
   ],
   "source": [
    "# Check on learning progress when seeing the full feature set\n",
    "_ = compare_models(lr_scaled_model_result, lr_scaled_hpt_result)"
   ]
  },
  {
   "cell_type": "code",
   "execution_count": 211,
   "metadata": {},
   "outputs": [
    {
     "name": "stdout",
     "output_type": "stream",
     "text": [
      "-- Model Comparison --\n",
      "new_results.fbeta - old_results.fbeta = -0.391106 --> Worsened!\n",
      "new_results.accuracy - old_results.accuracy = -0.166584 --> Worsened!\n",
      "\n",
      "Best model so far:\n",
      "KNeighborsClassifier(n_jobs=-1, weights='distance')\n",
      "Its score: 0.865162\n"
     ]
    }
   ],
   "source": [
    "BEST_MODEL, BEST_SCORE = compare_models(lr_scaled_model_result, results(top_overall(1)[0]))"
   ]
  },
  {
   "cell_type": "code",
   "execution_count": 212,
   "metadata": {},
   "outputs": [],
   "source": [
    "add_scaled_model(\"Logistic Regression\", lr_scaled_model_result)"
   ]
  },
  {
   "cell_type": "markdown",
   "metadata": {},
   "source": [
    "--------------------------------------------------------------------------------\n",
    "\n",
    "## Support Vector Machine"
   ]
  },
  {
   "cell_type": "code",
   "execution_count": 100,
   "metadata": {},
   "outputs": [],
   "source": [
    "from sklearn.svm import SVC"
   ]
  },
  {
   "cell_type": "code",
   "execution_count": 101,
   "metadata": {},
   "outputs": [],
   "source": [
    "svc = SVC(max_iter=15000, random_state=404)                                             # base estimator\n",
    "svc_param_grid = {                                                                      # parameter grid for hyperparameter tuning\n",
    "    'C': [.4+.2*n for n in range(6)],\n",
    "    'kernel': ['linear', 'poly', 'rbf', 'sigmoid'],\n",
    "    'degree': [3, 5, 10, 15],\n",
    "    'tol': [1.e-4, 1.e-5, 1.e-6],\n",
    "}"
   ]
  },
  {
   "cell_type": "code",
   "execution_count": 102,
   "metadata": {},
   "outputs": [
    {
     "name": "stdout",
     "output_type": "stream",
     "text": [
      "CPU times: user 17.3 s, sys: 147 ms, total: 17.5 s\n",
      "Wall time: 18 s\n"
     ]
    }
   ],
   "source": [
    "svc_model = GridSearchCV(\n",
    "    estimator=svc,\n",
    "    param_grid=svc_param_grid,\n",
    "    refit=True,\n",
    "    verbose=0,\n",
    "    scoring=scorer\n",
    ")\n",
    "\n",
    "%time _ = svc_model.fit(X_train_15, y_train)"
   ]
  },
  {
   "cell_type": "code",
   "execution_count": 103,
   "metadata": {},
   "outputs": [
    {
     "name": "stdout",
     "output_type": "stream",
     "text": [
      "-- Training Results --\n",
      "Best Parameters:\n",
      "\tC:\t0.4\n",
      "\tdegree:\t3\n",
      "\tkernel:\tlinear\n",
      "\ttol:\t1e-05\n",
      "Best Score:\n",
      "\t0.837442\n",
      "\n",
      "-- Testing Results --\n",
      "Accuracy    on Verification Data:\t0.998308\n",
      "Fbeta scroe on Verification Data:\t0.877443\n",
      "\n",
      "              precision    recall  f1-score   support\n",
      "\n",
      "           0       1.00      1.00      1.00     56651\n",
      "           1       0.50      0.88      0.64        95\n",
      "\n",
      "    accuracy                           1.00     56746\n",
      "   macro avg       0.75      0.94      0.82     56746\n",
      "weighted avg       1.00      1.00      1.00     56746\n",
      "\n",
      "False negatives: 11 (11.579% out of 95 true positives, 0.019% overall)\n",
      "\n"
     ]
    }
   ],
   "source": [
    "# Evaluate the process\n",
    "svc_hpt_result = evaluate_hpt(\n",
    "    model=svc_model,\n",
    "    X_test=X_test_15,\n",
    "    y_true=y_true,\n",
    "    beta=BETA,\n",
    "    average=AVERAGE\n",
    ")"
   ]
  },
  {
   "cell_type": "code",
   "execution_count": 104,
   "metadata": {},
   "outputs": [
    {
     "data": {
      "image/png": "[encoded data removed]",
      "text/plain": [
       "<Figure size 550x400 with 2 Axes>"
      ]
     },
     "metadata": {},
     "output_type": "display_data"
    }
   ],
   "source": [
    "# Display the confusion matrix\n",
    "confusion_matrix(y_true, svc_hpt_result.predictions, \"Support Vector Machine (Reduced Feature Set)\")"
   ]
  },
  {
   "cell_type": "code",
   "execution_count": 105,
   "metadata": {},
   "outputs": [
    {
     "name": "stdout",
     "output_type": "stream",
     "text": [
      "-- HPT Evaluation --\n",
      "new_results.fbeta - old_results.fbeta = 0.085698 --> Improvement!\n",
      "new_results.accuracy - old_results.accuracy = 0.016230 --> Improvement!\n",
      "\n",
      "Best model so far:\n",
      "SVC(C=0.4, kernel='linear', max_iter=15000, random_state=404, tol=1e-05) with Parameters\n",
      "{'C': 0.4, 'degree': 3, 'kernel': 'linear', 'tol': 1e-05}\n",
      "Its score: 0.877443\n"
     ]
    }
   ],
   "source": [
    "# Compare HPT processes\n",
    "_ = compare_models(svc_hpt_result, BEST_HPT_15_RESULT)"
   ]
  },
  {
   "cell_type": "code",
   "execution_count": 106,
   "metadata": {},
   "outputs": [
    {
     "name": "stdout",
     "output_type": "stream",
     "text": [
      "CPU times: user 111 ms, sys: 2.32 ms, total: 113 ms\n",
      "Wall time: 39.2 ms\n"
     ]
    }
   ],
   "source": [
    "best_svc = svc_model.best_estimator_\n",
    "%time _ = best_svc.fit(X_train, y_train)"
   ]
  },
  {
   "cell_type": "code",
   "execution_count": 107,
   "metadata": {},
   "outputs": [
    {
     "name": "stdout",
     "output_type": "stream",
     "text": [
      "\n",
      "-- Testing Results --\n",
      "Accuracy    on Verification Data:\t0.943520\n",
      "Fbeta scroe on Verification Data:\t0.609292\n",
      "\n",
      "              precision    recall  f1-score   support\n",
      "\n",
      "           0       1.00      0.94      0.97     56651\n",
      "           1       0.02      0.81      0.05        95\n",
      "\n",
      "    accuracy                           0.94     56746\n",
      "   macro avg       0.51      0.88      0.51     56746\n",
      "weighted avg       1.00      0.94      0.97     56746\n",
      "\n",
      "False negatives: 18 (18.947% out of 95 true positives, 0.032% overall)\n",
      "\n"
     ]
    }
   ],
   "source": [
    "# Evaluate this model\n",
    "svc_model_result = evaluate_model(\n",
    "    model=best_svc,\n",
    "    X_test=X_test,\n",
    "    y_true=y_true,\n",
    "    beta=BETA,\n",
    "    average=AVERAGE\n",
    ")"
   ]
  },
  {
   "cell_type": "code",
   "execution_count": 108,
   "metadata": {},
   "outputs": [
    {
     "data": {
      "image/png": "[encoded data removed]",
      "text/plain": [
       "<Figure size 550x400 with 2 Axes>"
      ]
     },
     "metadata": {},
     "output_type": "display_data"
    }
   ],
   "source": [
    "# Display the confusion matrix\n",
    "confusion_matrix(y_true, svc_model_result.predictions, \"Support Vector Machine (Full Feature Set)\")"
   ]
  },
  {
   "cell_type": "code",
   "execution_count": 109,
   "metadata": {},
   "outputs": [
    {
     "name": "stdout",
     "output_type": "stream",
     "text": [
      "-- Model Comparison --\n",
      "new_results.fbeta - old_results.fbeta = -0.268152 --> Worsened!\n",
      "new_results.accuracy - old_results.accuracy = -0.054788 --> Worsened!\n",
      "\n",
      "Best model so far:\n",
      "SVC(C=0.4, kernel='linear', max_iter=15000, random_state=404, tol=1e-05)\n",
      "Its score: 0.877443\n"
     ]
    }
   ],
   "source": [
    "# Check on learning progress when seeing the full feature set\n",
    "_ = compare_models(svc_model_result, svc_hpt_result)"
   ]
  },
  {
   "cell_type": "code",
   "execution_count": 110,
   "metadata": {},
   "outputs": [
    {
     "name": "stdout",
     "output_type": "stream",
     "text": [
      "-- Model Comparison --\n",
      "new_results.fbeta - old_results.fbeta = -0.213105 --> Worsened!\n",
      "new_results.accuracy - old_results.accuracy = -0.041254 --> Worsened!\n",
      "\n",
      "Best model so far:\n",
      "RandomForestClassifier(max_depth=20, n_estimators=5, n_jobs=-1,\n",
      "                       random_state=404)\n",
      "Its score: 0.822397\n"
     ]
    }
   ],
   "source": [
    "# Compare SVC and RF on full feature set:\n",
    "_ = compare_models(svc_model_result, BEST_HPT_RESULT)"
   ]
  },
  {
   "cell_type": "code",
   "execution_count": 213,
   "metadata": {},
   "outputs": [
    {
     "name": "stdout",
     "output_type": "stream",
     "text": [
      "-- Model Comparison --\n",
      "new_results.fbeta - old_results.fbeta = -0.255870 --> Worsened!\n",
      "new_results.accuracy - old_results.accuracy = -0.050347 --> Worsened!\n",
      "\n",
      "Best model so far:\n",
      "KNeighborsClassifier(n_jobs=-1, weights='distance')\n",
      "Its score: 0.865162\n"
     ]
    }
   ],
   "source": [
    "# Store the model results\n",
    "add_unscaled_model(\"Support Vector Machine\", svc_model_result)\n",
    "\n",
    "BEST_MODEL, BEST_SCORE = compare_models(svc_model_result, results(top_overall(1)[0]))"
   ]
  },
  {
   "cell_type": "code",
   "execution_count": 112,
   "metadata": {},
   "outputs": [
    {
     "name": "stdout",
     "output_type": "stream",
     "text": [
      "CPU times: user 16.6 s, sys: 165 ms, total: 16.7 s\n",
      "Wall time: 17 s\n"
     ]
    }
   ],
   "source": [
    "# Repeat the process with the scaled dataset;\n",
    "# Create a new grid search in order to avoid overwriting the original.\n",
    "svc_scaled_model = GridSearchCV(\n",
    "    estimator=svc,\n",
    "    param_grid=svc_param_grid,\n",
    "    refit=True,\n",
    "    verbose=0,\n",
    "    scoring=scorer\n",
    ")\n",
    "%time _ = svc_scaled_model.fit(X_train_scaled_15, y_train)"
   ]
  },
  {
   "cell_type": "code",
   "execution_count": 113,
   "metadata": {},
   "outputs": [
    {
     "name": "stdout",
     "output_type": "stream",
     "text": [
      "-- Training Results --\n",
      "Best Parameters:\n",
      "\tC:\t1.4\n",
      "\tdegree:\t3\n",
      "\tkernel:\trbf\n",
      "\ttol:\t0.0001\n",
      "Best Score:\n",
      "\t0.840036\n",
      "\n",
      "-- Testing Results --\n",
      "Accuracy    on Verification Data:\t0.997533\n",
      "Fbeta scroe on Verification Data:\t0.873469\n",
      "\n",
      "              precision    recall  f1-score   support\n",
      "\n",
      "           0       1.00      1.00      1.00     56651\n",
      "           1       0.39      0.88      0.55        95\n",
      "\n",
      "    accuracy                           1.00     56746\n",
      "   macro avg       0.70      0.94      0.77     56746\n",
      "weighted avg       1.00      1.00      1.00     56746\n",
      "\n",
      "False negatives: 11 (11.579% out of 95 true positives, 0.019% overall)\n",
      "\n"
     ]
    }
   ],
   "source": [
    "# Evaluate the process\n",
    "svc_scaled_hpt_result = evaluate_hpt(\n",
    "    model=svc_scaled_model,\n",
    "    X_test=X_test_scaled_15,\n",
    "    y_true=y_true,\n",
    "    beta=BETA,\n",
    "    average=AVERAGE\n",
    ")"
   ]
  },
  {
   "cell_type": "code",
   "execution_count": 114,
   "metadata": {},
   "outputs": [
    {
     "data": {
      "image/png": "[encoded data removed]",
      "text/plain": [
       "<Figure size 550x400 with 2 Axes>"
      ]
     },
     "metadata": {},
     "output_type": "display_data"
    }
   ],
   "source": [
    "# Display the confusion matrix\n",
    "confusion_matrix(y_true, svc_scaled_hpt_result.predictions, \"Support Vector Machine (Scaled; Reduced Feature Set)\")"
   ]
  },
  {
   "cell_type": "code",
   "execution_count": 115,
   "metadata": {},
   "outputs": [
    {
     "name": "stdout",
     "output_type": "stream",
     "text": [
      "-- HPT Evaluation --\n",
      "new_results.fbeta - old_results.fbeta = 0.005244 --> Improvement!\n",
      "new_results.accuracy - old_results.accuracy = 0.003049 --> Improvement!\n",
      "\n",
      "Best model so far:\n",
      "SVC(C=1.4, max_iter=15000, random_state=404, tol=0.0001) with Parameters\n",
      "{'C': 1.4, 'degree': 3, 'kernel': 'rbf', 'tol': 0.0001}\n",
      "Its score: 0.873469\n"
     ]
    }
   ],
   "source": [
    "_ = compare_models(svc_scaled_hpt_result, BEST_SCALED_HPT_15_RESULT)"
   ]
  },
  {
   "cell_type": "code",
   "execution_count": 116,
   "metadata": {},
   "outputs": [
    {
     "name": "stdout",
     "output_type": "stream",
     "text": [
      "CPU times: user 59.8 ms, sys: 1.9 ms, total: 61.7 ms\n",
      "Wall time: 21.9 ms\n"
     ]
    }
   ],
   "source": [
    "best_svc_scaled = svc_scaled_model.best_estimator_\n",
    "%time _ = best_svc_scaled.fit(X_train_scaled, y_train)"
   ]
  },
  {
   "cell_type": "code",
   "execution_count": 117,
   "metadata": {},
   "outputs": [
    {
     "name": "stdout",
     "output_type": "stream",
     "text": [
      "\n",
      "-- Testing Results --\n",
      "Accuracy    on Verification Data:\t0.994343\n",
      "Fbeta scroe on Verification Data:\t0.857489\n",
      "\n",
      "              precision    recall  f1-score   support\n",
      "\n",
      "           0       1.00      0.99      1.00     56651\n",
      "           1       0.21      0.88      0.34        95\n",
      "\n",
      "    accuracy                           0.99     56746\n",
      "   macro avg       0.61      0.94      0.67     56746\n",
      "weighted avg       1.00      0.99      1.00     56746\n",
      "\n",
      "False negatives: 11 (11.579% out of 95 true positives, 0.019% overall)\n",
      "\n"
     ]
    }
   ],
   "source": [
    "# Evaluate this model\n",
    "svc_scaled_model_result = evaluate_model(\n",
    "    model=best_svc_scaled,\n",
    "    X_test=X_test_scaled,\n",
    "    y_true=y_true,\n",
    "    beta=BETA,\n",
    "    average=AVERAGE\n",
    ")"
   ]
  },
  {
   "cell_type": "code",
   "execution_count": 118,
   "metadata": {},
   "outputs": [
    {
     "data": {
      "image/png": "[encoded data removed]",
      "text/plain": [
       "<Figure size 550x400 with 2 Axes>"
      ]
     },
     "metadata": {},
     "output_type": "display_data"
    }
   ],
   "source": [
    "# Display the confusion matrix\n",
    "confusion_matrix(y_true, svc_scaled_model_result.predictions, \"Support Vector Machine (Scaled, Full Feature Set)\")"
   ]
  },
  {
   "cell_type": "code",
   "execution_count": 119,
   "metadata": {},
   "outputs": [
    {
     "name": "stdout",
     "output_type": "stream",
     "text": [
      "-- Model Comparison --\n",
      "new_results.fbeta - old_results.fbeta = -0.007672 --> Worsened!\n",
      "new_results.accuracy - old_results.accuracy = 0.000476 --> Improvement!\n",
      "\n",
      "Best model so far:\n",
      "KNeighborsClassifier(n_jobs=-1, weights='distance')\n",
      "Its score: 0.865162\n"
     ]
    }
   ],
   "source": [
    "_ = compare_models(svc_scaled_model_result, BEST_SCALED_HPT_RESULT)"
   ]
  },
  {
   "cell_type": "code",
   "execution_count": 120,
   "metadata": {},
   "outputs": [
    {
     "name": "stdout",
     "output_type": "stream",
     "text": [
      "-- Model Comparison --\n",
      "new_results.fbeta - old_results.fbeta = -0.015979 --> Worsened!\n",
      "new_results.accuracy - old_results.accuracy = -0.003190 --> Worsened!\n",
      "\n",
      "Best model so far:\n",
      "SVC(C=1.4, max_iter=15000, random_state=404, tol=0.0001)\n",
      "Its score: 0.873469\n"
     ]
    }
   ],
   "source": [
    "# Check on learning progress when seeing the full feature set\n",
    "_ = compare_models(svc_scaled_model_result, svc_scaled_hpt_result)"
   ]
  },
  {
   "cell_type": "code",
   "execution_count": 214,
   "metadata": {},
   "outputs": [
    {
     "name": "stdout",
     "output_type": "stream",
     "text": [
      "-- Model Comparison --\n",
      "new_results.fbeta - old_results.fbeta = -0.007672 --> Worsened!\n",
      "new_results.accuracy - old_results.accuracy = 0.000476 --> Improvement!\n",
      "\n",
      "Best model so far:\n",
      "KNeighborsClassifier(n_jobs=-1, weights='distance')\n",
      "Its score: 0.865162\n"
     ]
    }
   ],
   "source": [
    "BEST_MODEL, BEST_SCORE = compare_models(svc_scaled_model_result, results(top_overall(1)[0]))"
   ]
  },
  {
   "cell_type": "code",
   "execution_count": 215,
   "metadata": {},
   "outputs": [],
   "source": [
    "add_scaled_model(\"Support Vector Machine\", svc_scaled_model_result)"
   ]
  },
  {
   "cell_type": "markdown",
   "metadata": {},
   "source": [
    "--------------------------------------------------------------------------------\n",
    "\n",
    "## Gradient Boost"
   ]
  },
  {
   "cell_type": "code",
   "execution_count": 123,
   "metadata": {},
   "outputs": [],
   "source": [
    "from sklearn.ensemble import GradientBoostingClassifier"
   ]
  },
  {
   "cell_type": "code",
   "execution_count": 124,
   "metadata": {},
   "outputs": [],
   "source": [
    "gradient_boost = GradientBoostingClassifier(random_state=404)                           # base estimator\n",
    "gb_param_grid = {                                                                       # parameter grid for hyperparameter tuning\n",
    "    'loss': ['log_loss', 'exponential'],\n",
    "    'learning_rate': [.1, .5, 1., 1.5, 10.],\n",
    "    'n_estimators': rf_param_grid['n_estimators'],\n",
    "    'max_depth': rf_param_grid['max_depth'],\n",
    "    'max_features': ['sqrt', 'log2'],\n",
    "    'tol': lr_param_grid['tol'],\n",
    "}"
   ]
  },
  {
   "cell_type": "code",
   "execution_count": 125,
   "metadata": {},
   "outputs": [
    {
     "name": "stdout",
     "output_type": "stream",
     "text": [
      "CPU times: user 18min 18s, sys: 6.09 s, total: 18min 24s\n",
      "Wall time: 18min 43s\n"
     ]
    }
   ],
   "source": [
    "gb_model = GridSearchCV(\n",
    "    estimator=gradient_boost,\n",
    "    param_grid=gb_param_grid,\n",
    "    refit=True,\n",
    "    verbose=0,\n",
    "    scoring=scorer\n",
    ")\n",
    "\n",
    "%time _ = gb_model.fit(X_train_15, y_train)"
   ]
  },
  {
   "cell_type": "code",
   "execution_count": 126,
   "metadata": {},
   "outputs": [
    {
     "name": "stdout",
     "output_type": "stream",
     "text": [
      "-- Training Results --\n",
      "Best Parameters:\n",
      "\tlearning_rate:\t10.0\n",
      "\tloss:\texponential\n",
      "\tmax_depth:\t5\n",
      "\tmax_features:\tsqrt\n",
      "\tn_estimators:\t10\n",
      "\ttol:\t0.0001\n",
      "Best Score:\n",
      "\t0.892569\n",
      "\n",
      "-- Testing Results --\n",
      "Accuracy    on Verification Data:\t0.883058\n",
      "Fbeta scroe on Verification Data:\t0.541906\n",
      "\n",
      "              precision    recall  f1-score   support\n",
      "\n",
      "           0       1.00      0.88      0.94     56651\n",
      "           1       0.01      0.92      0.03        95\n",
      "\n",
      "    accuracy                           0.88     56746\n",
      "   macro avg       0.51      0.90      0.48     56746\n",
      "weighted avg       1.00      0.88      0.94     56746\n",
      "\n",
      "False negatives: 8 (8.421% out of 95 true positives, 0.014% overall)\n",
      "\n"
     ]
    }
   ],
   "source": [
    "# Evaluate the process\n",
    "gb_hpt_result = evaluate_hpt(\n",
    "    model=gb_model,\n",
    "    X_test=X_test_15,\n",
    "    y_true=y_true,\n",
    "    beta=BETA,\n",
    "    average=AVERAGE\n",
    ")"
   ]
  },
  {
   "cell_type": "code",
   "execution_count": 127,
   "metadata": {},
   "outputs": [
    {
     "data": {
      "image/png": "[encoded data removed]",
      "text/plain": [
       "<Figure size 550x400 with 2 Axes>"
      ]
     },
     "metadata": {},
     "output_type": "display_data"
    }
   ],
   "source": [
    "# Display the confusion matrix\n",
    "confusion_matrix(y_true, gb_hpt_result.predictions, \"Gradient Boost (Reduced Feature Set)\")"
   ]
  },
  {
   "cell_type": "code",
   "execution_count": 128,
   "metadata": {},
   "outputs": [
    {
     "name": "stdout",
     "output_type": "stream",
     "text": [
      "-- HPT Evaluation --\n",
      "new_results.fbeta - old_results.fbeta = -0.249840 --> Worsened!\n",
      "new_results.accuracy - old_results.accuracy = -0.099020 --> Worsened!\n",
      "\n",
      "Best model so far:\n",
      "GaussianNB() with Parameters\n",
      "{'priors': None}\n",
      "Its score: 0.791745\n"
     ]
    }
   ],
   "source": [
    "# Compare HPT processes\n",
    "_ = compare_models(gb_hpt_result, BEST_HPT_15_RESULT)"
   ]
  },
  {
   "cell_type": "code",
   "execution_count": 129,
   "metadata": {},
   "outputs": [
    {
     "name": "stdout",
     "output_type": "stream",
     "text": [
      "CPU times: user 132 ms, sys: 1.81 ms, total: 134 ms\n",
      "Wall time: 48 ms\n"
     ]
    }
   ],
   "source": [
    "best_gb = gb_model.best_estimator_\n",
    "%time _ = best_gb.fit(X_train, y_train)"
   ]
  },
  {
   "cell_type": "code",
   "execution_count": 130,
   "metadata": {},
   "outputs": [
    {
     "name": "stdout",
     "output_type": "stream",
     "text": [
      "\n",
      "-- Testing Results --\n",
      "Accuracy    on Verification Data:\t0.724721\n",
      "Fbeta scroe on Verification Data:\t0.356650\n",
      "\n",
      "              precision    recall  f1-score   support\n",
      "\n",
      "           0       1.00      0.72      0.84     56651\n",
      "           1       0.01      0.94      0.01        95\n",
      "\n",
      "    accuracy                           0.72     56746\n",
      "   macro avg       0.50      0.83      0.43     56746\n",
      "weighted avg       1.00      0.72      0.84     56746\n",
      "\n",
      "False negatives: 6 (6.316% out of 95 true positives, 0.011% overall)\n",
      "\n"
     ]
    }
   ],
   "source": [
    "# Evaluate this model\n",
    "gb_model_result = evaluate_model(\n",
    "    model=best_gb,\n",
    "    X_test=X_test,\n",
    "    y_true=y_true,\n",
    "    beta=BETA,\n",
    "    average=AVERAGE\n",
    ")"
   ]
  },
  {
   "cell_type": "code",
   "execution_count": 131,
   "metadata": {},
   "outputs": [
    {
     "data": {
      "image/png": "[encoded data removed]",
      "text/plain": [
       "<Figure size 550x400 with 2 Axes>"
      ]
     },
     "metadata": {},
     "output_type": "display_data"
    }
   ],
   "source": [
    "# Display the confusion matrix\n",
    "confusion_matrix(y_true, gb_model_result.predictions, \"Gradient Boost (Full Feature Set)\")"
   ]
  },
  {
   "cell_type": "code",
   "execution_count": 132,
   "metadata": {},
   "outputs": [
    {
     "name": "stdout",
     "output_type": "stream",
     "text": [
      "-- Model Comparison --\n",
      "new_results.fbeta - old_results.fbeta = -0.185256 --> Worsened!\n",
      "new_results.accuracy - old_results.accuracy = -0.158337 --> Worsened!\n",
      "\n",
      "Best model so far:\n",
      "GradientBoostingClassifier(learning_rate=10.0, loss='exponential', max_depth=5,\n",
      "                           max_features='sqrt', n_estimators=10,\n",
      "                           random_state=404)\n",
      "Its score: 0.541906\n"
     ]
    }
   ],
   "source": [
    "# Check on learning progress when seeing the full feature set\n",
    "_ = compare_models(gb_model_result, gb_hpt_result)"
   ]
  },
  {
   "cell_type": "code",
   "execution_count": 133,
   "metadata": {},
   "outputs": [
    {
     "name": "stdout",
     "output_type": "stream",
     "text": [
      "-- Model Comparison --\n",
      "new_results.fbeta - old_results.fbeta = -0.465747 --> Worsened!\n",
      "new_results.accuracy - old_results.accuracy = -0.260054 --> Worsened!\n",
      "\n",
      "Best model so far:\n",
      "RandomForestClassifier(max_depth=20, n_estimators=5, n_jobs=-1,\n",
      "                       random_state=404)\n",
      "Its score: 0.822397\n"
     ]
    }
   ],
   "source": [
    "# Compare GB and RF on full feature set:\n",
    "_ = compare_models(gb_model_result, BEST_HPT_RESULT)"
   ]
  },
  {
   "cell_type": "code",
   "execution_count": 216,
   "metadata": {},
   "outputs": [
    {
     "name": "stdout",
     "output_type": "stream",
     "text": [
      "-- Model Comparison --\n",
      "new_results.fbeta - old_results.fbeta = -0.508512 --> Worsened!\n",
      "new_results.accuracy - old_results.accuracy = -0.269147 --> Worsened!\n",
      "\n",
      "Best model so far:\n",
      "KNeighborsClassifier(n_jobs=-1, weights='distance')\n",
      "Its score: 0.865162\n"
     ]
    }
   ],
   "source": [
    "# Store the model results\n",
    "add_unscaled_model(\"Gradient Boost\", gb_model_result)\n",
    "\n",
    "BEST_MODEL, BEST_SCORE = compare_models(gb_model_result, results(top_overall(1)[0]))"
   ]
  },
  {
   "cell_type": "code",
   "execution_count": 135,
   "metadata": {},
   "outputs": [
    {
     "name": "stdout",
     "output_type": "stream",
     "text": [
      "CPU times: user 18min 26s, sys: 4.27 s, total: 18min 30s\n",
      "Wall time: 18min 40s\n"
     ]
    }
   ],
   "source": [
    "# Repeat the process with the scaled dataset;\n",
    "# Create a new grid search in order to avoid overwriting the original.\n",
    "gb_scaled_model = GridSearchCV(\n",
    "    estimator=gradient_boost,\n",
    "    param_grid=gb_param_grid,\n",
    "    refit=True,\n",
    "    verbose=0,\n",
    "    scoring=scorer\n",
    ")\n",
    "%time _ = gb_scaled_model.fit(X_train_scaled_15, y_train)"
   ]
  },
  {
   "cell_type": "code",
   "execution_count": 136,
   "metadata": {},
   "outputs": [
    {
     "name": "stdout",
     "output_type": "stream",
     "text": [
      "-- Training Results --\n",
      "Best Parameters:\n",
      "\tlearning_rate:\t10.0\n",
      "\tloss:\texponential\n",
      "\tmax_depth:\t5\n",
      "\tmax_features:\tsqrt\n",
      "\tn_estimators:\t10\n",
      "\ttol:\t0.0001\n",
      "Best Score:\n",
      "\t0.892569\n",
      "\n",
      "-- Testing Results --\n",
      "Accuracy    on Verification Data:\t0.883058\n",
      "Fbeta scroe on Verification Data:\t0.541906\n",
      "\n",
      "              precision    recall  f1-score   support\n",
      "\n",
      "           0       1.00      0.88      0.94     56651\n",
      "           1       0.01      0.92      0.03        95\n",
      "\n",
      "    accuracy                           0.88     56746\n",
      "   macro avg       0.51      0.90      0.48     56746\n",
      "weighted avg       1.00      0.88      0.94     56746\n",
      "\n",
      "False negatives: 8 (8.421% out of 95 true positives, 0.014% overall)\n",
      "\n"
     ]
    }
   ],
   "source": [
    "# Evaluate the process\n",
    "gb_scaled_hpt_result = evaluate_hpt(\n",
    "    model=gb_scaled_model,\n",
    "    X_test=X_test_scaled_15,\n",
    "    y_true=y_true,\n",
    "    beta=BETA,\n",
    "    average=AVERAGE\n",
    ")"
   ]
  },
  {
   "cell_type": "code",
   "execution_count": 137,
   "metadata": {},
   "outputs": [
    {
     "data": {
      "image/png": "[encoded data removed]",
      "text/plain": [
       "<Figure size 550x400 with 2 Axes>"
      ]
     },
     "metadata": {},
     "output_type": "display_data"
    }
   ],
   "source": [
    "# Display the confusion matrix\n",
    "confusion_matrix(y_true, gb_scaled_hpt_result.predictions, \"Gradient Boost (Scaled; Reduced Feature Set)\")"
   ]
  },
  {
   "cell_type": "code",
   "execution_count": 138,
   "metadata": {},
   "outputs": [
    {
     "name": "stdout",
     "output_type": "stream",
     "text": [
      "-- HPT Evaluation --\n",
      "new_results.fbeta - old_results.fbeta = -0.326318 --> Worsened!\n",
      "new_results.accuracy - old_results.accuracy = -0.111426 --> Worsened!\n",
      "\n",
      "Best model so far:\n",
      "KNeighborsClassifier(n_jobs=-1, weights='distance') with Parameters\n",
      "{'n_neighbors': 5, 'weights': 'distance'}\n",
      "Its score: 0.868224\n"
     ]
    }
   ],
   "source": [
    "_ = compare_models(gb_scaled_hpt_result, BEST_SCALED_HPT_15_RESULT)"
   ]
  },
  {
   "cell_type": "code",
   "execution_count": 139,
   "metadata": {},
   "outputs": [
    {
     "name": "stdout",
     "output_type": "stream",
     "text": [
      "CPU times: user 140 ms, sys: 1.94 ms, total: 142 ms\n",
      "Wall time: 47.4 ms\n"
     ]
    }
   ],
   "source": [
    "best_gb_scaled = gb_scaled_model.best_estimator_\n",
    "%time _ = best_gb_scaled.fit(X_train_scaled, y_train)"
   ]
  },
  {
   "cell_type": "code",
   "execution_count": 140,
   "metadata": {},
   "outputs": [
    {
     "name": "stdout",
     "output_type": "stream",
     "text": [
      "\n",
      "-- Testing Results --\n",
      "Accuracy    on Verification Data:\t0.724721\n",
      "Fbeta scroe on Verification Data:\t0.356650\n",
      "\n",
      "              precision    recall  f1-score   support\n",
      "\n",
      "           0       1.00      0.72      0.84     56651\n",
      "           1       0.01      0.94      0.01        95\n",
      "\n",
      "    accuracy                           0.72     56746\n",
      "   macro avg       0.50      0.83      0.43     56746\n",
      "weighted avg       1.00      0.72      0.84     56746\n",
      "\n",
      "False negatives: 6 (6.316% out of 95 true positives, 0.011% overall)\n",
      "\n"
     ]
    }
   ],
   "source": [
    "# Evaluate this model\n",
    "gb_scaled_model_result = evaluate_model(\n",
    "    model=best_gb_scaled,\n",
    "    X_test=X_test_scaled,\n",
    "    y_true=y_true,\n",
    "    beta=BETA,\n",
    "    average=AVERAGE\n",
    ")"
   ]
  },
  {
   "cell_type": "code",
   "execution_count": 141,
   "metadata": {},
   "outputs": [
    {
     "data": {
      "image/png": "[encoded data removed]",
      "text/plain": [
       "<Figure size 550x400 with 2 Axes>"
      ]
     },
     "metadata": {},
     "output_type": "display_data"
    }
   ],
   "source": [
    "# Display the confusion matrix\n",
    "confusion_matrix(y_true, gb_scaled_model_result.predictions, \"Gradient Boost (Scaled, Full Feature Set)\")"
   ]
  },
  {
   "cell_type": "code",
   "execution_count": 142,
   "metadata": {},
   "outputs": [
    {
     "name": "stdout",
     "output_type": "stream",
     "text": [
      "-- Model Comparison --\n",
      "new_results.fbeta - old_results.fbeta = -0.185256 --> Worsened!\n",
      "new_results.accuracy - old_results.accuracy = -0.158337 --> Worsened!\n",
      "\n",
      "Best model so far:\n",
      "GradientBoostingClassifier(learning_rate=10.0, loss='exponential', max_depth=5,\n",
      "                           max_features='sqrt', n_estimators=10,\n",
      "                           random_state=404)\n",
      "Its score: 0.541906\n"
     ]
    }
   ],
   "source": [
    "# Check on learning progress when seeing the full feature set\n",
    "_ = compare_models(gb_scaled_model_result, gb_scaled_hpt_result)"
   ]
  },
  {
   "cell_type": "code",
   "execution_count": 143,
   "metadata": {},
   "outputs": [
    {
     "name": "stdout",
     "output_type": "stream",
     "text": [
      "-- Model Comparison --\n",
      "new_results.fbeta - old_results.fbeta = -0.323256 --> Worsened!\n",
      "new_results.accuracy - old_results.accuracy = -0.110810 --> Worsened!\n",
      "\n",
      "Best model so far:\n",
      "KNeighborsClassifier(n_jobs=-1, weights='distance')\n",
      "Its score: 0.865162\n"
     ]
    }
   ],
   "source": [
    "_ = compare_models(gb_scaled_hpt_result, BEST_SCALED_HPT_RESULT)"
   ]
  },
  {
   "cell_type": "code",
   "execution_count": 217,
   "metadata": {},
   "outputs": [
    {
     "name": "stdout",
     "output_type": "stream",
     "text": [
      "-- Model Comparison --\n",
      "new_results.fbeta - old_results.fbeta = -0.508512 --> Worsened!\n",
      "new_results.accuracy - old_results.accuracy = -0.269147 --> Worsened!\n",
      "\n",
      "Best model so far:\n",
      "KNeighborsClassifier(n_jobs=-1, weights='distance')\n",
      "Its score: 0.865162\n"
     ]
    }
   ],
   "source": [
    "BEST_MODEL, BEST_SCORE = compare_models(gb_scaled_model_result, results(top_overall(1)[0]))"
   ]
  },
  {
   "cell_type": "code",
   "execution_count": 218,
   "metadata": {},
   "outputs": [],
   "source": [
    "add_scaled_model(\"Gradient Boost\", gb_scaled_model_result)"
   ]
  },
  {
   "cell_type": "markdown",
   "metadata": {},
   "source": [
    "--------------------------------------------------------------------------------\n",
    "\n",
    "## Ada Boost"
   ]
  },
  {
   "cell_type": "code",
   "execution_count": 146,
   "metadata": {},
   "outputs": [],
   "source": [
    "from sklearn.ensemble import AdaBoostClassifier"
   ]
  },
  {
   "cell_type": "code",
   "execution_count": 147,
   "metadata": {},
   "outputs": [],
   "source": [
    "ada_boost = AdaBoostClassifier(algorithm='SAMME', random_state=404)                     # base estimator\n",
    "ab_param_grid = {                                                                       # parameter grid for hyperparameter tuning\n",
    "    'learning_rate': gb_param_grid['learning_rate'],\n",
    "    'n_estimators': gb_param_grid['n_estimators'],\n",
    "}"
   ]
  },
  {
   "cell_type": "code",
   "execution_count": 148,
   "metadata": {},
   "outputs": [
    {
     "name": "stdout",
     "output_type": "stream",
     "text": [
      "CPU times: user 17.8 s, sys: 105 ms, total: 17.9 s\n",
      "Wall time: 17.6 s\n"
     ]
    }
   ],
   "source": [
    "ab_model = GridSearchCV(\n",
    "    estimator=ada_boost,\n",
    "    param_grid=ab_param_grid,\n",
    "    refit=True,\n",
    "    verbose=0,\n",
    "    scoring=scorer\n",
    ")\n",
    "\n",
    "%time _ = ab_model.fit(X_train_15, y_train)"
   ]
  },
  {
   "cell_type": "code",
   "execution_count": 149,
   "metadata": {},
   "outputs": [
    {
     "name": "stdout",
     "output_type": "stream",
     "text": [
      "-- Training Results --\n",
      "Best Parameters:\n",
      "\tlearning_rate:\t1.5\n",
      "\tn_estimators:\t20\n",
      "Best Score:\n",
      "\t0.873280\n",
      "\n",
      "-- Testing Results --\n",
      "Accuracy    on Verification Data:\t0.975716\n",
      "Fbeta scroe on Verification Data:\t0.811023\n",
      "\n",
      "              precision    recall  f1-score   support\n",
      "\n",
      "           0       1.00      0.98      0.99     56651\n",
      "           1       0.06      0.93      0.11        95\n",
      "\n",
      "    accuracy                           0.98     56746\n",
      "   macro avg       0.53      0.95      0.55     56746\n",
      "weighted avg       1.00      0.98      0.99     56746\n",
      "\n",
      "False negatives: 7 (7.368% out of 95 true positives, 0.012% overall)\n",
      "\n"
     ]
    }
   ],
   "source": [
    "# Evaluate the process\n",
    "ab_hpt_result = evaluate_hpt(\n",
    "    model=ab_model,\n",
    "    X_test=X_test_15,\n",
    "    y_true=y_true,\n",
    "    beta=BETA,\n",
    "    average=AVERAGE\n",
    ")"
   ]
  },
  {
   "cell_type": "code",
   "execution_count": 150,
   "metadata": {},
   "outputs": [
    {
     "data": {
      "image/png": "[encoded data removed]",
      "text/plain": [
       "<Figure size 550x400 with 2 Axes>"
      ]
     },
     "metadata": {},
     "output_type": "display_data"
    }
   ],
   "source": [
    "# Display the confusion matrix\n",
    "confusion_matrix(y_true, ab_hpt_result.predictions, \"Ada Boost (Reduced Feature Set)\")"
   ]
  },
  {
   "cell_type": "code",
   "execution_count": 151,
   "metadata": {},
   "outputs": [
    {
     "name": "stdout",
     "output_type": "stream",
     "text": [
      "-- HPT Evaluation --\n",
      "new_results.fbeta - old_results.fbeta = 0.019278 --> Improvement!\n",
      "new_results.accuracy - old_results.accuracy = -0.006362 --> Worsened!\n",
      "\n",
      "Best model so far:\n",
      "AdaBoostClassifier(algorithm='SAMME', learning_rate=1.5, n_estimators=20,\n",
      "                   random_state=404) with Parameters\n",
      "{'learning_rate': 1.5, 'n_estimators': 20}\n",
      "Its score: 0.811023\n"
     ]
    }
   ],
   "source": [
    "# Compare HPT processes\n",
    "_ = compare_models(ab_hpt_result, BEST_HPT_15_RESULT)"
   ]
  },
  {
   "cell_type": "code",
   "execution_count": 152,
   "metadata": {},
   "outputs": [
    {
     "name": "stdout",
     "output_type": "stream",
     "text": [
      "CPU times: user 337 ms, sys: 3.89 ms, total: 341 ms\n",
      "Wall time: 118 ms\n"
     ]
    }
   ],
   "source": [
    "best_ab = ab_model.best_estimator_\n",
    "%time _ = best_ab.fit(X_train, y_train)"
   ]
  },
  {
   "cell_type": "code",
   "execution_count": 153,
   "metadata": {},
   "outputs": [
    {
     "name": "stdout",
     "output_type": "stream",
     "text": [
      "\n",
      "-- Testing Results --\n",
      "Accuracy    on Verification Data:\t0.968456\n",
      "Fbeta scroe on Verification Data:\t0.772891\n",
      "\n",
      "              precision    recall  f1-score   support\n",
      "\n",
      "           0       1.00      0.97      0.98     56651\n",
      "           1       0.05      0.92      0.09        95\n",
      "\n",
      "    accuracy                           0.97     56746\n",
      "   macro avg       0.52      0.94      0.54     56746\n",
      "weighted avg       1.00      0.97      0.98     56746\n",
      "\n",
      "False negatives: 8 (8.421% out of 95 true positives, 0.014% overall)\n",
      "\n"
     ]
    }
   ],
   "source": [
    "# Evaluate this model\n",
    "ab_model_result = evaluate_model(\n",
    "    model=best_ab,\n",
    "    X_test=X_test,\n",
    "    y_true=y_true,\n",
    "    beta=BETA,\n",
    "    average=AVERAGE\n",
    ")"
   ]
  },
  {
   "cell_type": "code",
   "execution_count": 154,
   "metadata": {},
   "outputs": [
    {
     "data": {
      "image/png": "[encoded data removed]",
      "text/plain": [
       "<Figure size 550x400 with 2 Axes>"
      ]
     },
     "metadata": {},
     "output_type": "display_data"
    }
   ],
   "source": [
    "# Display the confusion matrix\n",
    "confusion_matrix(y_true, ab_model_result.predictions, \"Ada Boost (Full Feature Set)\")"
   ]
  },
  {
   "cell_type": "code",
   "execution_count": 155,
   "metadata": {},
   "outputs": [
    {
     "name": "stdout",
     "output_type": "stream",
     "text": [
      "-- Model Comparison --\n",
      "new_results.fbeta - old_results.fbeta = -0.038132 --> Worsened!\n",
      "new_results.accuracy - old_results.accuracy = -0.007260 --> Worsened!\n",
      "\n",
      "Best model so far:\n",
      "AdaBoostClassifier(algorithm='SAMME', learning_rate=1.5, n_estimators=20,\n",
      "                   random_state=404)\n",
      "Its score: 0.811023\n"
     ]
    }
   ],
   "source": [
    "# Check on learning progress when seeing the full feature set\n",
    "_ = compare_models(ab_model_result, ab_hpt_result)"
   ]
  },
  {
   "cell_type": "code",
   "execution_count": 156,
   "metadata": {},
   "outputs": [
    {
     "name": "stdout",
     "output_type": "stream",
     "text": [
      "-- Model Comparison --\n",
      "new_results.fbeta - old_results.fbeta = -0.049506 --> Worsened!\n",
      "new_results.accuracy - old_results.accuracy = -0.016318 --> Worsened!\n",
      "\n",
      "Best model so far:\n",
      "RandomForestClassifier(max_depth=20, n_estimators=5, n_jobs=-1,\n",
      "                       random_state=404)\n",
      "Its score: 0.822397\n"
     ]
    }
   ],
   "source": [
    "# Compare AB and RF on full feature set:\n",
    "_ = compare_models(ab_model_result, BEST_HPT_RESULT)"
   ]
  },
  {
   "cell_type": "code",
   "execution_count": 219,
   "metadata": {},
   "outputs": [
    {
     "name": "stdout",
     "output_type": "stream",
     "text": [
      "-- Model Comparison --\n",
      "new_results.fbeta - old_results.fbeta = -0.092271 --> Worsened!\n",
      "new_results.accuracy - old_results.accuracy = -0.025411 --> Worsened!\n",
      "\n",
      "Best model so far:\n",
      "KNeighborsClassifier(n_jobs=-1, weights='distance')\n",
      "Its score: 0.865162\n"
     ]
    }
   ],
   "source": [
    "# Store the model results\n",
    "add_unscaled_model(\"Ada Boost\", ab_model_result)\n",
    "\n",
    "BEST_MODEL, BEST_SCORE = compare_models(ab_model_result, results(top_overall(1)[0]))"
   ]
  },
  {
   "cell_type": "code",
   "execution_count": 158,
   "metadata": {},
   "outputs": [
    {
     "name": "stdout",
     "output_type": "stream",
     "text": [
      "CPU times: user 17.9 s, sys: 108 ms, total: 18 s\n",
      "Wall time: 18 s\n"
     ]
    }
   ],
   "source": [
    "# Repeat the process with the scaled dataset;\n",
    "# Create a new grid search in order to avoid overwriting the original.\n",
    "ab_scaled_model = GridSearchCV(\n",
    "    estimator=ada_boost,\n",
    "    param_grid=ab_param_grid,\n",
    "    refit=True,\n",
    "    verbose=0,\n",
    "    scoring=scorer\n",
    ")\n",
    "%time _ = ab_scaled_model.fit(X_train_scaled_15, y_train)"
   ]
  },
  {
   "cell_type": "code",
   "execution_count": 159,
   "metadata": {},
   "outputs": [
    {
     "name": "stdout",
     "output_type": "stream",
     "text": [
      "-- Training Results --\n",
      "Best Parameters:\n",
      "\tlearning_rate:\t1.5\n",
      "\tn_estimators:\t20\n",
      "Best Score:\n",
      "\t0.873280\n",
      "\n",
      "-- Testing Results --\n",
      "Accuracy    on Verification Data:\t0.975716\n",
      "Fbeta scroe on Verification Data:\t0.811023\n",
      "\n",
      "              precision    recall  f1-score   support\n",
      "\n",
      "           0       1.00      0.98      0.99     56651\n",
      "           1       0.06      0.93      0.11        95\n",
      "\n",
      "    accuracy                           0.98     56746\n",
      "   macro avg       0.53      0.95      0.55     56746\n",
      "weighted avg       1.00      0.98      0.99     56746\n",
      "\n",
      "False negatives: 7 (7.368% out of 95 true positives, 0.012% overall)\n",
      "\n"
     ]
    }
   ],
   "source": [
    "# Evaluate the process\n",
    "ab_scaled_hpt_result = evaluate_hpt(\n",
    "    model=ab_scaled_model,\n",
    "    X_test=X_test_scaled_15,\n",
    "    y_true=y_true,\n",
    "    beta=BETA,\n",
    "    average=AVERAGE\n",
    ")"
   ]
  },
  {
   "cell_type": "code",
   "execution_count": 160,
   "metadata": {},
   "outputs": [
    {
     "data": {
      "image/png": "[encoded data removed]",
      "text/plain": [
       "<Figure size 550x400 with 2 Axes>"
      ]
     },
     "metadata": {},
     "output_type": "display_data"
    }
   ],
   "source": [
    "# Display the confusion matrix\n",
    "confusion_matrix(y_true, ab_scaled_hpt_result.predictions, \"Ada Boost (Scaled; Reduced Feature Set)\")"
   ]
  },
  {
   "cell_type": "code",
   "execution_count": 161,
   "metadata": {},
   "outputs": [
    {
     "name": "stdout",
     "output_type": "stream",
     "text": [
      "-- HPT Evaluation --\n",
      "new_results.fbeta - old_results.fbeta = -0.057201 --> Worsened!\n",
      "new_results.accuracy - old_results.accuracy = -0.018768 --> Worsened!\n",
      "\n",
      "Best model so far:\n",
      "KNeighborsClassifier(n_jobs=-1, weights='distance') with Parameters\n",
      "{'n_neighbors': 5, 'weights': 'distance'}\n",
      "Its score: 0.868224\n"
     ]
    }
   ],
   "source": [
    "_ = compare_models(ab_scaled_hpt_result, BEST_SCALED_HPT_15_RESULT)"
   ]
  },
  {
   "cell_type": "code",
   "execution_count": 162,
   "metadata": {},
   "outputs": [
    {
     "name": "stdout",
     "output_type": "stream",
     "text": [
      "CPU times: user 332 ms, sys: 3.53 ms, total: 336 ms\n",
      "Wall time: 117 ms\n"
     ]
    }
   ],
   "source": [
    "best_ab_scaled = ab_scaled_model.best_estimator_\n",
    "%time _ = best_ab_scaled.fit(X_train_scaled, y_train)"
   ]
  },
  {
   "cell_type": "code",
   "execution_count": 163,
   "metadata": {},
   "outputs": [
    {
     "name": "stdout",
     "output_type": "stream",
     "text": [
      "\n",
      "-- Testing Results --\n",
      "Accuracy    on Verification Data:\t0.968456\n",
      "Fbeta scroe on Verification Data:\t0.772891\n",
      "\n",
      "              precision    recall  f1-score   support\n",
      "\n",
      "           0       1.00      0.97      0.98     56651\n",
      "           1       0.05      0.92      0.09        95\n",
      "\n",
      "    accuracy                           0.97     56746\n",
      "   macro avg       0.52      0.94      0.54     56746\n",
      "weighted avg       1.00      0.97      0.98     56746\n",
      "\n",
      "False negatives: 8 (8.421% out of 95 true positives, 0.014% overall)\n",
      "\n"
     ]
    }
   ],
   "source": [
    "# Evaluate this model\n",
    "ab_scaled_model_result = evaluate_model(\n",
    "    model=best_ab_scaled,\n",
    "    X_test=X_test_scaled,\n",
    "    y_true=y_true,\n",
    "    beta=BETA,\n",
    "    average=AVERAGE\n",
    ")"
   ]
  },
  {
   "cell_type": "code",
   "execution_count": 164,
   "metadata": {},
   "outputs": [
    {
     "data": {
      "image/png": "[encoded data removed]",
      "text/plain": [
       "<Figure size 550x400 with 2 Axes>"
      ]
     },
     "metadata": {},
     "output_type": "display_data"
    }
   ],
   "source": [
    "# Display the confusion matrix\n",
    "confusion_matrix(y_true, ab_scaled_model_result.predictions, \"Ada Boost (Scaled, Full Feature Set)\")"
   ]
  },
  {
   "cell_type": "code",
   "execution_count": 165,
   "metadata": {},
   "outputs": [
    {
     "name": "stdout",
     "output_type": "stream",
     "text": [
      "-- Model Comparison --\n",
      "new_results.fbeta - old_results.fbeta = -0.038132 --> Worsened!\n",
      "new_results.accuracy - old_results.accuracy = -0.007260 --> Worsened!\n",
      "\n",
      "Best model so far:\n",
      "AdaBoostClassifier(algorithm='SAMME', learning_rate=1.5, n_estimators=20,\n",
      "                   random_state=404)\n",
      "Its score: 0.811023\n"
     ]
    }
   ],
   "source": [
    "# Check on learning progress when seeing the full feature set\n",
    "_ = compare_models(ab_scaled_model_result, ab_scaled_hpt_result)"
   ]
  },
  {
   "cell_type": "code",
   "execution_count": 166,
   "metadata": {},
   "outputs": [
    {
     "name": "stdout",
     "output_type": "stream",
     "text": [
      "-- Model Comparison --\n",
      "new_results.fbeta - old_results.fbeta = -0.054139 --> Worsened!\n",
      "new_results.accuracy - old_results.accuracy = -0.018151 --> Worsened!\n",
      "\n",
      "Best model so far:\n",
      "KNeighborsClassifier(n_jobs=-1, weights='distance')\n",
      "Its score: 0.865162\n"
     ]
    }
   ],
   "source": [
    "_ = compare_models(ab_scaled_hpt_result, BEST_SCALED_HPT_RESULT)"
   ]
  },
  {
   "cell_type": "code",
   "execution_count": 220,
   "metadata": {},
   "outputs": [
    {
     "name": "stdout",
     "output_type": "stream",
     "text": [
      "-- Model Comparison --\n",
      "new_results.fbeta - old_results.fbeta = -0.092271 --> Worsened!\n",
      "new_results.accuracy - old_results.accuracy = -0.025411 --> Worsened!\n",
      "\n",
      "Best model so far:\n",
      "KNeighborsClassifier(n_jobs=-1, weights='distance')\n",
      "Its score: 0.865162\n"
     ]
    }
   ],
   "source": [
    "BEST_MODEL, BEST_SCORE = compare_models(ab_scaled_model_result, results(top_overall(1)[0]))"
   ]
  },
  {
   "cell_type": "code",
   "execution_count": 221,
   "metadata": {},
   "outputs": [],
   "source": [
    "add_scaled_model(\"Ada Boost\", ab_scaled_model_result)"
   ]
  },
  {
   "cell_type": "markdown",
   "metadata": {},
   "source": [
    "--------------------------------------------------------------------------------\n",
    "\n",
    "## Artificial Neural Network"
   ]
  },
  {
   "cell_type": "code",
   "execution_count": 169,
   "metadata": {},
   "outputs": [],
   "source": [
    "from sklearn.neural_network import MLPClassifier"
   ]
  },
  {
   "cell_type": "code",
   "execution_count": 170,
   "metadata": {},
   "outputs": [],
   "source": [
    "neural_network = MLPClassifier(                                                             # base estimator\n",
    "    solver='adam',\n",
    "    learning_rate='constant',\n",
    "    early_stopping=True,\n",
    "    random_state=404\n",
    ")\n",
    "nn_param_grid = {                                                                           # parameter grid for hyperparameter tuning\n",
    "    'hidden_layer_sizes': [(128,), (128, 128), (64, 64, 32), (124, 64, 32), (64, 64, 64, 32), (64, 32, 16)],\n",
    "    'activation': ['relu', 'logistic', 'tanh'],\n",
    "    'alpha': [1.e-4, 1.e-3, 1.e-2],\n",
    "    'learning_rate_init': ab_param_grid['learning_rate'],\n",
    "    'tol': gb_param_grid['tol'],\n",
    "}"
   ]
  },
  {
   "cell_type": "code",
   "execution_count": 171,
   "metadata": {},
   "outputs": [
    {
     "name": "stdout",
     "output_type": "stream",
     "text": [
      "CPU times: user 2h 10min, sys: 1min 27s, total: 2h 11min 28s\n",
      "Wall time: 18min 14s\n"
     ]
    }
   ],
   "source": [
    "nn_model = GridSearchCV(\n",
    "    estimator=neural_network,\n",
    "    param_grid=nn_param_grid,\n",
    "    refit=True,\n",
    "    verbose=0,\n",
    "    scoring=scorer\n",
    ")\n",
    "\n",
    "%time _ = nn_model.fit(X_train_15, y_train)"
   ]
  },
  {
   "cell_type": "code",
   "execution_count": 172,
   "metadata": {},
   "outputs": [
    {
     "name": "stdout",
     "output_type": "stream",
     "text": [
      "-- Training Results --\n",
      "Best Parameters:\n",
      "\tactivation:\trelu\n",
      "\talpha:\t0.01\n",
      "\thidden_layer_sizes:\t(128,)\n",
      "\tlearning_rate_init:\t1.5\n",
      "\ttol:\t0.0001\n",
      "Best Score:\n",
      "\t0.889372\n",
      "\n",
      "-- Testing Results --\n",
      "Accuracy    on Verification Data:\t0.953935\n",
      "Fbeta scroe on Verification Data:\t0.745143\n",
      "\n",
      "              precision    recall  f1-score   support\n",
      "\n",
      "           0       1.00      0.95      0.98     56651\n",
      "           1       0.03      0.95      0.06        95\n",
      "\n",
      "    accuracy                           0.95     56746\n",
      "   macro avg       0.52      0.95      0.52     56746\n",
      "weighted avg       1.00      0.95      0.97     56746\n",
      "\n",
      "False negatives: 5 (5.263% out of 95 true positives, 0.009% overall)\n",
      "\n"
     ]
    }
   ],
   "source": [
    "# Evaluate the process\n",
    "nn_hpt_result = evaluate_hpt(\n",
    "    model=nn_model,\n",
    "    X_test=X_test_15,\n",
    "    y_true=y_true,\n",
    "    beta=BETA,\n",
    "    average=AVERAGE\n",
    ")"
   ]
  },
  {
   "cell_type": "code",
   "execution_count": 173,
   "metadata": {},
   "outputs": [
    {
     "data": {
      "image/png": "[encoded data removed]",
      "text/plain": [
       "<Figure size 550x400 with 2 Axes>"
      ]
     },
     "metadata": {},
     "output_type": "display_data"
    }
   ],
   "source": [
    "# Display the confusion matrix\n",
    "confusion_matrix(y_true, nn_hpt_result.predictions, \"Neural Network (Reduced Feature Set)\")"
   ]
  },
  {
   "cell_type": "code",
   "execution_count": 174,
   "metadata": {},
   "outputs": [
    {
     "name": "stdout",
     "output_type": "stream",
     "text": [
      "-- HPT Evaluation --\n",
      "new_results.fbeta - old_results.fbeta = -0.046602 --> Worsened!\n",
      "new_results.accuracy - old_results.accuracy = -0.028143 --> Worsened!\n",
      "\n",
      "Best model so far:\n",
      "GaussianNB() with Parameters\n",
      "{'priors': None}\n",
      "Its score: 0.791745\n"
     ]
    }
   ],
   "source": [
    "# Compare HPT processes\n",
    "_ = compare_models(nn_hpt_result, BEST_HPT_15_RESULT)"
   ]
  },
  {
   "cell_type": "code",
   "execution_count": 175,
   "metadata": {},
   "outputs": [
    {
     "name": "stdout",
     "output_type": "stream",
     "text": [
      "CPU times: user 931 ms, sys: 9.91 ms, total: 941 ms\n",
      "Wall time: 130 ms\n"
     ]
    }
   ],
   "source": [
    "best_nn = nn_model.best_estimator_\n",
    "%time _ = best_nn.fit(X_train, y_train)"
   ]
  },
  {
   "cell_type": "code",
   "execution_count": 176,
   "metadata": {},
   "outputs": [
    {
     "name": "stdout",
     "output_type": "stream",
     "text": [
      "\n",
      "-- Testing Results --\n",
      "Accuracy    on Verification Data:\t0.986219\n",
      "Fbeta scroe on Verification Data:\t0.819314\n",
      "\n",
      "              precision    recall  f1-score   support\n",
      "\n",
      "           0       1.00      0.99      0.99     56651\n",
      "           1       0.10      0.88      0.18        95\n",
      "\n",
      "    accuracy                           0.99     56746\n",
      "   macro avg       0.55      0.94      0.58     56746\n",
      "weighted avg       1.00      0.99      0.99     56746\n",
      "\n",
      "False negatives: 11 (11.579% out of 95 true positives, 0.019% overall)\n",
      "\n"
     ]
    }
   ],
   "source": [
    "# Evaluate this model\n",
    "nn_model_result = evaluate_model(\n",
    "    model=best_nn,\n",
    "    X_test=X_test,\n",
    "    y_true=y_true,\n",
    "    beta=BETA,\n",
    "    average=AVERAGE\n",
    ")"
   ]
  },
  {
   "cell_type": "code",
   "execution_count": 177,
   "metadata": {},
   "outputs": [
    {
     "data": {
      "image/png": "[encoded data removed]",
      "text/plain": [
       "<Figure size 550x400 with 2 Axes>"
      ]
     },
     "metadata": {},
     "output_type": "display_data"
    }
   ],
   "source": [
    "# Display the confusion matrix\n",
    "confusion_matrix(y_true, nn_model_result.predictions, \"Neural Network (Full Feature Set)\")"
   ]
  },
  {
   "cell_type": "code",
   "execution_count": 178,
   "metadata": {},
   "outputs": [
    {
     "name": "stdout",
     "output_type": "stream",
     "text": [
      "-- Model Comparison --\n",
      "new_results.fbeta - old_results.fbeta = 0.074171 --> Improvement!\n",
      "new_results.accuracy - old_results.accuracy = 0.032284 --> Improvement!\n",
      "\n",
      "Best model so far:\n",
      "MLPClassifier(alpha=0.01, early_stopping=True, hidden_layer_sizes=(128,),\n",
      "              learning_rate_init=1.5, random_state=404)\n",
      "Its score: 0.819314\n"
     ]
    }
   ],
   "source": [
    "# Check on learning progress when seeing the full feature set\n",
    "_ = compare_models(nn_model_result, nn_hpt_result)"
   ]
  },
  {
   "cell_type": "code",
   "execution_count": 179,
   "metadata": {},
   "outputs": [
    {
     "name": "stdout",
     "output_type": "stream",
     "text": [
      "-- Model Comparison --\n",
      "new_results.fbeta - old_results.fbeta = -0.003082 --> Worsened!\n",
      "new_results.accuracy - old_results.accuracy = 0.001445 --> Improvement!\n",
      "\n",
      "Best model so far:\n",
      "RandomForestClassifier(max_depth=20, n_estimators=5, n_jobs=-1,\n",
      "                       random_state=404)\n",
      "Its score: 0.822397\n"
     ]
    }
   ],
   "source": [
    "# Compare AB and RF on full feature set:\n",
    "_ = compare_models(nn_model_result, BEST_HPT_RESULT)"
   ]
  },
  {
   "cell_type": "code",
   "execution_count": 222,
   "metadata": {},
   "outputs": [
    {
     "name": "stdout",
     "output_type": "stream",
     "text": [
      "-- Model Comparison --\n",
      "new_results.fbeta - old_results.fbeta = -0.045847 --> Worsened!\n",
      "new_results.accuracy - old_results.accuracy = -0.007648 --> Worsened!\n",
      "\n",
      "Best model so far:\n",
      "KNeighborsClassifier(n_jobs=-1, weights='distance')\n",
      "Its score: 0.865162\n"
     ]
    }
   ],
   "source": [
    "# Store the model results\n",
    "add_unscaled_model(\"Neural Network\", nn_model_result)\n",
    "\n",
    "BEST_MODEL, BEST_SCORE = compare_models(nn_model_result, results(top_overall(1)[0]))"
   ]
  },
  {
   "cell_type": "code",
   "execution_count": 181,
   "metadata": {},
   "outputs": [
    {
     "name": "stdout",
     "output_type": "stream",
     "text": [
      "CPU times: user 2h 11min 41s, sys: 1min 19s, total: 2h 13min\n",
      "Wall time: 18min 30s\n"
     ]
    }
   ],
   "source": [
    "# Repeat the process with the scaled dataset;\n",
    "# Create a new grid search in order to avoid overwriting the original.\n",
    "nn_scaled_model = GridSearchCV(\n",
    "    estimator=neural_network,\n",
    "    param_grid=nn_param_grid,\n",
    "    refit=True,\n",
    "    verbose=0,\n",
    "    scoring=scorer\n",
    ")\n",
    "%time _ = nn_scaled_model.fit(X_train_scaled_15, y_train)"
   ]
  },
  {
   "cell_type": "code",
   "execution_count": 182,
   "metadata": {},
   "outputs": [
    {
     "name": "stdout",
     "output_type": "stream",
     "text": [
      "-- Training Results --\n",
      "Best Parameters:\n",
      "\tactivation:\tlogistic\n",
      "\talpha:\t0.0001\n",
      "\thidden_layer_sizes:\t(64, 32, 16)\n",
      "\tlearning_rate_init:\t0.1\n",
      "\ttol:\t0.0001\n",
      "Best Score:\n",
      "\t0.886557\n",
      "\n",
      "-- Testing Results --\n",
      "Accuracy    on Verification Data:\t0.992792\n",
      "Fbeta scroe on Verification Data:\t0.879756\n",
      "\n",
      "              precision    recall  f1-score   support\n",
      "\n",
      "           0       1.00      0.99      1.00     56651\n",
      "           1       0.18      0.92      0.30        95\n",
      "\n",
      "    accuracy                           0.99     56746\n",
      "   macro avg       0.59      0.95      0.65     56746\n",
      "weighted avg       1.00      0.99      1.00     56746\n",
      "\n",
      "False negatives: 8 (8.421% out of 95 true positives, 0.014% overall)\n",
      "\n"
     ]
    }
   ],
   "source": [
    "# Evaluate the process\n",
    "nn_scaled_hpt_result = evaluate_hpt(\n",
    "    model=nn_scaled_model,\n",
    "    X_test=X_test_scaled_15,\n",
    "    y_true=y_true,\n",
    "    beta=BETA,\n",
    "    average=AVERAGE\n",
    ")"
   ]
  },
  {
   "cell_type": "code",
   "execution_count": 183,
   "metadata": {},
   "outputs": [
    {
     "data": {
      "image/png": "[encoded data removed]",
      "text/plain": [
       "<Figure size 550x400 with 2 Axes>"
      ]
     },
     "metadata": {},
     "output_type": "display_data"
    }
   ],
   "source": [
    "# Display the confusion matrix\n",
    "confusion_matrix(y_true, nn_scaled_hpt_result.predictions, \"Neural Network (Scaled; Reduced Feature Set)\")"
   ]
  },
  {
   "cell_type": "code",
   "execution_count": 184,
   "metadata": {},
   "outputs": [
    {
     "name": "stdout",
     "output_type": "stream",
     "text": [
      "-- HPT Evaluation --\n",
      "new_results.fbeta - old_results.fbeta = 0.011532 --> Improvement!\n",
      "new_results.accuracy - old_results.accuracy = -0.001692 --> Worsened!\n",
      "\n",
      "Best model so far:\n",
      "MLPClassifier(activation='logistic', early_stopping=True,\n",
      "              hidden_layer_sizes=(64, 32, 16), learning_rate_init=0.1,\n",
      "              random_state=404) with Parameters\n",
      "{'activation': 'logistic', 'alpha': 0.0001, 'hidden_layer_sizes': (64, 32, 16), 'learning_rate_init': 0.1, 'tol': 0.0001}\n",
      "Its score: 0.879756\n"
     ]
    }
   ],
   "source": [
    "_ = compare_models(nn_scaled_hpt_result, BEST_SCALED_HPT_15_RESULT)"
   ]
  },
  {
   "cell_type": "code",
   "execution_count": 185,
   "metadata": {},
   "outputs": [
    {
     "name": "stdout",
     "output_type": "stream",
     "text": [
      "CPU times: user 934 ms, sys: 12.5 ms, total: 947 ms\n",
      "Wall time: 131 ms\n"
     ]
    }
   ],
   "source": [
    "best_nn_scaled = nn_scaled_model.best_estimator_\n",
    "%time _ = best_nn_scaled.fit(X_train_scaled, y_train)"
   ]
  },
  {
   "cell_type": "code",
   "execution_count": 186,
   "metadata": {},
   "outputs": [
    {
     "name": "stdout",
     "output_type": "stream",
     "text": [
      "\n",
      "-- Testing Results --\n",
      "Accuracy    on Verification Data:\t0.998326\n",
      "Fbeta scroe on Verification Data:\t0.000000\n",
      "\n",
      "              precision    recall  f1-score   support\n",
      "\n",
      "           0       1.00      1.00      1.00     56651\n",
      "           1       0.00      0.00      0.00        95\n",
      "\n",
      "    accuracy                           1.00     56746\n",
      "   macro avg       0.50      0.50      0.50     56746\n",
      "weighted avg       1.00      1.00      1.00     56746\n",
      "\n",
      "False negatives: 95 (100.000% out of 95 true positives, 0.167% overall)\n",
      "\n"
     ]
    }
   ],
   "source": [
    "# Evaluate this model\n",
    "nn_scaled_model_result = evaluate_model(\n",
    "    model=best_nn_scaled,\n",
    "    X_test=X_test_scaled,\n",
    "    y_true=y_true,\n",
    "    beta=BETA,\n",
    "    average=AVERAGE\n",
    ")"
   ]
  },
  {
   "cell_type": "code",
   "execution_count": 187,
   "metadata": {},
   "outputs": [
    {
     "data": {
      "image/png": "[encoded data removed]",
      "text/plain": [
       "<Figure size 550x400 with 2 Axes>"
      ]
     },
     "metadata": {},
     "output_type": "display_data"
    }
   ],
   "source": [
    "# Display the confusion matrix\n",
    "confusion_matrix(y_true, nn_scaled_model_result.predictions, \"Ada Boost (Scaled, Full Feature Set)\")"
   ]
  },
  {
   "cell_type": "code",
   "execution_count": 188,
   "metadata": {},
   "outputs": [
    {
     "name": "stdout",
     "output_type": "stream",
     "text": [
      "-- Model Comparison --\n",
      "new_results.fbeta - old_results.fbeta = -0.879756 --> Worsened!\n",
      "new_results.accuracy - old_results.accuracy = 0.005533 --> Improvement!\n",
      "\n",
      "Best model so far:\n",
      "MLPClassifier(activation='logistic', early_stopping=True,\n",
      "              hidden_layer_sizes=(64, 32, 16), learning_rate_init=0.1,\n",
      "              random_state=404)\n",
      "Its score: 0.879756\n"
     ]
    }
   ],
   "source": [
    "# Check on learning progress when seeing the full feature set\n",
    "_ = compare_models(nn_scaled_model_result, nn_scaled_hpt_result)"
   ]
  },
  {
   "cell_type": "code",
   "execution_count": 189,
   "metadata": {},
   "outputs": [
    {
     "name": "stdout",
     "output_type": "stream",
     "text": [
      "-- Model Comparison --\n",
      "new_results.fbeta - old_results.fbeta = 0.014594 --> Improvement!\n",
      "new_results.accuracy - old_results.accuracy = -0.001075 --> Worsened!\n",
      "\n",
      "Best model so far:\n",
      "MLPClassifier(activation='logistic', early_stopping=True,\n",
      "              hidden_layer_sizes=(64, 32, 16), learning_rate_init=0.1,\n",
      "              random_state=404)\n",
      "Its score: 0.879756\n"
     ]
    }
   ],
   "source": [
    "_ = compare_models(nn_scaled_hpt_result, BEST_SCALED_HPT_RESULT)"
   ]
  },
  {
   "cell_type": "code",
   "execution_count": 223,
   "metadata": {},
   "outputs": [
    {
     "name": "stdout",
     "output_type": "stream",
     "text": [
      "-- Model Comparison --\n",
      "new_results.fbeta - old_results.fbeta = -0.865162 --> Worsened!\n",
      "new_results.accuracy - old_results.accuracy = 0.004458 --> Improvement!\n",
      "\n",
      "Best model so far:\n",
      "KNeighborsClassifier(n_jobs=-1, weights='distance')\n",
      "Its score: 0.865162\n"
     ]
    }
   ],
   "source": [
    "BEST_MODEL, BEST_SCORE = compare_models(nn_scaled_model_result, results(top_overall(1)[0]))"
   ]
  },
  {
   "cell_type": "code",
   "execution_count": 224,
   "metadata": {},
   "outputs": [],
   "source": [
    "add_scaled_model(\"Neural Network\", nn_scaled_model_result)"
   ]
  },
  {
   "cell_type": "markdown",
   "metadata": {},
   "source": [
    "--------------------------------------------------------------------------------\n",
    "\n",
    "## Voting Classification\n",
    "\n",
    "First, let's have a look at our best models."
   ]
  },
  {
   "cell_type": "code",
   "execution_count": 238,
   "metadata": {},
   "outputs": [
    {
     "data": {
      "text/plain": [
       "['K Nearest Neighbours',\n",
       " 'Support Vector Machine',\n",
       " 'Random Forest',\n",
       " 'Ada Boost']"
      ]
     },
     "execution_count": 238,
     "metadata": {},
     "output_type": "execute_result"
    }
   ],
   "source": [
    "num_models = 4\n",
    "best_scaled_models = top_scaled(num_models)         # top n models on scaled data\n",
    "best_unscaled_models = top_unscaled(num_models)     # top n models on unscaled data\n",
    "\n",
    "# For confirmation, print the top n for the scaled case:\n",
    "list(map(name, best_scaled_models))"
   ]
  },
  {
   "cell_type": "code",
   "execution_count": 239,
   "metadata": {},
   "outputs": [
    {
     "data": {
      "text/plain": [
       "['Logistic Regression', 'Random Forest', 'Neural Network', 'Ada Boost']"
      ]
     },
     "execution_count": 239,
     "metadata": {},
     "output_type": "execute_result"
    }
   ],
   "source": [
    "list(map(name, best_unscaled_models))"
   ]
  },
  {
   "cell_type": "markdown",
   "metadata": {},
   "source": [
    "Unfortunately, `SVC` doesn't support probability prediction, so it can't be used in the `VotingClassifier`.\n",
    "We need to remove it from our list of best models, if it is contained..."
   ]
  },
  {
   "cell_type": "code",
   "execution_count": 240,
   "metadata": {},
   "outputs": [],
   "source": [
    "best_scaled_models = list(top_scaled(num_models+1) | where (lambda model: \"Support Vector\" not in name(model)))[:num_models]\n",
    "best_unscaled_models = list(top_unscaled(num_models+1) | where (lambda model: \"Support Vector\" not in name(model)))[:num_models]"
   ]
  },
  {
   "cell_type": "code",
   "execution_count": 241,
   "metadata": {},
   "outputs": [
    {
     "data": {
      "text/plain": [
       "['K Nearest Neighbours', 'Random Forest', 'Ada Boost', 'Naive Bayes']"
      ]
     },
     "execution_count": 241,
     "metadata": {},
     "output_type": "execute_result"
    }
   ],
   "source": [
    "list(map(name, best_scaled_models))"
   ]
  },
  {
   "cell_type": "code",
   "execution_count": 242,
   "metadata": {},
   "outputs": [
    {
     "data": {
      "text/plain": [
       "['Logistic Regression', 'Random Forest', 'Neural Network', 'Ada Boost']"
      ]
     },
     "execution_count": 242,
     "metadata": {},
     "output_type": "execute_result"
    }
   ],
   "source": [
    "list(map(name, best_unscaled_models))"
   ]
  },
  {
   "cell_type": "code",
   "execution_count": 243,
   "metadata": {},
   "outputs": [],
   "source": [
    "from sklearn.ensemble import VotingClassifier"
   ]
  },
  {
   "cell_type": "code",
   "execution_count": 244,
   "metadata": {},
   "outputs": [],
   "source": [
    "# Construct the voting classifier with the best models\n",
    "def make_voting_classifier(models):\n",
    "    return VotingClassifier(\n",
    "        list(\n",
    "            map(\n",
    "                lambda model: (name(model), results(model).model),\n",
    "                models\n",
    "            )\n",
    "        ),\n",
    "        voting='soft',\n",
    "        n_jobs=-1\n",
    "    )\n",
    "compound_unscaled = make_voting_classifier(best_unscaled_models)\n",
    "compound_scaled = make_voting_classifier(best_scaled_models)"
   ]
  },
  {
   "cell_type": "code",
   "execution_count": 245,
   "metadata": {},
   "outputs": [
    {
     "name": "stdout",
     "output_type": "stream",
     "text": [
      "CPU times: user 8.69 ms, sys: 8.97 ms, total: 17.7 ms\n",
      "Wall time: 891 ms\n"
     ]
    }
   ],
   "source": [
    "# Train the classifiers\n",
    "\n",
    "%time _ = compound_unscaled.fit(X_train, y_train)"
   ]
  },
  {
   "cell_type": "code",
   "execution_count": 246,
   "metadata": {},
   "outputs": [
    {
     "name": "stdout",
     "output_type": "stream",
     "text": [
      "CPU times: user 5.72 ms, sys: 4.27 ms, total: 9.99 ms\n",
      "Wall time: 637 ms\n"
     ]
    }
   ],
   "source": [
    "%time _ = compound_scaled.fit(X_train_scaled, y_train)"
   ]
  },
  {
   "cell_type": "code",
   "execution_count": 247,
   "metadata": {},
   "outputs": [
    {
     "name": "stdout",
     "output_type": "stream",
     "text": [
      "\n",
      "-- Testing Results --\n",
      "Accuracy    on Verification Data:\t0.992546\n",
      "Fbeta scroe on Verification Data:\t0.858672\n",
      "\n",
      "              precision    recall  f1-score   support\n",
      "\n",
      "           0       1.00      0.99      1.00     56651\n",
      "           1       0.17      0.89      0.29        95\n",
      "\n",
      "    accuracy                           0.99     56746\n",
      "   macro avg       0.59      0.94      0.64     56746\n",
      "weighted avg       1.00      0.99      1.00     56746\n",
      "\n",
      "False negatives: 10 (10.526% out of 95 true positives, 0.018% overall)\n",
      "\n"
     ]
    }
   ],
   "source": [
    "# Evaluate the result\n",
    "compound_unscaled_result = evaluate_model(\n",
    "    model=compound_unscaled,\n",
    "    X_test=X_test,\n",
    "    y_true=y_true,\n",
    "    beta=BETA,\n",
    "    average=AVERAGE\n",
    ")"
   ]
  },
  {
   "cell_type": "code",
   "execution_count": 248,
   "metadata": {},
   "outputs": [
    {
     "data": {
      "image/png": "[encoded data removed]",
      "text/plain": [
       "<Figure size 550x400 with 2 Axes>"
      ]
     },
     "metadata": {},
     "output_type": "display_data"
    }
   ],
   "source": [
    "# Display the confusion matrix\n",
    "confusion_matrix(y_true, compound_unscaled_result.predictions, \"Voting Classifier\")"
   ]
  },
  {
   "cell_type": "code",
   "execution_count": 249,
   "metadata": {},
   "outputs": [
    {
     "name": "stdout",
     "output_type": "stream",
     "text": [
      "\n",
      "-- Testing Results --\n",
      "Accuracy    on Verification Data:\t0.988545\n",
      "Fbeta scroe on Verification Data:\t0.829893\n",
      "\n",
      "              precision    recall  f1-score   support\n",
      "\n",
      "           0       1.00      0.99      0.99     56651\n",
      "           1       0.12      0.88      0.21        95\n",
      "\n",
      "    accuracy                           0.99     56746\n",
      "   macro avg       0.56      0.94      0.60     56746\n",
      "weighted avg       1.00      0.99      0.99     56746\n",
      "\n",
      "False negatives: 11 (11.579% out of 95 true positives, 0.019% overall)\n",
      "\n"
     ]
    }
   ],
   "source": [
    "# Evaluate the result (on scaled data)\n",
    "compound_scaled_result = evaluate_model(\n",
    "    model=compound_scaled,\n",
    "    X_test=X_test_scaled,\n",
    "    y_true=y_true,\n",
    "    beta=BETA,\n",
    "    average=AVERAGE\n",
    ")"
   ]
  },
  {
   "cell_type": "code",
   "execution_count": 250,
   "metadata": {},
   "outputs": [
    {
     "data": {
      "image/png": "[encoded data removed]",
      "text/plain": [
       "<Figure size 550x400 with 2 Axes>"
      ]
     },
     "metadata": {},
     "output_type": "display_data"
    }
   ],
   "source": [
    "# Display the confusion matrix\n",
    "confusion_matrix(y_true, compound_scaled_result.predictions, \"Voting Classifier\")"
   ]
  },
  {
   "cell_type": "markdown",
   "metadata": {},
   "source": [
    "--------------------------------------------------------------------------------\n",
    "\n",
    "To next notebook: [Network Traffic EDA](./network-traffic-eda.ipynb)"
   ]
  }
 ],
 "metadata": {
  "kernelspec": {
   "display_name": ".venv",
   "language": "python",
   "name": "python3"
  },
  "language_info": {
   "codemirror_mode": {
    "name": "ipython",
    "version": 3
   },
   "file_extension": ".py",
   "mimetype": "text/x-python",
   "name": "python",
   "nbconvert_exporter": "python",
   "pygments_lexer": "ipython3",
   "version": "3.11.3"
  }
 },
 "nbformat": 4,
 "nbformat_minor": 2
}
