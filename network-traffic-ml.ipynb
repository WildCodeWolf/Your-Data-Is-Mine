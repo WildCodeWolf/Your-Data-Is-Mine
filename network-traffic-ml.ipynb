{
 "cells": [
  {
   "cell_type": "code",
   "execution_count": 3,
   "metadata": {},
   "outputs": [],
   "source": [
    "import pandas as pd\n",
    "import seaborn as sns\n",
    "import matplotlib.pyplot as plt\n",
    "import numpy as np\n",
    "from pipe import select, where, sort\n",
    "from sklearn.model_selection import train_test_split, GridSearchCV\n",
    "from sklearn.preprocessing import StandardScaler\n",
    "from sklearn.metrics import classification_report, ConfusionMatrixDisplay, accuracy_score, f1_score, fbeta_score, make_scorer\n",
    "\n",
    "sns.set_theme(style='whitegrid', context='paper')"
   ]
  },
  {
   "cell_type": "code",
   "execution_count": 4,
   "metadata": {},
   "outputs": [
    {
     "data": {
      "text/plain": [
       "['duration', 'protocol_type', 'service', 'flag', 'src_bytes']"
      ]
     },
     "execution_count": 4,
     "metadata": {},
     "output_type": "execute_result"
    }
   ],
   "source": [
    "# Read in column names from 'data/network-traffic/kddcup.names.dat'\n",
    "import re\n",
    "\n",
    "with open('data/network-traffic/kddcup.names.dat') as file:\n",
    "    col_re = r'(\\w+)\\:.*'\n",
    "    cols = [re.search(col_re, line)[1] for line in file.readlines()[1:]] + ['target']\n",
    "\n",
    "cols[:5]"
   ]
  },
  {
   "cell_type": "code",
   "execution_count": 5,
   "metadata": {},
   "outputs": [
    {
     "data": {
      "text/html": [
       "<div>\n",
       "<style scoped>\n",
       "    .dataframe tbody tr th:only-of-type {\n",
       "        vertical-align: middle;\n",
       "    }\n",
       "\n",
       "    .dataframe tbody tr th {\n",
       "        vertical-align: top;\n",
       "    }\n",
       "\n",
       "    .dataframe thead th {\n",
       "        text-align: right;\n",
       "    }\n",
       "</style>\n",
       "<table border=\"1\" class=\"dataframe\">\n",
       "  <thead>\n",
       "    <tr style=\"text-align: right;\">\n",
       "      <th></th>\n",
       "      <th>duration</th>\n",
       "      <th>protocol_type</th>\n",
       "      <th>service</th>\n",
       "      <th>flag</th>\n",
       "      <th>src_bytes</th>\n",
       "      <th>dst_bytes</th>\n",
       "      <th>land</th>\n",
       "      <th>wrong_fragment</th>\n",
       "      <th>urgent</th>\n",
       "      <th>hot</th>\n",
       "      <th>...</th>\n",
       "      <th>dst_host_srv_count</th>\n",
       "      <th>dst_host_same_srv_rate</th>\n",
       "      <th>dst_host_diff_srv_rate</th>\n",
       "      <th>dst_host_same_src_port_rate</th>\n",
       "      <th>dst_host_srv_diff_host_rate</th>\n",
       "      <th>dst_host_serror_rate</th>\n",
       "      <th>dst_host_srv_serror_rate</th>\n",
       "      <th>dst_host_rerror_rate</th>\n",
       "      <th>dst_host_srv_rerror_rate</th>\n",
       "      <th>target</th>\n",
       "    </tr>\n",
       "  </thead>\n",
       "  <tbody>\n",
       "    <tr>\n",
       "      <th>0</th>\n",
       "      <td>0</td>\n",
       "      <td>tcp</td>\n",
       "      <td>http</td>\n",
       "      <td>SF</td>\n",
       "      <td>215</td>\n",
       "      <td>45076</td>\n",
       "      <td>0</td>\n",
       "      <td>0</td>\n",
       "      <td>0</td>\n",
       "      <td>0</td>\n",
       "      <td>...</td>\n",
       "      <td>0</td>\n",
       "      <td>0.0</td>\n",
       "      <td>0.0</td>\n",
       "      <td>0.00</td>\n",
       "      <td>0.0</td>\n",
       "      <td>0.0</td>\n",
       "      <td>0.0</td>\n",
       "      <td>0.0</td>\n",
       "      <td>0.0</td>\n",
       "      <td>normal</td>\n",
       "    </tr>\n",
       "    <tr>\n",
       "      <th>1</th>\n",
       "      <td>0</td>\n",
       "      <td>tcp</td>\n",
       "      <td>http</td>\n",
       "      <td>SF</td>\n",
       "      <td>162</td>\n",
       "      <td>4528</td>\n",
       "      <td>0</td>\n",
       "      <td>0</td>\n",
       "      <td>0</td>\n",
       "      <td>0</td>\n",
       "      <td>...</td>\n",
       "      <td>1</td>\n",
       "      <td>1.0</td>\n",
       "      <td>0.0</td>\n",
       "      <td>1.00</td>\n",
       "      <td>0.0</td>\n",
       "      <td>0.0</td>\n",
       "      <td>0.0</td>\n",
       "      <td>0.0</td>\n",
       "      <td>0.0</td>\n",
       "      <td>normal</td>\n",
       "    </tr>\n",
       "    <tr>\n",
       "      <th>2</th>\n",
       "      <td>0</td>\n",
       "      <td>tcp</td>\n",
       "      <td>http</td>\n",
       "      <td>SF</td>\n",
       "      <td>236</td>\n",
       "      <td>1228</td>\n",
       "      <td>0</td>\n",
       "      <td>0</td>\n",
       "      <td>0</td>\n",
       "      <td>0</td>\n",
       "      <td>...</td>\n",
       "      <td>2</td>\n",
       "      <td>1.0</td>\n",
       "      <td>0.0</td>\n",
       "      <td>0.50</td>\n",
       "      <td>0.0</td>\n",
       "      <td>0.0</td>\n",
       "      <td>0.0</td>\n",
       "      <td>0.0</td>\n",
       "      <td>0.0</td>\n",
       "      <td>normal</td>\n",
       "    </tr>\n",
       "    <tr>\n",
       "      <th>3</th>\n",
       "      <td>0</td>\n",
       "      <td>tcp</td>\n",
       "      <td>http</td>\n",
       "      <td>SF</td>\n",
       "      <td>233</td>\n",
       "      <td>2032</td>\n",
       "      <td>0</td>\n",
       "      <td>0</td>\n",
       "      <td>0</td>\n",
       "      <td>0</td>\n",
       "      <td>...</td>\n",
       "      <td>3</td>\n",
       "      <td>1.0</td>\n",
       "      <td>0.0</td>\n",
       "      <td>0.33</td>\n",
       "      <td>0.0</td>\n",
       "      <td>0.0</td>\n",
       "      <td>0.0</td>\n",
       "      <td>0.0</td>\n",
       "      <td>0.0</td>\n",
       "      <td>normal</td>\n",
       "    </tr>\n",
       "    <tr>\n",
       "      <th>4</th>\n",
       "      <td>0</td>\n",
       "      <td>tcp</td>\n",
       "      <td>http</td>\n",
       "      <td>SF</td>\n",
       "      <td>239</td>\n",
       "      <td>486</td>\n",
       "      <td>0</td>\n",
       "      <td>0</td>\n",
       "      <td>0</td>\n",
       "      <td>0</td>\n",
       "      <td>...</td>\n",
       "      <td>4</td>\n",
       "      <td>1.0</td>\n",
       "      <td>0.0</td>\n",
       "      <td>0.25</td>\n",
       "      <td>0.0</td>\n",
       "      <td>0.0</td>\n",
       "      <td>0.0</td>\n",
       "      <td>0.0</td>\n",
       "      <td>0.0</td>\n",
       "      <td>normal</td>\n",
       "    </tr>\n",
       "  </tbody>\n",
       "</table>\n",
       "<p>5 rows × 42 columns</p>\n",
       "</div>"
      ],
      "text/plain": [
       "   duration protocol_type service flag  src_bytes  dst_bytes  land  \\\n",
       "0         0           tcp    http   SF        215      45076     0   \n",
       "1         0           tcp    http   SF        162       4528     0   \n",
       "2         0           tcp    http   SF        236       1228     0   \n",
       "3         0           tcp    http   SF        233       2032     0   \n",
       "4         0           tcp    http   SF        239        486     0   \n",
       "\n",
       "   wrong_fragment  urgent  hot  ...  dst_host_srv_count  \\\n",
       "0               0       0    0  ...                   0   \n",
       "1               0       0    0  ...                   1   \n",
       "2               0       0    0  ...                   2   \n",
       "3               0       0    0  ...                   3   \n",
       "4               0       0    0  ...                   4   \n",
       "\n",
       "   dst_host_same_srv_rate  dst_host_diff_srv_rate  \\\n",
       "0                     0.0                     0.0   \n",
       "1                     1.0                     0.0   \n",
       "2                     1.0                     0.0   \n",
       "3                     1.0                     0.0   \n",
       "4                     1.0                     0.0   \n",
       "\n",
       "   dst_host_same_src_port_rate  dst_host_srv_diff_host_rate  \\\n",
       "0                         0.00                          0.0   \n",
       "1                         1.00                          0.0   \n",
       "2                         0.50                          0.0   \n",
       "3                         0.33                          0.0   \n",
       "4                         0.25                          0.0   \n",
       "\n",
       "   dst_host_serror_rate  dst_host_srv_serror_rate  dst_host_rerror_rate  \\\n",
       "0                   0.0                       0.0                   0.0   \n",
       "1                   0.0                       0.0                   0.0   \n",
       "2                   0.0                       0.0                   0.0   \n",
       "3                   0.0                       0.0                   0.0   \n",
       "4                   0.0                       0.0                   0.0   \n",
       "\n",
       "   dst_host_srv_rerror_rate  target  \n",
       "0                       0.0  normal  \n",
       "1                       0.0  normal  \n",
       "2                       0.0  normal  \n",
       "3                       0.0  normal  \n",
       "4                       0.0  normal  \n",
       "\n",
       "[5 rows x 42 columns]"
      ]
     },
     "execution_count": 5,
     "metadata": {},
     "output_type": "execute_result"
    }
   ],
   "source": [
    "training_df = pd.read_csv('data/network-traffic/kddcup.data.csv', names=cols, index_col=False, header=None).drop_duplicates()\n",
    "testing_df = pd.read_csv('data/network-traffic/corrected.csv', names=cols, index_col=False, header=None).drop_duplicates()\n",
    "complete_df = pd.concat([training_df, testing_df], axis=0)\n",
    "\n",
    "training_df.head()"
   ]
  },
  {
   "cell_type": "markdown",
   "metadata": {},
   "source": [
    "--------------------------------------------------------------------------------\n",
    "\n",
    "# Preprocessing"
   ]
  },
  {
   "cell_type": "code",
   "execution_count": 6,
   "metadata": {},
   "outputs": [
    {
     "name": "stdout",
     "output_type": "stream",
     "text": [
      "<class 'pandas.core.frame.DataFrame'>\n",
      "Index: 1152283 entries, 0 to 310931\n",
      "Data columns (total 42 columns):\n",
      " #   Column                       Non-Null Count    Dtype  \n",
      "---  ------                       --------------    -----  \n",
      " 0   duration                     1152283 non-null  int64  \n",
      " 1   protocol_type                1152283 non-null  object \n",
      " 2   service                      1152283 non-null  object \n",
      " 3   flag                         1152283 non-null  object \n",
      " 4   src_bytes                    1152283 non-null  int64  \n",
      " 5   dst_bytes                    1152283 non-null  int64  \n",
      " 6   land                         1152283 non-null  int64  \n",
      " 7   wrong_fragment               1152283 non-null  int64  \n",
      " 8   urgent                       1152283 non-null  int64  \n",
      " 9   hot                          1152283 non-null  int64  \n",
      " 10  num_failed_logins            1152283 non-null  int64  \n",
      " 11  logged_in                    1152283 non-null  int64  \n",
      " 12  num_compromised              1152283 non-null  int64  \n",
      " 13  root_shell                   1152283 non-null  int64  \n",
      " 14  su_attempted                 1152283 non-null  int64  \n",
      " 15  num_root                     1152283 non-null  int64  \n",
      " 16  num_file_creations           1152283 non-null  int64  \n",
      " 17  num_shells                   1152283 non-null  int64  \n",
      " 18  num_access_files             1152283 non-null  int64  \n",
      " 19  num_outbound_cmds            1152283 non-null  int64  \n",
      " 20  is_host_login                1152283 non-null  int64  \n",
      " 21  is_guest_login               1152283 non-null  int64  \n",
      " 22  count                        1152283 non-null  int64  \n",
      " 23  srv_count                    1152283 non-null  int64  \n",
      " 24  serror_rate                  1152283 non-null  float64\n",
      " 25  srv_serror_rate              1152283 non-null  float64\n",
      " 26  rerror_rate                  1152283 non-null  float64\n",
      " 27  srv_rerror_rate              1152283 non-null  float64\n",
      " 28  same_srv_rate                1152283 non-null  float64\n",
      " 29  diff_srv_rate                1152283 non-null  float64\n",
      " 30  srv_diff_host_rate           1152283 non-null  float64\n",
      " 31  dst_host_count               1152283 non-null  int64  \n",
      " 32  dst_host_srv_count           1152283 non-null  int64  \n",
      " 33  dst_host_same_srv_rate       1152283 non-null  float64\n",
      " 34  dst_host_diff_srv_rate       1152283 non-null  float64\n",
      " 35  dst_host_same_src_port_rate  1152283 non-null  float64\n",
      " 36  dst_host_srv_diff_host_rate  1152283 non-null  float64\n",
      " 37  dst_host_serror_rate         1152283 non-null  float64\n",
      " 38  dst_host_srv_serror_rate     1152283 non-null  float64\n",
      " 39  dst_host_rerror_rate         1152283 non-null  float64\n",
      " 40  dst_host_srv_rerror_rate     1152283 non-null  float64\n",
      " 41  target                       1152283 non-null  object \n",
      "dtypes: float64(15), int64(23), object(4)\n",
      "memory usage: 378.0+ MB\n"
     ]
    }
   ],
   "source": [
    "complete_df.info()"
   ]
  },
  {
   "cell_type": "markdown",
   "metadata": {},
   "source": [
    "## Attack Classification\n",
    "\n",
    "Instead of training a model to identify indivicual attack types on the spot, we will aim for finding\n",
    "two models with two distinct tasks: the first is to find whether or not an attack is happening, the\n",
    "second is to classify the attack into one of the four groups."
   ]
  },
  {
   "cell_type": "code",
   "execution_count": 7,
   "metadata": {},
   "outputs": [
    {
     "name": "stdout",
     "output_type": "stream",
     "text": [
      "39 attack types are going to be classified into 4 distinct groups.\n"
     ]
    }
   ],
   "source": [
    "# Grouping of Attack Types\n",
    "attack_group_mapping_ = {\n",
    "    'neptune': 'dos',\n",
    "    'satan': 'probe',\n",
    "    'smurf': 'dos',\n",
    "    'ipsweep': 'probe',\n",
    "    'portsweep': 'probe',\n",
    "    'nmap': 'probe',\n",
    "    'guess_passwd': 'r2l',\n",
    "    'back': 'dos',\n",
    "    'mscan': 'probe',\n",
    "    'warezmaster': 'r2l',\n",
    "    'teardrop': 'dos',\n",
    "    'warezclient': 'r2l',\n",
    "    'apache2': 'dos',\n",
    "    'processtable': 'dos',\n",
    "    'saint': 'probe',\n",
    "    'snmpguess': 'probe',\n",
    "    'mailbomb': 'dos',\n",
    "    'pod': 'dos',\n",
    "    'snmpgetattack': 'dos',\n",
    "    'httptunnel': 'r2l',\n",
    "    'buffer_overflow': 'u2r',\n",
    "    'land': 'dos',\n",
    "    'multihop': 'r2l',\n",
    "    'rootkit': 'u2r',\n",
    "    'named': 'r2l',\n",
    "    'ps': 'u2r',\n",
    "    'sendmail': 'r2l',\n",
    "    'imap': 'r2l',\n",
    "    'xterm': 'r2l',\n",
    "    'loadmodule': 'u2r',\n",
    "    'ftp_write': 'r2l',\n",
    "    'xlock': 'r2l',\n",
    "    'phf': 'r2l',\n",
    "    'perl': 'u2r',\n",
    "    'xsnoop': 'r2l',\n",
    "    'udpstorm': 'dos',\n",
    "    'spy': 'r2l',\n",
    "    'worm': 'r2l',\n",
    "    'sqlattack': 'u2r'\n",
    "}\n",
    "print(f'{len(set(attack_group_mapping_.keys()))} attack types are going to be classified into {len(set(attack_group_mapping_.values()))} distinct groups.')\n",
    "def is_attack(target):\n",
    "    match target:\n",
    "        case 'normal':\n",
    "            return False\n",
    "        case _:\n",
    "            return True\n",
    "def group_attack_type(a_type): return attack_group_mapping_[a_type] if is_attack(a_type) else a_type"
   ]
  },
  {
   "cell_type": "code",
   "execution_count": 8,
   "metadata": {},
   "outputs": [],
   "source": [
    "# Add two columns to the data frames\n",
    "complete_df['target_group'] = complete_df.target.map(group_attack_type)\n",
    "training_df['target_group'] = training_df.target.map(group_attack_type)\n",
    "testing_df['target_group'] = testing_df.target.map(group_attack_type)\n",
    "complete_df['is_attack'] = complete_df.target.map(is_attack)\n",
    "training_df['is_attack'] = training_df.target.map(is_attack)\n",
    "testing_df['is_attack'] = testing_df.target.map(is_attack)"
   ]
  },
  {
   "cell_type": "code",
   "execution_count": 9,
   "metadata": {},
   "outputs": [
    {
     "name": "stdout",
     "output_type": "stream",
     "text": [
      "There are 5 columns of type `object`: ['protocol_type', 'service', 'flag', 'target', 'target_group'].\n"
     ]
    }
   ],
   "source": [
    "# Handle columns with `object`-type values\n",
    "object_column_names = [complete_df[col].name for col in complete_df.columns if complete_df[col].dtype == 'object']\n",
    "print(f'There are {len(object_column_names)} columns of type `object`: {object_column_names}.')"
   ]
  },
  {
   "cell_type": "code",
   "execution_count": 10,
   "metadata": {},
   "outputs": [
    {
     "data": {
      "text/plain": [
       "array(['tcp', 'udp', 'icmp'], dtype=object)"
      ]
     },
     "execution_count": 10,
     "metadata": {},
     "output_type": "execute_result"
    }
   ],
   "source": [
    "# Check out the 'protocol_type'\n",
    "training_df.protocol_type.unique()"
   ]
  },
  {
   "cell_type": "code",
   "execution_count": 11,
   "metadata": {},
   "outputs": [
    {
     "data": {
      "text/plain": [
       "array(['http', 'smtp', 'domain_u', 'auth', 'finger', 'telnet', 'eco_i',\n",
       "       'ftp', 'ntp_u', 'ecr_i', 'other', 'urp_i', 'private', 'pop_3',\n",
       "       'ftp_data', 'netstat', 'daytime', 'ssh', 'echo', 'time', 'name',\n",
       "       'whois', 'domain', 'mtp', 'gopher', 'remote_job', 'rje', 'ctf',\n",
       "       'supdup', 'link', 'systat', 'discard', 'X11', 'shell', 'login',\n",
       "       'imap4', 'nntp', 'uucp', 'pm_dump', 'IRC', 'Z39_50', 'netbios_dgm',\n",
       "       'ldap', 'sunrpc', 'courier', 'exec', 'bgp', 'csnet_ns', 'http_443',\n",
       "       'klogin', 'printer', 'netbios_ssn', 'pop_2', 'nnsp', 'efs',\n",
       "       'hostnames', 'uucp_path', 'sql_net', 'vmnet', 'iso_tsap',\n",
       "       'netbios_ns', 'kshell', 'urh_i', 'http_2784', 'harvest', 'aol',\n",
       "       'tftp_u', 'http_8001', 'tim_i', 'red_i'], dtype=object)"
      ]
     },
     "execution_count": 11,
     "metadata": {},
     "output_type": "execute_result"
    }
   ],
   "source": [
    "# Check out the `service`\n",
    "training_df.service.unique()"
   ]
  },
  {
   "cell_type": "code",
   "execution_count": 12,
   "metadata": {},
   "outputs": [
    {
     "data": {
      "text/plain": [
       "array(['SF', 'S2', 'S1', 'S3', 'OTH', 'REJ', 'RSTO', 'S0', 'RSTR',\n",
       "       'RSTOS0', 'SH'], dtype=object)"
      ]
     },
     "execution_count": 12,
     "metadata": {},
     "output_type": "execute_result"
    }
   ],
   "source": [
    "# Check out the `flag`\n",
    "training_df.flag.unique()"
   ]
  },
  {
   "cell_type": "code",
   "execution_count": 13,
   "metadata": {},
   "outputs": [
    {
     "data": {
      "text/plain": [
       "array(['normal', 'buffer_overflow', 'loadmodule', 'perl', 'neptune',\n",
       "       'smurf', 'guess_passwd', 'pod', 'teardrop', 'portsweep', 'ipsweep',\n",
       "       'land', 'ftp_write', 'back', 'imap', 'satan', 'phf', 'nmap',\n",
       "       'multihop', 'warezmaster', 'warezclient', 'spy', 'rootkit'],\n",
       "      dtype=object)"
      ]
     },
     "execution_count": 13,
     "metadata": {},
     "output_type": "execute_result"
    }
   ],
   "source": [
    "# check out the `target`\n",
    "training_df.target.unique()     # -> one-hot"
   ]
  },
  {
   "cell_type": "code",
   "execution_count": 19,
   "metadata": {},
   "outputs": [],
   "source": [
    "## Encoding using LabelEncoder (to align further research with Nilgün's notebook)\n",
    "from sklearn.preprocessing import LabelEncoder\n",
    "\n",
    "label_encoder = LabelEncoder()\n",
    "complete_df_enc_le = complete_df.copy()\n",
    "training_df_enc_le = training_df.copy()\n",
    "testing_df_enc_le = testing_df.copy()\n",
    "for column in object_column_names:\n",
    "    complete_df_enc_le[column] = label_encoder.fit_transform(complete_df[column])\n",
    "    training_df_enc_le[column] = label_encoder.transform(training_df[column])\n",
    "    testing_df_enc_le[column] = label_encoder.transform(testing_df[column])"
   ]
  },
  {
   "cell_type": "markdown",
   "metadata": {},
   "source": [
    "--------------------------------------------------------------------------------\n",
    "\n",
    "# Metrics and Reduced Datasets for HPT"
   ]
  },
  {
   "cell_type": "code",
   "execution_count": 20,
   "metadata": {},
   "outputs": [],
   "source": [
    "# Metrics\n",
    "beta = 10\n",
    "fbeta_scorer = make_scorer(fbeta_score, beta=beta)\n",
    "\n",
    "# Finding the best model\n",
    "BEST_MODEL_IS_ATTACK = None\n",
    "BEST_SCORE_IS_ATTACK = None\n",
    "BEST_MODEL_ATTACK_GROUP = None\n",
    "BEST_SCORE_ATTACK_GROUP = None"
   ]
  },
  {
   "cell_type": "code",
   "execution_count": 22,
   "metadata": {},
   "outputs": [],
   "source": [
    "# Selecting subsets of the data according to their importance for the models\n",
    "\n",
    "feature_imp_is_attack = {\n",
    "    'same_srv_rate': 0.21199866684770505,\n",
    "    'count': 0.1385794555921013,\n",
    "    'diff_srv_rate': 0.11660354574720663,\n",
    "    'src_bytes': 0.07133604504271888,\n",
    "    'flag': 0.0689813541719748,\n",
    "    'dst_host_srv_serror_rate': 0.0621598020912925,\n",
    "    'dst_bytes': 0.057168688956664895,\n",
    "    'dst_host_same_srv_rate': 0.05254858459557669,\n",
    "    'srv_serror_rate': 0.04469331875735019,\n",
    "    'serror_rate': 0.04097324469080398,\n",
    "    'service': 0.01868051080047695,\n",
    "    'dst_host_serror_rate': 0.01802081827734208,\n",
    "    'dst_host_srv_count': 0.011545183650792126,\n",
    "    'dst_host_same_src_port_rate': 0.011337335403034117,\n",
    "    'protocol_type': 0.01111283067949643,\n",
    "    'srv_count': 0.009167672319969513,\n",
    "    'dst_host_count': 0.00873490361773566,\n",
    "    'dst_host_srv_rerror_rate': 0.008354143406230159,\n",
    "    'dst_host_diff_srv_rate': 0.007982036329319523,\n",
    "    'logged_in': 0.007096409133012435,\n",
    "    'dst_host_srv_diff_host_rate': 0.006912055417103559,\n",
    "    'dst_host_rerror_rate': 0.0048513483664072345,\n",
    "    'rerror_rate': 0.0025784179881967813,\n",
    "    'wrong_fragment': 0.0020432908004560796,\n",
    "    'srv_rerror_rate': 0.0016133665984154693,\n",
    "    'num_compromised': 0.001456082442758954,\n",
    "    'duration': 0.0013066127485688805,\n",
    "    'hot': 0.0012589559107352938,\n",
    "    'srv_diff_host_rate': 0.0006086465735149157,\n",
    "    'is_guest_login': 0.00013464784144864953,\n",
    "    'num_root': 4.6925733316063196e-05,\n",
    "    'num_failed_logins': 4.487859382061017e-05,\n",
    "    'num_file_creations': 2.0557845839487765e-05,\n",
    "    'root_shell': 1.7416012225572053e-05,\n",
    "    'num_access_files': 1.2171215578937403e-05,\n",
    "    'num_shells': 8.344719212122783e-06,\n",
    "    'urgent': 4.825536792287678e-06,\n",
    "    'land': 4.449872331211087e-06,\n",
    "    'su_attempted': 2.354686052141186e-06,\n",
    "    'is_host_login': 1.0098642182210754e-07,\n",
    "    'num_outbound_cmds': 0.0,\n",
    "}\n",
    "feature_imp_attack_group = {\n",
    "    'count': 0.11920650442888907,\n",
    "    'same_srv_rate': 0.10508972465410206,\n",
    "    'diff_srv_rate': 0.08778113217680307,\n",
    "    'serror_rate': 0.06974624054103938,\n",
    "    'src_bytes': 0.0640681281401352,\n",
    "    'dst_host_serror_rate': 0.06197018656697434,\n",
    "    'dst_host_srv_serror_rate': 0.049256820180968386,\n",
    "    'flag': 0.0491294984749818,\n",
    "    'srv_serror_rate': 0.04423081413644857,\n",
    "    'dst_host_srv_count': 0.03069288273419006,\n",
    "    'dst_host_same_srv_rate': 0.020759103385937262,\n",
    "    'dst_host_diff_srv_rate': 0.01598050573983522,\n",
    "    'logged_in': 0.011148092661821485,\n",
    "    'dst_host_same_src_port_rate': 0.010252432103140747,\n",
    "    'dst_host_rerror_rate': 0.009870914010633081,\n",
    "    'dst_bytes': 0.008271947585178354,\n",
    "    'service': 0.007529789663669806,\n",
    "    'dst_host_srv_diff_host_rate': 0.006014249598252015,\n",
    "    'srv_count': 0.005338970005448468,\n",
    "    'protocol_type': 0.004343821344787647,\n",
    "    'dst_host_count': 0.003041925901452739,\n",
    "    'dst_host_srv_rerror_rate': 0.0023676962473431987,\n",
    "    'rerror_rate': 0.0022699746770110697,\n",
    "    'srv_rerror_rate': 0.002078234928357929,\n",
    "    'wrong_fragment': 0.0010900818924401603,\n",
    "    'duration': 0.0007935300753938383,\n",
    "    'srv_diff_host_rate': 0.0007000191956692632,\n",
    "    'num_compromised': 0.0005603127418954962,\n",
    "    'hot': 0.0005271824283889686,\n",
    "    'is_guest_login': 0.00014356022382561943,\n",
    "    'num_failed_logins': 3.086911390714573e-05,\n",
    "    'num_root': 1.5834502309349034e-05,\n",
    "    'root_shell': 1.3788709019323287e-05,\n",
    "    'num_file_creations': 1.3195338230340304e-05,\n",
    "    'land': 7.80724860591366e-06,\n",
    "    'num_access_files': 4.715672181492601e-06,\n",
    "    'num_shells': 2.8059963938124785e-06,\n",
    "    'urgent': 1.687193322355405e-06,\n",
    "    'su_attempted': 6.923677716956813e-07,\n",
    "    'num_outbound_cmds': 0.0,\n",
    "    'is_host_login': 0.0,\n",
    "}\n",
    "def feature(ranking): return ranking[0]\n",
    "def importance(ranking): return ranking[1]\n",
    "def top_n_features(n, features):\n",
    "    return list(\n",
    "        list(features.items())\n",
    "        | sort(importance, reverse=True)\n",
    "        | select(feature)\n",
    "    )[:n]\n",
    "def features_above(threshold, features):\n",
    "    return list(\n",
    "        list(features.items())\n",
    "        | where(lambda feature: importance(feature) >= threshold)\n",
    "        | select(feature)\n",
    "    )"
   ]
  },
  {
   "cell_type": "code",
   "execution_count": 23,
   "metadata": {},
   "outputs": [],
   "source": [
    "# For HPT, we will restrict ourselves to the top 15 respective most important features.\n",
    "top_features_is_attack = top_n_features(15, feature_imp_is_attack)\n",
    "top_features_attack_group = top_n_features(15, feature_imp_attack_group)"
   ]
  },
  {
   "cell_type": "code",
   "execution_count": 48,
   "metadata": {},
   "outputs": [],
   "source": [
    "# Attack Detection\n",
    "X_train_is_attack = training_df_enc_le[top_features_is_attack]\n",
    "y_train_is_attack = training_df_enc_le.is_attack\n",
    "X_test_is_attack = testing_df_enc_le[top_features_is_attack]\n",
    "y_true_is_attack = testing_df_enc_le.is_attack\n",
    "\n",
    "# Attack Classification\n",
    "X_train_attack_group = training_df_enc_le[training_df_enc_le.is_attack][top_features_attack_group]\n",
    "y_train_attack_group = training_df_enc_le[training_df_enc_le.is_attack].target_group\n",
    "X_test_attack_group = testing_df_enc_le[testing_df_enc_le.is_attack][top_features_attack_group]\n",
    "y_true_attack_group = testing_df_enc_le[testing_df_enc_le.is_attack].target_group"
   ]
  },
  {
   "cell_type": "markdown",
   "metadata": {},
   "source": [
    "--------------------------------------------------------------------------------\n",
    "\n",
    "# Random Forest Classification"
   ]
  },
  {
   "cell_type": "code",
   "execution_count": 25,
   "metadata": {},
   "outputs": [],
   "source": [
    "from sklearn.ensemble import RandomForestClassifier"
   ]
  },
  {
   "cell_type": "code",
   "execution_count": 49,
   "metadata": {},
   "outputs": [],
   "source": [
    "rf_is_attack_model = RandomForestClassifier(\n",
    "    n_estimators=100,\n",
    "    n_jobs=-1,\n",
    "    random_state=404\n",
    ").fit(X_train_is_attack, y_train_is_attack)\n",
    "\n",
    "rf_group_model = RandomForestClassifier(\n",
    "    n_estimators=100,\n",
    "    n_jobs=-1,\n",
    "    random_state=404\n",
    ").fit(X_train_attack_group, y_train_attack_group)"
   ]
  },
  {
   "cell_type": "code",
   "execution_count": 50,
   "metadata": {},
   "outputs": [],
   "source": [
    "rf_is_attack_pred = rf_is_attack_model.predict(X_test_is_attack)\n",
    "rf_attack_group_pred = rf_group_model.predict(X_test_attack_group)"
   ]
  },
  {
   "cell_type": "code",
   "execution_count": 51,
   "metadata": {},
   "outputs": [
    {
     "name": "stdout",
     "output_type": "stream",
     "text": [
      "(rf_is_attack_accuracy := accuracy_score(y_true_is_attack, rf_is_attack_pred)) = 0.9297330866465695\n",
      "(rf_is_attack_fbeta := fbeta_score(y_true_is_attack, rf_is_attack_pred, beta=beta, average=None)) = array([0.99329947, 0.82578597])\n",
      "\n",
      "              precision    recall  f1-score   support\n",
      "\n",
      "       False       0.90      0.99      0.95     47913\n",
      "        True       0.99      0.82      0.90     29378\n",
      "\n",
      "    accuracy                           0.93     77291\n",
      "   macro avg       0.95      0.91      0.92     77291\n",
      "weighted avg       0.94      0.93      0.93     77291\n",
      "\n"
     ]
    }
   ],
   "source": [
    "print(f'{(rf_is_attack_accuracy := accuracy_score(y_true_is_attack, rf_is_attack_pred)) = }')\n",
    "print(f'{(rf_is_attack_fbeta := fbeta_score(y_true_is_attack, rf_is_attack_pred, beta=beta, average=None)) = }\\n')\n",
    "print(classification_report(y_true_is_attack, rf_is_attack_pred))"
   ]
  },
  {
   "cell_type": "code",
   "execution_count": 52,
   "metadata": {},
   "outputs": [
    {
     "name": "stdout",
     "output_type": "stream",
     "text": [
      "(rf_attack_group_accuracy := accuracy_score(y_true_attack_group, rf_attack_group_pred)) = 0.9072775546327183\n",
      "(rf_attack_group_fbeta := fbeta_score(y_true_attack_group, rf_attack_group_pred, beta=beta, average=None)) = array([0.96321101, 0.82095444, 0.50242443, 0.14018043])\n",
      "\n",
      "              precision    recall  f1-score   support\n",
      "\n",
      "           0       0.96      0.96      0.96     23747\n",
      "           2       0.60      0.82      0.69      3041\n",
      "           3       0.91      0.50      0.64      2533\n",
      "           4       0.12      0.14      0.13        57\n",
      "\n",
      "    accuracy                           0.91     29378\n",
      "   macro avg       0.65      0.61      0.61     29378\n",
      "weighted avg       0.92      0.91      0.91     29378\n",
      "\n"
     ]
    }
   ],
   "source": [
    "print(f'{(rf_attack_group_accuracy := accuracy_score(y_true_attack_group, rf_attack_group_pred)) = }')\n",
    "print(f'{(rf_attack_group_fbeta := fbeta_score(y_true_attack_group, rf_attack_group_pred, beta=beta, average=None)) = }\\n')\n",
    "print(classification_report(y_true_attack_group, rf_attack_group_pred))"
   ]
  },
  {
   "cell_type": "markdown",
   "metadata": {},
   "source": [
    "## Hyperparameter Tuning"
   ]
  },
  {
   "cell_type": "code",
   "execution_count": 91,
   "metadata": {},
   "outputs": [],
   "source": [
    "beta = 10\n",
    "fbeta_average = 'weighted'\n",
    "accuracy_scorer = make_scorer(accuracy_score)\n",
    "f10_scorer = make_scorer(fbeta_score, beta=beta, average=fbeta_average)\n",
    "\n",
    "def hyperparameter_tuning(parameter_grid, base_estimator, X_train, y_train, scoring, refit=True, verbose=3):\n",
    "    return GridSearchCV(estimator=base_estimator, param_grid=parameter_grid, refit=refit, verbose=verbose, scoring=scoring).fit(X_train, y_train)"
   ]
  },
  {
   "cell_type": "code",
   "execution_count": 54,
   "metadata": {},
   "outputs": [],
   "source": [
    "rf_param_grid = {\n",
    "    'n_estimators': [20, 50, 100, 150],             # number of trees\n",
    "    'max_depth': [5, 10, 20, 40, 60, None],         # maximum tree size (number of decisions)\n",
    "    'criterion': ['gini', 'entropy', 'log_loss'],   # split criterion\n",
    "    'n_jobs': [-1],                                 # number of parallel jobs; use all available cores\n",
    "    'random_state': [404],                          # for reproducibility\n",
    "}"
   ]
  },
  {
   "cell_type": "code",
   "execution_count": null,
   "metadata": {},
   "outputs": [],
   "source": [
    "rf_is_attack_grid_search = hyperparameter_tuning(\n",
    "    parameter_grid=rf_param_grid,\n",
    "    base_estimator=RandomForestClassifier(),\n",
    "    X_train=X_train_is_attack,\n",
    "    y_train=y_train_is_attack,\n",
    "    scoring=f10_scorer\n",
    ")"
   ]
  },
  {
   "cell_type": "code",
   "execution_count": null,
   "metadata": {},
   "outputs": [],
   "source": [
    "rf_attack_group_grid_search = hyperparameter_tuning(\n",
    "    parameter_grid=rf_param_grid,\n",
    "    base_estimator=RandomForestClassifier(),\n",
    "    X_train=X_train_attack_group,\n",
    "    y_train=y_train_attack_group,\n",
    "    scoring=accuracy_scorer\n",
    ")"
   ]
  },
  {
   "cell_type": "code",
   "execution_count": 106,
   "metadata": {},
   "outputs": [],
   "source": [
    "from collections import namedtuple\n",
    "\n",
    "hpt_result = namedtuple('HyperparameterTuningResult', ['model', 'best_params', 'best_score', 'accuracy', 'fbeta'])\n",
    "\n",
    "def evaluate_hpt(model, X_test, y_true, beta=beta, average=fbeta_average):\n",
    "    best_params = model.best_params_\n",
    "    param_string = ''.join((f'\\t{key}:\\t{value}\\n' for key, value in best_params.items()))\n",
    "    best_score = model.best_score_\n",
    "    pred = model.predict(X_test)\n",
    "    acc = accuracy_score(y_true, pred)\n",
    "    fbeta = fbeta_score(y_true, pred, beta=beta, average=average)\n",
    "    print('-- Training Results --')\n",
    "    print(f'Best Parameters:\\n{param_string}', end='')\n",
    "    print(f'Best Score:\\n\\t{best_score:.6f}')\n",
    "    print('\\n-- Testing Results --')\n",
    "    print(f'Accuracy    on Verification Data:\\t{acc:.6f}')\n",
    "    print(f'Fbeta scroe on Verification Data:\\t{fbeta:.6f}\\n')\n",
    "    print(classification_report(y_true, pred))\n",
    "    return hpt_result(model, best_params, best_score, acc, fbeta)"
   ]
  },
  {
   "cell_type": "code",
   "execution_count": 93,
   "metadata": {},
   "outputs": [
    {
     "name": "stdout",
     "output_type": "stream",
     "text": [
      "-- Training Results --\n",
      "Best Parameters:\n",
      "\tcriterion:\tentropy\n",
      "\tmax_depth:\t10\n",
      "\tn_estimators:\t100\n",
      "\tn_jobs:\t-1\n",
      "\trandom_state:\t404\n",
      "Best Score:\n",
      "\t0.990874\n",
      "\n",
      "-- Testing Results --\n",
      "Accuracy    on Verification Data:\t0.925606\n",
      "Fbeta scroe on Verification Data:\t0.925486\n",
      "\n",
      "              precision    recall  f1-score   support\n",
      "\n",
      "       False       0.90      0.99      0.94     47913\n",
      "        True       0.99      0.81      0.89     29378\n",
      "\n",
      "    accuracy                           0.93     77291\n",
      "   macro avg       0.94      0.90      0.92     77291\n",
      "weighted avg       0.93      0.93      0.92     77291\n",
      "\n"
     ]
    }
   ],
   "source": [
    "rf_result_is_attack = evaluate_hpt(\n",
    "    model=rf_is_attack_grid_search,\n",
    "    X_test=X_test_is_attack,\n",
    "    y_true=y_true_is_attack\n",
    ")"
   ]
  },
  {
   "cell_type": "code",
   "execution_count": 61,
   "metadata": {},
   "outputs": [],
   "source": [
    "from sklearn.metrics import confusion_matrix\n",
    "\n",
    "def simple_confusion_matrix(y_true, y_pred, target):\n",
    "    sns.heatmap(data=confusion_matrix(y_true, y_pred), annot=True, cmap='viridis')\n",
    "    plt.title(f'Confusion Matrix for Target \"{target}\"')\n",
    "    plt.xlabel('Predicted label')\n",
    "    plt.ylabel('True label')\n",
    "    plt.show()"
   ]
  },
  {
   "cell_type": "code",
   "execution_count": 62,
   "metadata": {},
   "outputs": [
    {
     "data": {
      "image/png": "[encoded data removed]",
      "text/plain": [
       "<Figure size 640x480 with 2 Axes>"
      ]
     },
     "metadata": {},
     "output_type": "display_data"
    }
   ],
   "source": [
    "simple_confusion_matrix(y_true_is_attack, rf_is_attack_pred, 'is_attack')"
   ]
  },
  {
   "cell_type": "code",
   "execution_count": 94,
   "metadata": {},
   "outputs": [
    {
     "name": "stdout",
     "output_type": "stream",
     "text": [
      "-- Training Results --\n",
      "Best Parameters:\n",
      "\tcriterion:\tgini\n",
      "\tmax_depth:\t20\n",
      "\tn_estimators:\t20\n",
      "\tn_jobs:\t-1\n",
      "\trandom_state:\t404\n",
      "Best Score:\n",
      "\t0.844451\n",
      "\n",
      "-- Testing Results --\n",
      "Accuracy    on Verification Data:\t0.906767\n",
      "Fbeta scroe on Verification Data:\t0.906661\n",
      "\n",
      "              precision    recall  f1-score   support\n",
      "\n",
      "           0       0.96      0.96      0.96     23747\n",
      "           2       0.62      0.82      0.70      3041\n",
      "           3       0.82      0.50      0.62      2533\n",
      "           4       0.14      0.16      0.15        57\n",
      "\n",
      "    accuracy                           0.91     29378\n",
      "   macro avg       0.64      0.61      0.61     29378\n",
      "weighted avg       0.91      0.91      0.91     29378\n",
      "\n"
     ]
    }
   ],
   "source": [
    "rf_result_attack_group = evaluate_hpt(\n",
    "    model=rf_attack_group_grid_search,\n",
    "    X_test=X_test_attack_group,\n",
    "    y_true=y_true_attack_group\n",
    ")"
   ]
  },
  {
   "cell_type": "code",
   "execution_count": 102,
   "metadata": {},
   "outputs": [],
   "source": [
    "def compare_models(new_results, old_results):\n",
    "    is_improved = new_results.fbeta > old_results.fbeta\n",
    "    print('-- HPT Evaluation --')\n",
    "    print(f'{new_results.fbeta - old_results.fbeta = :.6f}', end='')\n",
    "    print(' --> Improvement!') if is_improved else print(' --> Worsened!')\n",
    "    print(f'{new_results.accuracy - old_results.accuracy = :.6f}', end='')\n",
    "    print(' --> Improvement!') if new_results.accuracy > old_results.accuracy else print(' --> Worsened!')\n",
    "\n",
    "    print(f'\\nBest model so far:')\n",
    "    best_results = new_results if is_improved else old_results\n",
    "    best_model = f'{best_results.model.estimator} with Parameters\\n{best_results.best_params}'\n",
    "    best_score = new_results.fbeta if is_improved else old_results.fbeta\n",
    "    print(f'{best_model}\\nIts score: {best_score:.6f}')\n",
    "\n",
    "    return best_model, best_score"
   ]
  },
  {
   "cell_type": "code",
   "execution_count": 105,
   "metadata": {},
   "outputs": [
    {
     "name": "stdout",
     "output_type": "stream",
     "text": [
      "-- HPT Evaluation --\n",
      "new_results.fbeta - old_results.fbeta = 0.000000 --> Worsened!\n",
      "new_results.accuracy - old_results.accuracy = 0.000000 --> Worsened!\n",
      "\n",
      "Best model so far:\n",
      "RandomForestClassifier() with Parameters\n",
      "{'criterion': 'entropy', 'max_depth': 10, 'n_estimators': 100, 'n_jobs': -1, 'random_state': 404}\n",
      "Its score: 0.925486\n",
      "\n",
      "-- HPT Evaluation --\n",
      "new_results.fbeta - old_results.fbeta = 0.000000 --> Worsened!\n",
      "new_results.accuracy - old_results.accuracy = 0.000000 --> Worsened!\n",
      "\n",
      "Best model so far:\n",
      "RandomForestClassifier() with Parameters\n",
      "{'criterion': 'gini', 'max_depth': 20, 'n_estimators': 20, 'n_jobs': -1, 'random_state': 404}\n",
      "Its score: 0.906661\n"
     ]
    }
   ],
   "source": [
    "BEST_MODEL_IS_ATTACK, BEST_SCORE_IS_ATTACK = compare_models(rf_result_is_attack, rf_result_is_attack)\n",
    "print()\n",
    "BEST_MODEL_ATTACK_GROUP, BEST_SCORE_ATTACK_GROUP = compare_models(rf_result_attack_group, rf_result_attack_group)"
   ]
  },
  {
   "cell_type": "code",
   "execution_count": null,
   "metadata": {},
   "outputs": [],
   "source": []
  }
 ],
 "metadata": {
  "kernelspec": {
   "display_name": ".venv",
   "language": "python",
   "name": "python3"
  },
  "language_info": {
   "codemirror_mode": {
    "name": "ipython",
    "version": 3
   },
   "file_extension": ".py",
   "mimetype": "text/x-python",
   "name": "python",
   "nbconvert_exporter": "python",
   "pygments_lexer": "ipython3",
   "version": "3.11.3"
  }
 },
 "nbformat": 4,
 "nbformat_minor": 2
}
