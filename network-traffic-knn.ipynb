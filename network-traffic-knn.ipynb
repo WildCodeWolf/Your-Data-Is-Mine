{
 "cells": [
  {
   "cell_type": "code",
   "execution_count": 11,
   "metadata": {},
   "outputs": [],
   "source": [
    "from collections import namedtuple\n",
    "import numpy as np\n",
    "import re\n",
    "from pipe import select, where, sort\n",
    "import pandas as pd\n",
    "import seaborn as sns\n",
    "import matplotlib.pyplot as plt\n",
    "from sklearn.preprocessing import StandardScaler\n",
    "from sklearn.neighbors import KNeighborsClassifier\n",
    "from sklearn.metrics import classification_report, confusion_matrix, accuracy_score, fbeta_score, make_scorer\n",
    "from sklearn.preprocessing import LabelEncoder\n",
    "\n",
    "import presentation as p\n",
    "\n",
    "with open('data/network-traffic/kddcup.names.dat') as file:\n",
    "    col_re = r'(\\w+)\\:.*'\n",
    "    cols = [re.search(col_re, line)[1] for line in file.readlines()[1:]] + ['target']\n",
    "\n",
    "training_df = pd.read_csv('data/network-traffic/kddcup.data.csv', names=cols, index_col=False, header=None)\n",
    "testing_df = pd.read_csv('data/network-traffic/corrected.csv', names=cols, index_col=False, header=None)\n",
    "complete_df = pd.concat([training_df, testing_df], axis=0)\n",
    "\n",
    "# Grouping of Attack Types\n",
    "attack_group_mapping_ = {\n",
    "    'neptune': 'dos',\n",
    "    'satan': 'probe',\n",
    "    'smurf': 'dos',\n",
    "    'ipsweep': 'probe',\n",
    "    'portsweep': 'probe',\n",
    "    'nmap': 'probe',\n",
    "    'guess_passwd': 'r2l',\n",
    "    'back': 'dos',\n",
    "    'mscan': 'probe',\n",
    "    'warezmaster': 'r2l',\n",
    "    'teardrop': 'dos',\n",
    "    'warezclient': 'r2l',\n",
    "    'apache2': 'dos',\n",
    "    'processtable': 'dos',\n",
    "    'saint': 'probe',\n",
    "    'snmpguess': 'probe',\n",
    "    'mailbomb': 'dos',\n",
    "    'pod': 'dos',\n",
    "    'snmpgetattack': 'dos',\n",
    "    'httptunnel': 'r2l',\n",
    "    'buffer_overflow': 'u2r',\n",
    "    'land': 'dos',\n",
    "    'multihop': 'r2l',\n",
    "    'rootkit': 'u2r',\n",
    "    'named': 'r2l',\n",
    "    'ps': 'u2r',\n",
    "    'sendmail': 'r2l',\n",
    "    'imap': 'r2l',\n",
    "    'xterm': 'r2l',\n",
    "    'loadmodule': 'u2r',\n",
    "    'ftp_write': 'r2l',\n",
    "    'xlock': 'r2l',\n",
    "    'phf': 'r2l',\n",
    "    'perl': 'u2r',\n",
    "    'xsnoop': 'r2l',\n",
    "    'udpstorm': 'dos',\n",
    "    'spy': 'r2l',\n",
    "    'worm': 'r2l',\n",
    "    'sqlattack': 'u2r'\n",
    "}\n",
    "def is_attack(target):\n",
    "    match target:\n",
    "        case 'normal':\n",
    "            return False\n",
    "        case _:\n",
    "            return True\n",
    "def group_attack_type(a_type): return attack_group_mapping_[a_type] if is_attack(a_type) else a_type\n",
    "\n",
    "complete_df['target_group'] = complete_df.target.map(group_attack_type)\n",
    "training_df['target_group'] = training_df.target.map(group_attack_type)\n",
    "testing_df['target_group'] = testing_df.target.map(group_attack_type)\n",
    "complete_df['is_attack'] = complete_df.target.map(is_attack)\n",
    "training_df['is_attack'] = training_df.target.map(is_attack)\n",
    "testing_df['is_attack'] = testing_df.target.map(is_attack)\n",
    "\n",
    "# Numeric columns\n",
    "scalable_columns = [col for col in complete_df.columns if complete_df[col].dtype == 'float64'] +\\\n",
    "                   [col for col in complete_df.columns if complete_df[col].dtype == 'int64' and complete_df[col].nunique() > 2]\n",
    "scaler = StandardScaler()\n",
    "complete_df_scaled = complete_df.copy()\n",
    "complete_df_scaled[scalable_columns] = scaler.fit_transform(complete_df_scaled[scalable_columns])\n",
    "training_df_scaled = training_df.copy()\n",
    "training_df_scaled[scalable_columns] = scaler.fit_transform(training_df_scaled[scalable_columns])\n",
    "testing_df_scaled = testing_df.copy()\n",
    "testing_df_scaled[scalable_columns] = scaler.fit_transform(testing_df_scaled[scalable_columns])\n",
    "\n",
    "# Columns with 'object' type\n",
    "object_column_names = [complete_df[col].name for col in complete_df.columns if complete_df[col].dtype == 'object']\n",
    "\n",
    "label_encoder = LabelEncoder()\n",
    "complete_df_enc_le = complete_df.copy()\n",
    "complete_df_scaled_enc_le = complete_df_scaled.copy()\n",
    "training_df_enc_le = training_df.copy()\n",
    "training_df_scaled_enc_le = training_df_scaled.copy()\n",
    "testing_df_enc_le = testing_df.copy()\n",
    "testing_df_scaled_enc_le = testing_df_scaled.copy()\n",
    "for column in object_column_names:\n",
    "    complete_df_enc_le[column] = label_encoder.fit_transform(complete_df[column])\n",
    "    complete_df_scaled_enc_le[column] = label_encoder.transform(complete_df_scaled[column])\n",
    "    training_df_enc_le[column] = label_encoder.transform(training_df[column])\n",
    "    training_df_scaled_enc_le[column] = label_encoder.transform(training_df_scaled[column])\n",
    "    testing_df_enc_le[column] = label_encoder.transform(testing_df[column])\n",
    "    testing_df_scaled_enc_le[column] = label_encoder.transform(testing_df_scaled[column])\n",
    "\n",
    "training_df_clean = training_df.drop_duplicates()\n",
    "training_df_scaled_clean = training_df_scaled.drop_duplicates()\n",
    "training_df_enc_le_clean = training_df_enc_le.drop_duplicates()\n",
    "training_df_scaled_enc_le_clean = training_df_scaled_enc_le.drop_duplicates()\n",
    "testing_df_clean = testing_df.drop_duplicates()\n",
    "testing_df_scaled_clean = testing_df_scaled.drop_duplicates()\n",
    "testing_df_enc_le_clean = testing_df_enc_le.drop_duplicates()\n",
    "testing_df_scaled_enc_le_clean = testing_df_scaled_enc_le.drop_duplicates()\n",
    "complete_df_clean = complete_df.drop_duplicates()\n",
    "complete_df_scaled_clean = complete_df_scaled.drop_duplicates()\n",
    "complete_df_enc_le_clean = complete_df_enc_le.drop_duplicates()\n",
    "complete_df_scaled_enc_le_clean = complete_df_scaled_enc_le.drop_duplicates()\n",
    "\n",
    "X_train_is_attack = training_df_scaled_enc_le_clean.drop(['target', 'target_group', 'is_attack'], axis=1)\n",
    "#X_train_attack_group = training_df_enc_le_clean[training_df_scaled_enc_le_clean.is_attack].drop(['target', 'target_group', 'is_attack'], axis=1)\n",
    "X_train_attack_group = training_df_scaled_enc_le_clean[training_df_scaled_enc_le_clean.is_attack].drop(['target', 'target_group', 'is_attack'], axis=1)\n",
    "y_train_is_attack = training_df_scaled_enc_le_clean.is_attack\n",
    "#y_train_attack_group = training_df_enc_le_clean[training_df_scaled_enc_le_clean.is_attack].target_group\n",
    "y_train_attack_group = training_df_scaled_enc_le_clean[training_df_scaled_enc_le_clean.is_attack].target_group\n",
    "X_test_is_attack = testing_df_scaled_enc_le_clean.drop(['target', 'target_group', 'is_attack'], axis=1)\n",
    "#X_test_attack_group = testing_df_enc_le_clean[testing_df_enc_le_clean.is_attack].drop(['target', 'target_group', 'is_attack'], axis=1)\n",
    "X_test_attack_group = testing_df_scaled_enc_le_clean[testing_df_enc_le_clean.is_attack].drop(['target', 'target_group', 'is_attack'], axis=1)\n",
    "y_true_is_attack = testing_df_scaled_enc_le_clean.is_attack\n",
    "#y_true_attack_group = testing_df_enc_le_clean[testing_df_enc_le_clean.is_attack].target_group\n",
    "y_true_attack_group = testing_df_scaled_enc_le_clean[testing_df_enc_le_clean.is_attack].target_group\n",
    "\n",
    "# Metrics\n",
    "beta = 10\n",
    "fbeta_average = 'weighted'\n",
    "accuracy_scorer = make_scorer(accuracy_score)\n",
    "f10_scorer = make_scorer(fbeta_score, beta=beta, average=fbeta_average)\n",
    "\n",
    "def simple_confusion_matrix(y_true, y_pred, target):\n",
    "    sns.heatmap(data=confusion_matrix(y_true, y_pred), annot=True, cmap=p.Colors.blues_c)\n",
    "    plt.title(f'Confusion Matrix for Target \"{target}\"')\n",
    "    plt.xlabel('Predicted label')\n",
    "    plt.ylabel('True label')\n",
    "    plt.show()\n",
    "\n",
    "eval_result = namedtuple('HyperparameterTuningResult', ['model', 'accuracy', 'fbeta'])\n",
    "\n",
    "def evaluate_model(model, X_test, y_true, beta=beta, average=fbeta_average):\n",
    "    pred = model.predict(X_test)\n",
    "    acc = accuracy_score(y_true, pred)\n",
    "    fbeta = fbeta_score(y_true, pred, beta=beta, average=average)\n",
    "    #print('-- Training Results --')\n",
    "    #print(f'Best Parameters:\\n{param_string}', end='')\n",
    "    #print(f'Best Score:\\n\\t{best_score:.6f}')\n",
    "    print('\\n-- Testing Results --')\n",
    "    print(f'Accuracy    on Verification Data:\\t{acc:.6f}')\n",
    "    print(f'Fbeta scroe on Verification Data:\\t{fbeta:.6f}\\n')\n",
    "    print(classification_report(y_true, pred))\n",
    "    return eval_result(model, acc, fbeta)"
   ]
  },
  {
   "cell_type": "markdown",
   "metadata": {},
   "source": [
    "We found the best random forest classifier on the reduced dataset with the following details:\n",
    "\n",
    "## Attack Detection\n",
    "\n",
    "```txt\n",
    "-- Training Results --\n",
    "Best Parameters:\n",
    "\tn_jobs:\t-1\n",
    "\tn_neighbors:\t20\n",
    "\tweights:\tdistance\n",
    "Best Score:\n",
    "\t0.996397\n",
    "\n",
    "-- Testing Results --\n",
    "Accuracy    on Verification Data:\t0.926628\n",
    "Fbeta scroe on Verification Data:\t0.926530\n",
    "\n",
    "              precision    recall  f1-score   support\n",
    "\n",
    "       False       0.90      0.99      0.94     47913\n",
    "        True       0.98      0.82      0.90     29378\n",
    "\n",
    "    accuracy                           0.93     77291\n",
    "   macro avg       0.94      0.91      0.92     77291\n",
    "weighted avg       0.93      0.93      0.93     77291\n",
    "```\n",
    "\n",
    "## Attack Classification\n",
    "\n",
    "```txt\n",
    "-- Training Results --\n",
    "Best Parameters:\n",
    "\tn_jobs:\t-1\n",
    "\tn_neighbors:\t100\n",
    "\tweights:\tuniform\n",
    "Best Score:\n",
    "\t0.977412\n",
    "\n",
    "-- Testing Results --\n",
    "Accuracy    on Verification Data:\t0.854245\n",
    "Fbeta scroe on Verification Data:\t0.853874\n",
    "\n",
    "              precision    recall  f1-score   support\n",
    "\n",
    "           0       0.94      0.95      0.95     23747\n",
    "           2       0.42      0.67      0.52      3041\n",
    "           3       0.90      0.18      0.30      2533\n",
    "           4       0.00      0.00      0.00        57\n",
    "\n",
    "    accuracy                           0.85     29378\n",
    "   macro avg       0.57      0.45      0.44     29378\n",
    "weighted avg       0.88      0.85      0.84     29378\n",
    "```\n",
    "\n",
    "Now, we will use this parameterset and train the classifier on the entire dataset."
   ]
  },
  {
   "cell_type": "code",
   "execution_count": 2,
   "metadata": {},
   "outputs": [],
   "source": [
    "model_is_attack = KNeighborsClassifier(\n",
    "    n_neighbors=20,\n",
    "    weights='distance',\n",
    "    n_jobs=-1\n",
    ").fit(X_train_is_attack, y_train_is_attack)"
   ]
  },
  {
   "cell_type": "code",
   "execution_count": 3,
   "metadata": {},
   "outputs": [],
   "source": [
    "y_pred_is_attack = model_is_attack.predict(X_test_is_attack)"
   ]
  },
  {
   "cell_type": "code",
   "execution_count": 4,
   "metadata": {},
   "outputs": [
    {
     "name": "stdout",
     "output_type": "stream",
     "text": [
      "\n",
      "-- Testing Results --\n",
      "Accuracy    on Verification Data:\t0.926175\n",
      "Fbeta scroe on Verification Data:\t0.926098\n",
      "\n",
      "              precision    recall  f1-score   support\n",
      "\n",
      "       False       0.91      0.98      0.94     47913\n",
      "        True       0.97      0.83      0.90     29378\n",
      "\n",
      "    accuracy                           0.93     77291\n",
      "   macro avg       0.94      0.91      0.92     77291\n",
      "weighted avg       0.93      0.93      0.92     77291\n",
      "\n"
     ]
    }
   ],
   "source": [
    "result_is_attack = evaluate_model(model_is_attack, X_test_is_attack, y_true_is_attack)"
   ]
  },
  {
   "cell_type": "code",
   "execution_count": 5,
   "metadata": {},
   "outputs": [
    {
     "data": {
      "image/png": "[encoded data removed]",
      "text/plain": [
       "<Figure size 640x480 with 2 Axes>"
      ]
     },
     "metadata": {},
     "output_type": "display_data"
    }
   ],
   "source": [
    "simple_confusion_matrix(y_true_is_attack, y_pred_is_attack, 'is_attack')"
   ]
  },
  {
   "cell_type": "code",
   "execution_count": 12,
   "metadata": {},
   "outputs": [],
   "source": [
    "model_attack_group = KNeighborsClassifier(\n",
    "    n_neighbors=100,\n",
    "    weights='uniform',\n",
    "    n_jobs=-1\n",
    ").fit(X_train_attack_group, y_train_attack_group)"
   ]
  },
  {
   "cell_type": "code",
   "execution_count": 13,
   "metadata": {},
   "outputs": [],
   "source": [
    "y_pred_attack_group = model_attack_group.predict(X_test_attack_group)"
   ]
  },
  {
   "cell_type": "code",
   "execution_count": 14,
   "metadata": {},
   "outputs": [
    {
     "name": "stdout",
     "output_type": "stream",
     "text": [
      "\n",
      "-- Testing Results --\n",
      "Accuracy    on Verification Data:\t0.876098\n",
      "Fbeta scroe on Verification Data:\t0.875650\n",
      "\n",
      "              precision    recall  f1-score   support\n",
      "\n",
      "           0       0.92      0.97      0.95     23747\n",
      "           2       0.56      0.74      0.64      3041\n",
      "           3       0.97      0.21      0.35      2533\n",
      "           4       0.00      0.00      0.00        57\n",
      "\n",
      "    accuracy                           0.88     29378\n",
      "   macro avg       0.61      0.48      0.48     29378\n",
      "weighted avg       0.89      0.88      0.86     29378\n",
      "\n"
     ]
    },
    {
     "name": "stderr",
     "output_type": "stream",
     "text": [
      "/Users/wolf/0-Projects/Your-Data-Is-Mine/.venv/lib/python3.11/site-packages/sklearn/metrics/_classification.py:1517: UndefinedMetricWarning: Precision is ill-defined and being set to 0.0 in labels with no predicted samples. Use `zero_division` parameter to control this behavior.\n",
      "  _warn_prf(average, modifier, f\"{metric.capitalize()} is\", len(result))\n",
      "/Users/wolf/0-Projects/Your-Data-Is-Mine/.venv/lib/python3.11/site-packages/sklearn/metrics/_classification.py:1517: UndefinedMetricWarning: Precision is ill-defined and being set to 0.0 in labels with no predicted samples. Use `zero_division` parameter to control this behavior.\n",
      "  _warn_prf(average, modifier, f\"{metric.capitalize()} is\", len(result))\n",
      "/Users/wolf/0-Projects/Your-Data-Is-Mine/.venv/lib/python3.11/site-packages/sklearn/metrics/_classification.py:1517: UndefinedMetricWarning: Precision is ill-defined and being set to 0.0 in labels with no predicted samples. Use `zero_division` parameter to control this behavior.\n",
      "  _warn_prf(average, modifier, f\"{metric.capitalize()} is\", len(result))\n"
     ]
    }
   ],
   "source": [
    "result_attack_group = evaluate_model(model_attack_group, X_test_attack_group, y_true_attack_group)"
   ]
  },
  {
   "cell_type": "code",
   "execution_count": 15,
   "metadata": {},
   "outputs": [
    {
     "data": {
      "image/png": "[encoded data removed]",
      "text/plain": [
       "<Figure size 640x480 with 2 Axes>"
      ]
     },
     "metadata": {},
     "output_type": "display_data"
    }
   ],
   "source": [
    "simple_confusion_matrix(y_true_attack_group, y_pred_attack_group, 'target_group')"
   ]
  },
  {
   "cell_type": "code",
   "execution_count": null,
   "metadata": {},
   "outputs": [],
   "source": []
  }
 ],
 "metadata": {
  "kernelspec": {
   "display_name": ".venv",
   "language": "python",
   "name": "python3"
  },
  "language_info": {
   "codemirror_mode": {
    "name": "ipython",
    "version": 3
   },
   "file_extension": ".py",
   "mimetype": "text/x-python",
   "name": "python",
   "nbconvert_exporter": "python",
   "pygments_lexer": "ipython3",
   "version": "3.11.3"
  }
 },
 "nbformat": 4,
 "nbformat_minor": 2
}
